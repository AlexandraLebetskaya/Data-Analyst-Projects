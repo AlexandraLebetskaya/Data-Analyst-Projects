{
 "cells": [
  {
   "cell_type": "markdown",
   "metadata": {},
   "source": [
    " Тариф «Смарт»\n",
    "* Ежемесячная плата: 550 рублей\n",
    "* Включено 500 минут разговора, 50 сообщений и 15 Гб интернет-трафика\n",
    "* Стоимость услуг сверх тарифного пакета: минута разговора - 3 рубля, сообщение - 3 рубля, 1 Гб интернет-трафика - 200 рублей\n",
    "\n",
    "\n",
    " Тариф «Ультра»\n",
    "* Ежемесячная плата: 1950 рублей\n",
    "* Включено 3000 минут разговора, 1000 сообщений и 30 Гб интернет-трафика\n",
    "* Стоимость услуг сверх тарифного пакета: минута разговора - 1 рубль, сообщение - 1 рубль, 1 Гб интернет-трафика - 150 рублей"
   ]
  },
  {
   "cell_type": "markdown",
   "metadata": {},
   "source": [
    "## Шаг 1. Открытие файла и изучение информации"
   ]
  },
  {
   "cell_type": "code",
   "execution_count": 23,
   "metadata": {},
   "outputs": [],
   "source": [
    "import pandas as pd\n",
    "import seaborn as sns\n",
    "import matplotlib.pyplot as plt\n",
    "import numpy as np\n",
    "import scipy.stats as st"
   ]
  },
  {
   "cell_type": "code",
   "execution_count": 24,
   "metadata": {},
   "outputs": [],
   "source": [
    "calls = pd.read_csv('/datasets/calls.csv')\n",
    "internet = pd.read_csv('/datasets/internet.csv')\n",
    "messages = pd.read_csv('/datasets/messages.csv')\n",
    "tariffs = pd.read_csv('/datasets/tariffs.csv')\n",
    "users = pd.read_csv('/datasets/users.csv')"
   ]
  },
  {
   "cell_type": "code",
   "execution_count": 25,
   "metadata": {
    "scrolled": false
   },
   "outputs": [
    {
     "name": "stdout",
     "output_type": "stream",
     "text": [
      "       id   call_date  duration  user_id\n",
      "0  1000_0  2018-07-25      0.00     1000\n",
      "1  1000_1  2018-08-17      0.00     1000\n",
      "2  1000_2  2018-06-11      2.85     1000\n",
      "3  1000_3  2018-09-21     13.80     1000\n",
      "4  1000_4  2018-12-15      5.18     1000\n",
      "\n",
      "<class 'pandas.core.frame.DataFrame'>\n",
      "RangeIndex: 202607 entries, 0 to 202606\n",
      "Data columns (total 4 columns):\n",
      "id           202607 non-null object\n",
      "call_date    202607 non-null object\n",
      "duration     202607 non-null float64\n",
      "user_id      202607 non-null int64\n",
      "dtypes: float64(1), int64(1), object(2)\n",
      "memory usage: 6.2+ MB\n",
      "None\n",
      "\n",
      "            duration        user_id\n",
      "count  202607.000000  202607.000000\n",
      "mean        6.755887    1253.940619\n",
      "std         5.843365     144.722751\n",
      "min         0.000000    1000.000000\n",
      "25%         1.300000    1126.000000\n",
      "50%         6.000000    1260.000000\n",
      "75%        10.700000    1379.000000\n",
      "max        38.000000    1499.000000\n",
      "\n",
      "_______________________________________________________________\n",
      "   Unnamed: 0      id  mb_used session_date  user_id\n",
      "0           0  1000_0   112.95   2018-11-25     1000\n",
      "1           1  1000_1  1052.81   2018-09-07     1000\n",
      "2           2  1000_2  1197.26   2018-06-25     1000\n",
      "3           3  1000_3   550.27   2018-08-22     1000\n",
      "4           4  1000_4   302.56   2018-09-24     1000\n",
      "\n",
      "<class 'pandas.core.frame.DataFrame'>\n",
      "RangeIndex: 149396 entries, 0 to 149395\n",
      "Data columns (total 5 columns):\n",
      "Unnamed: 0      149396 non-null int64\n",
      "id              149396 non-null object\n",
      "mb_used         149396 non-null float64\n",
      "session_date    149396 non-null object\n",
      "user_id         149396 non-null int64\n",
      "dtypes: float64(1), int64(2), object(2)\n",
      "memory usage: 5.7+ MB\n",
      "None\n",
      "\n",
      "          Unnamed: 0        mb_used        user_id\n",
      "count  149396.000000  149396.000000  149396.000000\n",
      "mean    74697.500000     370.192426    1252.099842\n",
      "std     43127.054745     278.300951     144.050823\n",
      "min         0.000000       0.000000    1000.000000\n",
      "25%     37348.750000     138.187500    1130.000000\n",
      "50%     74697.500000     348.015000    1251.000000\n",
      "75%    112046.250000     559.552500    1380.000000\n",
      "max    149395.000000    1724.830000    1499.000000\n",
      "\n",
      "_______________________________________________________________\n",
      "       id message_date  user_id\n",
      "0  1000_0   2018-06-27     1000\n",
      "1  1000_1   2018-10-08     1000\n",
      "2  1000_2   2018-08-04     1000\n",
      "3  1000_3   2018-06-16     1000\n",
      "4  1000_4   2018-12-05     1000\n",
      "\n",
      "<class 'pandas.core.frame.DataFrame'>\n",
      "RangeIndex: 123036 entries, 0 to 123035\n",
      "Data columns (total 3 columns):\n",
      "id              123036 non-null object\n",
      "message_date    123036 non-null object\n",
      "user_id         123036 non-null int64\n",
      "dtypes: int64(1), object(2)\n",
      "memory usage: 2.8+ MB\n",
      "None\n",
      "\n",
      "             user_id\n",
      "count  123036.000000\n",
      "mean     1256.989410\n",
      "std       143.523967\n",
      "min      1000.000000\n",
      "25%      1134.000000\n",
      "50%      1271.000000\n",
      "75%      1381.000000\n",
      "max      1499.000000\n",
      "\n",
      "_______________________________________________________________\n",
      "   messages_included  mb_per_month_included  minutes_included  \\\n",
      "0                 50                  15360               500   \n",
      "1               1000                  30720              3000   \n",
      "\n",
      "   rub_monthly_fee  rub_per_gb  rub_per_message  rub_per_minute tariff_name  \n",
      "0              550         200                3               3       smart  \n",
      "1             1950         150                1               1       ultra  \n",
      "\n",
      "<class 'pandas.core.frame.DataFrame'>\n",
      "RangeIndex: 2 entries, 0 to 1\n",
      "Data columns (total 8 columns):\n",
      "messages_included        2 non-null int64\n",
      "mb_per_month_included    2 non-null int64\n",
      "minutes_included         2 non-null int64\n",
      "rub_monthly_fee          2 non-null int64\n",
      "rub_per_gb               2 non-null int64\n",
      "rub_per_message          2 non-null int64\n",
      "rub_per_minute           2 non-null int64\n",
      "tariff_name              2 non-null object\n",
      "dtypes: int64(7), object(1)\n",
      "memory usage: 256.0+ bytes\n",
      "None\n",
      "\n",
      "       messages_included  mb_per_month_included  minutes_included  \\\n",
      "count           2.000000               2.000000          2.000000   \n",
      "mean          525.000000           23040.000000       1750.000000   \n",
      "std           671.751442           10861.160159       1767.766953   \n",
      "min            50.000000           15360.000000        500.000000   \n",
      "25%           287.500000           19200.000000       1125.000000   \n",
      "50%           525.000000           23040.000000       1750.000000   \n",
      "75%           762.500000           26880.000000       2375.000000   \n",
      "max          1000.000000           30720.000000       3000.000000   \n",
      "\n",
      "       rub_monthly_fee  rub_per_gb  rub_per_message  rub_per_minute  \n",
      "count         2.000000    2.000000         2.000000        2.000000  \n",
      "mean       1250.000000  175.000000         2.000000        2.000000  \n",
      "std         989.949494   35.355339         1.414214        1.414214  \n",
      "min         550.000000  150.000000         1.000000        1.000000  \n",
      "25%         900.000000  162.500000         1.500000        1.500000  \n",
      "50%        1250.000000  175.000000         2.000000        2.000000  \n",
      "75%        1600.000000  187.500000         2.500000        2.500000  \n",
      "max        1950.000000  200.000000         3.000000        3.000000  \n",
      "\n",
      "_______________________________________________________________\n",
      "   user_id  age churn_date         city first_name  last_name    reg_date  \\\n",
      "0     1000   52        NaN    Краснодар     Рафаил  Верещагин  2018-05-25   \n",
      "1     1001   41        NaN       Москва       Иван       Ежов  2018-11-01   \n",
      "2     1002   59        NaN  Стерлитамак    Евгений  Абрамович  2018-06-17   \n",
      "3     1003   23        NaN       Москва      Белла   Белякова  2018-08-17   \n",
      "4     1004   68        NaN  Новокузнецк    Татьяна   Авдеенко  2018-05-14   \n",
      "\n",
      "  tariff  \n",
      "0  ultra  \n",
      "1  smart  \n",
      "2  smart  \n",
      "3  ultra  \n",
      "4  ultra  \n",
      "\n",
      "<class 'pandas.core.frame.DataFrame'>\n",
      "RangeIndex: 500 entries, 0 to 499\n",
      "Data columns (total 8 columns):\n",
      "user_id       500 non-null int64\n",
      "age           500 non-null int64\n",
      "churn_date    38 non-null object\n",
      "city          500 non-null object\n",
      "first_name    500 non-null object\n",
      "last_name     500 non-null object\n",
      "reg_date      500 non-null object\n",
      "tariff        500 non-null object\n",
      "dtypes: int64(2), object(6)\n",
      "memory usage: 31.4+ KB\n",
      "None\n",
      "\n",
      "           user_id        age\n",
      "count   500.000000  500.00000\n",
      "mean   1249.500000   46.58800\n",
      "std     144.481833   16.66763\n",
      "min    1000.000000   18.00000\n",
      "25%    1124.750000   32.00000\n",
      "50%    1249.500000   46.00000\n",
      "75%    1374.250000   62.00000\n",
      "max    1499.000000   75.00000\n",
      "\n",
      "_______________________________________________________________\n"
     ]
    }
   ],
   "source": [
    "#name_list = {calls : 'Звонки', internet : 'Интернет', messages : 'Сообщения', tariffs : 'Тарифы', users : 'Пользователи'}\n",
    "\n",
    "for data in [calls, internet, messages, tariffs, users]: \n",
    "    print(data.head(), end='\\n\\n')\n",
    "    print(data.info(), end='\\n\\n')\n",
    "    print(data.describe(), end='\\n\\n')\n",
    "    print('_______________________________________________________________')\n"
   ]
  },
  {
   "cell_type": "markdown",
   "metadata": {},
   "source": [
    "В полученных таблицах не наблюдается пропусков. Необходимо заменить у столбцов с датой и временем тип данных. В столбцах с количеством минут - минуты окргуглить до целочисленных значений в большую сторону (по условию). Мегабайты необходимо тоже округлить до целых значений в большую сторону. Разобраться с нулевыми значениями в столбцах с минутами и мегабайтами.\n",
    "Затем следует оъединить данные (звонки, сообщения, интернет).\n",
    "\n",
    "Таблица calls (информация о звонках):\n",
    "- id — уникальный номер звонка\n",
    "- call_date — дата звонка\n",
    "- duration — длительность звонка в минутах\n",
    "- user_id — идентификатор пользователя, сделавшего звонок\n",
    "\n",
    "Таблица internet (информация об интернет-сессиях):\n",
    "- id — уникальный номер сессии\n",
    "- mb_used — объём потраченного за сессию интернет-трафика (в мегабайтах)\n",
    "- session_date — дата интернет-сессии\n",
    "- user_id — идентификатор пользователя\n",
    "\n",
    "Таблица messages (информация о сообщениях):\n",
    "- id — уникальный номер сообщения\n",
    "- message_date — дата сообщения\n",
    "- user_id — идентификатор пользователя, отправившего сообщение\n",
    "\n",
    "Таблица tariffs (информация о тарифах):\n",
    "- tariff_name — название тарифа\n",
    "- rub_monthly_fee — ежемесячная абонентская плата в рублях\n",
    "- minutes_included — количество минут разговора в месяц, включённых в абонентскую плату\n",
    "- messages_included — количество сообщений в месяц, включённых в абонентскую плату\n",
    "- mb_per_month_included — объём интернет-трафика, включённого в абонентскую плату (в мегабайтах)\n",
    "- rub_per_minute — стоимость минуты разговора сверх тарифного пакета (например, если в тарифе 100 минут разговора в месяц, то со 101 минуты будет взиматься плата)\n",
    "- rub_per_message — стоимость отправки сообщения сверх тарифного пакета\n",
    "- rub_per_gb — стоимость дополнительного гигабайта интернет-трафика сверх тарифного пакета (1 гигабайт = 1024 мегабайта)\n",
    "\n",
    "Таблица users (информация о пользователях):\n",
    "- user_id — уникальный идентификатор пользователя\n",
    "- first_name — имя пользователя\n",
    "- last_name — фамилия пользователя\n",
    "- age — возраст пользователя (годы)\n",
    "- reg_date — дата подключения тарифа (день, месяц, год)\n",
    "- churn_date — дата прекращения пользования тарифом (если значение пропущено, то тариф ещё действовал на момент выгрузки данных)\n",
    "- city — город проживания пользователя\n",
    "- tarif — название тарифного плана"
   ]
  },
  {
   "cell_type": "markdown",
   "metadata": {},
   "source": [
    "## Шаг 2. Предобработка данных"
   ]
  },
  {
   "cell_type": "markdown",
   "metadata": {},
   "source": [
    "### Приведение данных к нужным типам"
   ]
  },
  {
   "cell_type": "markdown",
   "metadata": {},
   "source": [
    "Приведем данные с датами к временному типу."
   ]
  },
  {
   "cell_type": "code",
   "execution_count": 26,
   "metadata": {},
   "outputs": [],
   "source": [
    "def to_datetime(data, column):\n",
    "    data[column] = pd.to_datetime(data[column], format='%Y-%m-%d')\n"
   ]
  },
  {
   "cell_type": "code",
   "execution_count": 27,
   "metadata": {},
   "outputs": [],
   "source": [
    "to_datetime(calls, 'call_date')\n",
    "to_datetime(internet, 'session_date')\n",
    "to_datetime(messages, 'message_date')\n",
    "to_datetime(users, 'reg_date')\n",
    "to_datetime(users, 'churn_date')"
   ]
  },
  {
   "cell_type": "markdown",
   "metadata": {},
   "source": [
    "Округлим данные по минутам и мегабайтам в большую сторону."
   ]
  },
  {
   "cell_type": "code",
   "execution_count": 28,
   "metadata": {},
   "outputs": [],
   "source": [
    "#calls['duration'] = calls['duration'].round() -round() без дополнительных настреок \n",
    "#округляет до ближайшего числа, отлично подойдет np.ceil\n",
    "calls['duration'] = calls['duration'].apply(np.ceil)\n",
    "internet['mb_used'] = internet['mb_used'].apply(np.ceil)"
   ]
  },
  {
   "cell_type": "code",
   "execution_count": 29,
   "metadata": {},
   "outputs": [
    {
     "data": {
      "text/plain": [
       "smart    351\n",
       "ultra    149\n",
       "Name: tariff, dtype: int64"
      ]
     },
     "execution_count": 29,
     "metadata": {},
     "output_type": "execute_result"
    }
   ],
   "source": [
    "users['tariff'].value_counts()"
   ]
  },
  {
   "cell_type": "markdown",
   "metadata": {},
   "source": [
    "### Ошибки"
   ]
  },
  {
   "cell_type": "code",
   "execution_count": 30,
   "metadata": {},
   "outputs": [
    {
     "data": {
      "text/plain": [
       "0.0    39613\n",
       "7.0    11510\n",
       "6.0    11457\n",
       "5.0    11411\n",
       "8.0    11272\n",
       "Name: duration, dtype: int64"
      ]
     },
     "execution_count": 30,
     "metadata": {},
     "output_type": "execute_result"
    }
   ],
   "source": [
    "calls['duration'].value_counts().head(5)"
   ]
  },
  {
   "cell_type": "code",
   "execution_count": 31,
   "metadata": {},
   "outputs": [
    {
     "data": {
      "text/plain": [
       "0.0      19598\n",
       "333.0      231\n",
       "382.0      228\n",
       "377.0      224\n",
       "253.0      222\n",
       "Name: mb_used, dtype: int64"
      ]
     },
     "execution_count": 31,
     "metadata": {},
     "output_type": "execute_result"
    }
   ],
   "source": [
    "internet['mb_used'].value_counts().head(5)"
   ]
  },
  {
   "cell_type": "markdown",
   "metadata": {},
   "source": [
    "Нулевые значения в данных с минутами и инетрнетом составляют околло 21% и 13% соответствено. Необходимо понять как они влияют на статистику данных."
   ]
  },
  {
   "cell_type": "markdown",
   "metadata": {},
   "source": [
    "#### Рассмотрим зависимости количества нулей от общего числа звонков за каждый месяц. \n",
    "Для этого создадим столбец где нули будут отмечены единицей и преобразуем данные времени по месяцам."
   ]
  },
  {
   "cell_type": "code",
   "execution_count": 32,
   "metadata": {},
   "outputs": [],
   "source": [
    "calls.loc[calls['duration'] == 0, 'nulls'] = 1\n",
    "#df.loc[df['a'] == 0, 'a'] = 1 \n",
    "#df['a'] = df['a'].fillna(0)"
   ]
  },
  {
   "cell_type": "code",
   "execution_count": 33,
   "metadata": {},
   "outputs": [],
   "source": [
    "calls['month'] = calls['call_date'].dt.month"
   ]
  },
  {
   "cell_type": "code",
   "execution_count": 34,
   "metadata": {},
   "outputs": [
    {
     "data": {
      "text/html": [
       "<div>\n",
       "<style scoped>\n",
       "    .dataframe tbody tr th:only-of-type {\n",
       "        vertical-align: middle;\n",
       "    }\n",
       "\n",
       "    .dataframe tbody tr th {\n",
       "        vertical-align: top;\n",
       "    }\n",
       "\n",
       "    .dataframe thead th {\n",
       "        text-align: right;\n",
       "    }\n",
       "</style>\n",
       "<table border=\"1\" class=\"dataframe\">\n",
       "  <thead>\n",
       "    <tr style=\"text-align: right;\">\n",
       "      <th></th>\n",
       "      <th>id</th>\n",
       "      <th>call_date</th>\n",
       "      <th>duration</th>\n",
       "      <th>user_id</th>\n",
       "      <th>nulls</th>\n",
       "      <th>month</th>\n",
       "    </tr>\n",
       "  </thead>\n",
       "  <tbody>\n",
       "    <tr>\n",
       "      <td>0</td>\n",
       "      <td>1000_0</td>\n",
       "      <td>2018-07-25</td>\n",
       "      <td>0.0</td>\n",
       "      <td>1000</td>\n",
       "      <td>1.0</td>\n",
       "      <td>7</td>\n",
       "    </tr>\n",
       "    <tr>\n",
       "      <td>1</td>\n",
       "      <td>1000_1</td>\n",
       "      <td>2018-08-17</td>\n",
       "      <td>0.0</td>\n",
       "      <td>1000</td>\n",
       "      <td>1.0</td>\n",
       "      <td>8</td>\n",
       "    </tr>\n",
       "    <tr>\n",
       "      <td>2</td>\n",
       "      <td>1000_2</td>\n",
       "      <td>2018-06-11</td>\n",
       "      <td>3.0</td>\n",
       "      <td>1000</td>\n",
       "      <td>NaN</td>\n",
       "      <td>6</td>\n",
       "    </tr>\n",
       "    <tr>\n",
       "      <td>3</td>\n",
       "      <td>1000_3</td>\n",
       "      <td>2018-09-21</td>\n",
       "      <td>14.0</td>\n",
       "      <td>1000</td>\n",
       "      <td>NaN</td>\n",
       "      <td>9</td>\n",
       "    </tr>\n",
       "    <tr>\n",
       "      <td>4</td>\n",
       "      <td>1000_4</td>\n",
       "      <td>2018-12-15</td>\n",
       "      <td>6.0</td>\n",
       "      <td>1000</td>\n",
       "      <td>NaN</td>\n",
       "      <td>12</td>\n",
       "    </tr>\n",
       "  </tbody>\n",
       "</table>\n",
       "</div>"
      ],
      "text/plain": [
       "       id  call_date  duration  user_id  nulls  month\n",
       "0  1000_0 2018-07-25       0.0     1000    1.0      7\n",
       "1  1000_1 2018-08-17       0.0     1000    1.0      8\n",
       "2  1000_2 2018-06-11       3.0     1000    NaN      6\n",
       "3  1000_3 2018-09-21      14.0     1000    NaN      9\n",
       "4  1000_4 2018-12-15       6.0     1000    NaN     12"
      ]
     },
     "execution_count": 34,
     "metadata": {},
     "output_type": "execute_result"
    }
   ],
   "source": [
    "calls.head()"
   ]
  },
  {
   "cell_type": "code",
   "execution_count": 35,
   "metadata": {},
   "outputs": [
    {
     "data": {
      "text/html": [
       "<div>\n",
       "<style scoped>\n",
       "    .dataframe tbody tr th:only-of-type {\n",
       "        vertical-align: middle;\n",
       "    }\n",
       "\n",
       "    .dataframe tbody tr th {\n",
       "        vertical-align: top;\n",
       "    }\n",
       "\n",
       "    .dataframe thead th {\n",
       "        text-align: right;\n",
       "    }\n",
       "</style>\n",
       "<table border=\"1\" class=\"dataframe\">\n",
       "  <thead>\n",
       "    <tr style=\"text-align: right;\">\n",
       "      <th></th>\n",
       "      <th>all_calls</th>\n",
       "      <th>nulls</th>\n",
       "      <th>null_ratio</th>\n",
       "    </tr>\n",
       "    <tr>\n",
       "      <th>month</th>\n",
       "      <th></th>\n",
       "      <th></th>\n",
       "      <th></th>\n",
       "    </tr>\n",
       "  </thead>\n",
       "  <tbody>\n",
       "    <tr>\n",
       "      <td>1</td>\n",
       "      <td>1476</td>\n",
       "      <td>312</td>\n",
       "      <td>0.21</td>\n",
       "    </tr>\n",
       "    <tr>\n",
       "      <td>2</td>\n",
       "      <td>3328</td>\n",
       "      <td>623</td>\n",
       "      <td>0.19</td>\n",
       "    </tr>\n",
       "    <tr>\n",
       "      <td>3</td>\n",
       "      <td>6687</td>\n",
       "      <td>1304</td>\n",
       "      <td>0.20</td>\n",
       "    </tr>\n",
       "    <tr>\n",
       "      <td>4</td>\n",
       "      <td>9272</td>\n",
       "      <td>1768</td>\n",
       "      <td>0.19</td>\n",
       "    </tr>\n",
       "    <tr>\n",
       "      <td>5</td>\n",
       "      <td>12647</td>\n",
       "      <td>2531</td>\n",
       "      <td>0.20</td>\n",
       "    </tr>\n",
       "    <tr>\n",
       "      <td>6</td>\n",
       "      <td>14716</td>\n",
       "      <td>2883</td>\n",
       "      <td>0.20</td>\n",
       "    </tr>\n",
       "    <tr>\n",
       "      <td>7</td>\n",
       "      <td>18298</td>\n",
       "      <td>3518</td>\n",
       "      <td>0.19</td>\n",
       "    </tr>\n",
       "    <tr>\n",
       "      <td>8</td>\n",
       "      <td>21488</td>\n",
       "      <td>4231</td>\n",
       "      <td>0.20</td>\n",
       "    </tr>\n",
       "    <tr>\n",
       "      <td>9</td>\n",
       "      <td>24061</td>\n",
       "      <td>4615</td>\n",
       "      <td>0.19</td>\n",
       "    </tr>\n",
       "    <tr>\n",
       "      <td>10</td>\n",
       "      <td>27146</td>\n",
       "      <td>5389</td>\n",
       "      <td>0.20</td>\n",
       "    </tr>\n",
       "    <tr>\n",
       "      <td>11</td>\n",
       "      <td>29501</td>\n",
       "      <td>5837</td>\n",
       "      <td>0.20</td>\n",
       "    </tr>\n",
       "    <tr>\n",
       "      <td>12</td>\n",
       "      <td>33987</td>\n",
       "      <td>6602</td>\n",
       "      <td>0.19</td>\n",
       "    </tr>\n",
       "  </tbody>\n",
       "</table>\n",
       "</div>"
      ],
      "text/plain": [
       "       all_calls  nulls  null_ratio\n",
       "month                              \n",
       "1           1476    312        0.21\n",
       "2           3328    623        0.19\n",
       "3           6687   1304        0.20\n",
       "4           9272   1768        0.19\n",
       "5          12647   2531        0.20\n",
       "6          14716   2883        0.20\n",
       "7          18298   3518        0.19\n",
       "8          21488   4231        0.20\n",
       "9          24061   4615        0.19\n",
       "10         27146   5389        0.20\n",
       "11         29501   5837        0.20\n",
       "12         33987   6602        0.19"
      ]
     },
     "execution_count": 35,
     "metadata": {},
     "output_type": "execute_result"
    }
   ],
   "source": [
    "null_calls = calls.pivot_table(index = 'month', values = ['nulls', 'id'], aggfunc = 'count')\n",
    "null_calls['null_ratio'] = round(null_calls['nulls'] / null_calls['id'], 2)\n",
    "null_calls.columns = ['all_calls', 'nulls', 'null_ratio']\n",
    "null_calls"
   ]
  },
  {
   "cell_type": "code",
   "execution_count": 36,
   "metadata": {},
   "outputs": [
    {
     "data": {
      "image/png": "[encoded data removed]",
      "text/plain": [
       "<Figure size 432x288 with 1 Axes>"
      ]
     },
     "metadata": {
      "needs_background": "light"
     },
     "output_type": "display_data"
    }
   ],
   "source": [
    "null_calls.plot(x = 'all_calls', y = 'nulls')\n",
    "plt.xlabel('Общее число звонков по месяцам')\n",
    "plt.ylabel('Число нулевых звонков');"
   ]
  },
  {
   "cell_type": "markdown",
   "metadata": {},
   "source": [
    "Видим, что появление нулей систематично. Поэтому заменим их на единицу, будем считать что оператор даже доли секунды считает за звонок."
   ]
  },
  {
   "cell_type": "code",
   "execution_count": 37,
   "metadata": {},
   "outputs": [],
   "source": [
    "calls.loc[calls['duration'] == 0, 'duration'] = 1"
   ]
  },
  {
   "cell_type": "markdown",
   "metadata": {},
   "source": [
    "#### Рассмотрим зависимость количества нулевых значений от общего числа интернет-периодов за каждый месяц. \n",
    "Для этого создадим столбец где нули будут отмечены единицей и преобразуем данные времени по месяцам."
   ]
  },
  {
   "cell_type": "code",
   "execution_count": 38,
   "metadata": {},
   "outputs": [],
   "source": [
    "internet.loc[internet['mb_used'] == 0, 'nulls'] = 1"
   ]
  },
  {
   "cell_type": "code",
   "execution_count": 39,
   "metadata": {},
   "outputs": [],
   "source": [
    "internet['month'] = internet['session_date'].dt.month"
   ]
  },
  {
   "cell_type": "code",
   "execution_count": 40,
   "metadata": {},
   "outputs": [
    {
     "data": {
      "text/html": [
       "<div>\n",
       "<style scoped>\n",
       "    .dataframe tbody tr th:only-of-type {\n",
       "        vertical-align: middle;\n",
       "    }\n",
       "\n",
       "    .dataframe tbody tr th {\n",
       "        vertical-align: top;\n",
       "    }\n",
       "\n",
       "    .dataframe thead th {\n",
       "        text-align: right;\n",
       "    }\n",
       "</style>\n",
       "<table border=\"1\" class=\"dataframe\">\n",
       "  <thead>\n",
       "    <tr style=\"text-align: right;\">\n",
       "      <th></th>\n",
       "      <th>all</th>\n",
       "      <th>nulls</th>\n",
       "      <th>null_ratio</th>\n",
       "    </tr>\n",
       "    <tr>\n",
       "      <th>month</th>\n",
       "      <th></th>\n",
       "      <th></th>\n",
       "      <th></th>\n",
       "    </tr>\n",
       "  </thead>\n",
       "  <tbody>\n",
       "    <tr>\n",
       "      <td>1</td>\n",
       "      <td>1117</td>\n",
       "      <td>151</td>\n",
       "      <td>0.135</td>\n",
       "    </tr>\n",
       "    <tr>\n",
       "      <td>2</td>\n",
       "      <td>2641</td>\n",
       "      <td>378</td>\n",
       "      <td>0.143</td>\n",
       "    </tr>\n",
       "    <tr>\n",
       "      <td>3</td>\n",
       "      <td>4885</td>\n",
       "      <td>623</td>\n",
       "      <td>0.128</td>\n",
       "    </tr>\n",
       "    <tr>\n",
       "      <td>4</td>\n",
       "      <td>6511</td>\n",
       "      <td>819</td>\n",
       "      <td>0.126</td>\n",
       "    </tr>\n",
       "    <tr>\n",
       "      <td>5</td>\n",
       "      <td>9408</td>\n",
       "      <td>1199</td>\n",
       "      <td>0.127</td>\n",
       "    </tr>\n",
       "    <tr>\n",
       "      <td>6</td>\n",
       "      <td>11057</td>\n",
       "      <td>1401</td>\n",
       "      <td>0.127</td>\n",
       "    </tr>\n",
       "    <tr>\n",
       "      <td>7</td>\n",
       "      <td>13548</td>\n",
       "      <td>1760</td>\n",
       "      <td>0.130</td>\n",
       "    </tr>\n",
       "    <tr>\n",
       "      <td>8</td>\n",
       "      <td>16092</td>\n",
       "      <td>2083</td>\n",
       "      <td>0.129</td>\n",
       "    </tr>\n",
       "    <tr>\n",
       "      <td>9</td>\n",
       "      <td>17512</td>\n",
       "      <td>2314</td>\n",
       "      <td>0.132</td>\n",
       "    </tr>\n",
       "    <tr>\n",
       "      <td>10</td>\n",
       "      <td>20009</td>\n",
       "      <td>2642</td>\n",
       "      <td>0.132</td>\n",
       "    </tr>\n",
       "    <tr>\n",
       "      <td>11</td>\n",
       "      <td>21817</td>\n",
       "      <td>2907</td>\n",
       "      <td>0.133</td>\n",
       "    </tr>\n",
       "    <tr>\n",
       "      <td>12</td>\n",
       "      <td>24799</td>\n",
       "      <td>3321</td>\n",
       "      <td>0.134</td>\n",
       "    </tr>\n",
       "  </tbody>\n",
       "</table>\n",
       "</div>"
      ],
      "text/plain": [
       "         all  nulls  null_ratio\n",
       "month                          \n",
       "1       1117    151       0.135\n",
       "2       2641    378       0.143\n",
       "3       4885    623       0.128\n",
       "4       6511    819       0.126\n",
       "5       9408   1199       0.127\n",
       "6      11057   1401       0.127\n",
       "7      13548   1760       0.130\n",
       "8      16092   2083       0.129\n",
       "9      17512   2314       0.132\n",
       "10     20009   2642       0.132\n",
       "11     21817   2907       0.133\n",
       "12     24799   3321       0.134"
      ]
     },
     "execution_count": 40,
     "metadata": {},
     "output_type": "execute_result"
    }
   ],
   "source": [
    "null_mb = internet.pivot_table(index='month', values=['id', 'nulls'], aggfunc='count')\n",
    "null_mb['null_ratio'] = round(null_mb['nulls'] / null_mb['id'], 3)\n",
    "null_mb.columns = ['all', 'nulls', 'null_ratio']\n",
    "null_mb"
   ]
  },
  {
   "cell_type": "code",
   "execution_count": 41,
   "metadata": {},
   "outputs": [
    {
     "data": {
      "image/png": "[encoded data removed]",
      "text/plain": [
       "<Figure size 432x288 with 1 Axes>"
      ]
     },
     "metadata": {
      "needs_background": "light"
     },
     "output_type": "display_data"
    }
   ],
   "source": [
    "null_mb.plot(x = 'all', y = 'nulls')\n",
    "plt.xlabel('Общее число интернет-периодов по месяцам')\n",
    "plt.ylabel('Число нулевых периодов');"
   ]
  },
  {
   "cell_type": "markdown",
   "metadata": {},
   "source": [
    "Так же как и в случае звонков видим, что появление нулей систематично. Поэтому тоже заменим их на единицы."
   ]
  },
  {
   "cell_type": "code",
   "execution_count": 42,
   "metadata": {},
   "outputs": [],
   "source": [
    "internet.loc[internet['mb_used'] == 0, 'mb_used'] = 1"
   ]
  },
  {
   "cell_type": "markdown",
   "metadata": {},
   "source": [
    "Найдем для каждого пользователя:\n",
    "\n",
    "количество сделанных звонков и израсходованных минут разговора по месяцам;\n",
    "количество отправленных сообщений по месяцам;\n",
    "объем израсходованного интернет-трафика по месяцам."
   ]
  },
  {
   "cell_type": "markdown",
   "metadata": {},
   "source": [
    "### Количество сделанных звонков и израсходованных минут разговора по месяцам;"
   ]
  },
  {
   "cell_type": "markdown",
   "metadata": {},
   "source": [
    "Объединим данные двух таблиц. Получим сводную таблицу по звонкам и минутам."
   ]
  },
  {
   "cell_type": "code",
   "execution_count": 43,
   "metadata": {},
   "outputs": [
    {
     "data": {
      "text/html": [
       "<div>\n",
       "<style scoped>\n",
       "    .dataframe tbody tr th:only-of-type {\n",
       "        vertical-align: middle;\n",
       "    }\n",
       "\n",
       "    .dataframe tbody tr th {\n",
       "        vertical-align: top;\n",
       "    }\n",
       "\n",
       "    .dataframe thead th {\n",
       "        text-align: right;\n",
       "    }\n",
       "</style>\n",
       "<table border=\"1\" class=\"dataframe\">\n",
       "  <thead>\n",
       "    <tr style=\"text-align: right;\">\n",
       "      <th></th>\n",
       "      <th>id</th>\n",
       "      <th>call_date</th>\n",
       "      <th>duration</th>\n",
       "      <th>user_id</th>\n",
       "      <th>nulls</th>\n",
       "      <th>month</th>\n",
       "      <th>age</th>\n",
       "      <th>churn_date</th>\n",
       "      <th>city</th>\n",
       "      <th>first_name</th>\n",
       "      <th>last_name</th>\n",
       "      <th>reg_date</th>\n",
       "      <th>tariff</th>\n",
       "    </tr>\n",
       "  </thead>\n",
       "  <tbody>\n",
       "    <tr>\n",
       "      <td>0</td>\n",
       "      <td>1000_0</td>\n",
       "      <td>2018-07-25</td>\n",
       "      <td>1.0</td>\n",
       "      <td>1000</td>\n",
       "      <td>1.0</td>\n",
       "      <td>7</td>\n",
       "      <td>52</td>\n",
       "      <td>NaT</td>\n",
       "      <td>Краснодар</td>\n",
       "      <td>Рафаил</td>\n",
       "      <td>Верещагин</td>\n",
       "      <td>2018-05-25</td>\n",
       "      <td>ultra</td>\n",
       "    </tr>\n",
       "    <tr>\n",
       "      <td>1</td>\n",
       "      <td>1000_1</td>\n",
       "      <td>2018-08-17</td>\n",
       "      <td>1.0</td>\n",
       "      <td>1000</td>\n",
       "      <td>1.0</td>\n",
       "      <td>8</td>\n",
       "      <td>52</td>\n",
       "      <td>NaT</td>\n",
       "      <td>Краснодар</td>\n",
       "      <td>Рафаил</td>\n",
       "      <td>Верещагин</td>\n",
       "      <td>2018-05-25</td>\n",
       "      <td>ultra</td>\n",
       "    </tr>\n",
       "    <tr>\n",
       "      <td>2</td>\n",
       "      <td>1000_2</td>\n",
       "      <td>2018-06-11</td>\n",
       "      <td>3.0</td>\n",
       "      <td>1000</td>\n",
       "      <td>NaN</td>\n",
       "      <td>6</td>\n",
       "      <td>52</td>\n",
       "      <td>NaT</td>\n",
       "      <td>Краснодар</td>\n",
       "      <td>Рафаил</td>\n",
       "      <td>Верещагин</td>\n",
       "      <td>2018-05-25</td>\n",
       "      <td>ultra</td>\n",
       "    </tr>\n",
       "    <tr>\n",
       "      <td>3</td>\n",
       "      <td>1000_3</td>\n",
       "      <td>2018-09-21</td>\n",
       "      <td>14.0</td>\n",
       "      <td>1000</td>\n",
       "      <td>NaN</td>\n",
       "      <td>9</td>\n",
       "      <td>52</td>\n",
       "      <td>NaT</td>\n",
       "      <td>Краснодар</td>\n",
       "      <td>Рафаил</td>\n",
       "      <td>Верещагин</td>\n",
       "      <td>2018-05-25</td>\n",
       "      <td>ultra</td>\n",
       "    </tr>\n",
       "    <tr>\n",
       "      <td>4</td>\n",
       "      <td>1000_4</td>\n",
       "      <td>2018-12-15</td>\n",
       "      <td>6.0</td>\n",
       "      <td>1000</td>\n",
       "      <td>NaN</td>\n",
       "      <td>12</td>\n",
       "      <td>52</td>\n",
       "      <td>NaT</td>\n",
       "      <td>Краснодар</td>\n",
       "      <td>Рафаил</td>\n",
       "      <td>Верещагин</td>\n",
       "      <td>2018-05-25</td>\n",
       "      <td>ultra</td>\n",
       "    </tr>\n",
       "  </tbody>\n",
       "</table>\n",
       "</div>"
      ],
      "text/plain": [
       "       id  call_date  duration  user_id  nulls  month  age churn_date  \\\n",
       "0  1000_0 2018-07-25       1.0     1000    1.0      7   52        NaT   \n",
       "1  1000_1 2018-08-17       1.0     1000    1.0      8   52        NaT   \n",
       "2  1000_2 2018-06-11       3.0     1000    NaN      6   52        NaT   \n",
       "3  1000_3 2018-09-21      14.0     1000    NaN      9   52        NaT   \n",
       "4  1000_4 2018-12-15       6.0     1000    NaN     12   52        NaT   \n",
       "\n",
       "        city first_name  last_name   reg_date tariff  \n",
       "0  Краснодар     Рафаил  Верещагин 2018-05-25  ultra  \n",
       "1  Краснодар     Рафаил  Верещагин 2018-05-25  ultra  \n",
       "2  Краснодар     Рафаил  Верещагин 2018-05-25  ultra  \n",
       "3  Краснодар     Рафаил  Верещагин 2018-05-25  ultra  \n",
       "4  Краснодар     Рафаил  Верещагин 2018-05-25  ultra  "
      ]
     },
     "execution_count": 43,
     "metadata": {},
     "output_type": "execute_result"
    }
   ],
   "source": [
    "calls_new = calls.merge(users, on='user_id', how='inner')\n",
    "calls_new.head()"
   ]
  },
  {
   "cell_type": "code",
   "execution_count": 44,
   "metadata": {},
   "outputs": [
    {
     "data": {
      "text/html": [
       "<div>\n",
       "<style scoped>\n",
       "    .dataframe tbody tr th:only-of-type {\n",
       "        vertical-align: middle;\n",
       "    }\n",
       "\n",
       "    .dataframe tbody tr th {\n",
       "        vertical-align: top;\n",
       "    }\n",
       "\n",
       "    .dataframe thead th {\n",
       "        text-align: right;\n",
       "    }\n",
       "</style>\n",
       "<table border=\"1\" class=\"dataframe\">\n",
       "  <thead>\n",
       "    <tr style=\"text-align: right;\">\n",
       "      <th></th>\n",
       "      <th></th>\n",
       "      <th>calls</th>\n",
       "      <th>duration</th>\n",
       "    </tr>\n",
       "    <tr>\n",
       "      <th>user_id</th>\n",
       "      <th>month</th>\n",
       "      <th></th>\n",
       "      <th></th>\n",
       "    </tr>\n",
       "  </thead>\n",
       "  <tbody>\n",
       "    <tr>\n",
       "      <td rowspan=\"5\" valign=\"top\">1000</td>\n",
       "      <td>5</td>\n",
       "      <td>22</td>\n",
       "      <td>164.0</td>\n",
       "    </tr>\n",
       "    <tr>\n",
       "      <td>6</td>\n",
       "      <td>43</td>\n",
       "      <td>187.0</td>\n",
       "    </tr>\n",
       "    <tr>\n",
       "      <td>7</td>\n",
       "      <td>47</td>\n",
       "      <td>346.0</td>\n",
       "    </tr>\n",
       "    <tr>\n",
       "      <td>8</td>\n",
       "      <td>52</td>\n",
       "      <td>418.0</td>\n",
       "    </tr>\n",
       "    <tr>\n",
       "      <td>9</td>\n",
       "      <td>58</td>\n",
       "      <td>478.0</td>\n",
       "    </tr>\n",
       "    <tr>\n",
       "      <td>...</td>\n",
       "      <td>...</td>\n",
       "      <td>...</td>\n",
       "      <td>...</td>\n",
       "    </tr>\n",
       "    <tr>\n",
       "      <td>1498</td>\n",
       "      <td>10</td>\n",
       "      <td>41</td>\n",
       "      <td>258.0</td>\n",
       "    </tr>\n",
       "    <tr>\n",
       "      <td rowspan=\"4\" valign=\"top\">1499</td>\n",
       "      <td>9</td>\n",
       "      <td>9</td>\n",
       "      <td>71.0</td>\n",
       "    </tr>\n",
       "    <tr>\n",
       "      <td>10</td>\n",
       "      <td>68</td>\n",
       "      <td>473.0</td>\n",
       "    </tr>\n",
       "    <tr>\n",
       "      <td>11</td>\n",
       "      <td>74</td>\n",
       "      <td>624.0</td>\n",
       "    </tr>\n",
       "    <tr>\n",
       "      <td>12</td>\n",
       "      <td>69</td>\n",
       "      <td>505.0</td>\n",
       "    </tr>\n",
       "  </tbody>\n",
       "</table>\n",
       "<p>3174 rows × 2 columns</p>\n",
       "</div>"
      ],
      "text/plain": [
       "               calls  duration\n",
       "user_id month                 \n",
       "1000    5         22     164.0\n",
       "        6         43     187.0\n",
       "        7         47     346.0\n",
       "        8         52     418.0\n",
       "        9         58     478.0\n",
       "...              ...       ...\n",
       "1498    10        41     258.0\n",
       "1499    9          9      71.0\n",
       "        10        68     473.0\n",
       "        11        74     624.0\n",
       "        12        69     505.0\n",
       "\n",
       "[3174 rows x 2 columns]"
      ]
     },
     "execution_count": 44,
     "metadata": {},
     "output_type": "execute_result"
    }
   ],
   "source": [
    "calls_grouped = calls_new.pivot_table(index=['user_id', 'month'], values=['duration','city'], aggfunc={'duration': 'sum', 'city': 'count'})\n",
    "calls_grouped.columns = ['calls', 'duration']\n",
    "calls_grouped"
   ]
  },
  {
   "cell_type": "markdown",
   "metadata": {},
   "source": [
    "### Количество отправленных сообщений по месяцам"
   ]
  },
  {
   "cell_type": "markdown",
   "metadata": {},
   "source": [
    "Объединим данные двух таблиц. Получим сводную таблицу сообщениям."
   ]
  },
  {
   "cell_type": "code",
   "execution_count": 45,
   "metadata": {},
   "outputs": [
    {
     "data": {
      "text/html": [
       "<div>\n",
       "<style scoped>\n",
       "    .dataframe tbody tr th:only-of-type {\n",
       "        vertical-align: middle;\n",
       "    }\n",
       "\n",
       "    .dataframe tbody tr th {\n",
       "        vertical-align: top;\n",
       "    }\n",
       "\n",
       "    .dataframe thead th {\n",
       "        text-align: right;\n",
       "    }\n",
       "</style>\n",
       "<table border=\"1\" class=\"dataframe\">\n",
       "  <thead>\n",
       "    <tr style=\"text-align: right;\">\n",
       "      <th></th>\n",
       "      <th>id</th>\n",
       "      <th>message_date</th>\n",
       "      <th>user_id</th>\n",
       "      <th>month</th>\n",
       "      <th>age</th>\n",
       "      <th>churn_date</th>\n",
       "      <th>city</th>\n",
       "      <th>first_name</th>\n",
       "      <th>last_name</th>\n",
       "      <th>reg_date</th>\n",
       "      <th>tariff</th>\n",
       "    </tr>\n",
       "  </thead>\n",
       "  <tbody>\n",
       "    <tr>\n",
       "      <td>0</td>\n",
       "      <td>1000_0</td>\n",
       "      <td>2018-06-27</td>\n",
       "      <td>1000</td>\n",
       "      <td>6</td>\n",
       "      <td>52</td>\n",
       "      <td>NaT</td>\n",
       "      <td>Краснодар</td>\n",
       "      <td>Рафаил</td>\n",
       "      <td>Верещагин</td>\n",
       "      <td>2018-05-25</td>\n",
       "      <td>ultra</td>\n",
       "    </tr>\n",
       "    <tr>\n",
       "      <td>1</td>\n",
       "      <td>1000_1</td>\n",
       "      <td>2018-10-08</td>\n",
       "      <td>1000</td>\n",
       "      <td>10</td>\n",
       "      <td>52</td>\n",
       "      <td>NaT</td>\n",
       "      <td>Краснодар</td>\n",
       "      <td>Рафаил</td>\n",
       "      <td>Верещагин</td>\n",
       "      <td>2018-05-25</td>\n",
       "      <td>ultra</td>\n",
       "    </tr>\n",
       "    <tr>\n",
       "      <td>2</td>\n",
       "      <td>1000_2</td>\n",
       "      <td>2018-08-04</td>\n",
       "      <td>1000</td>\n",
       "      <td>8</td>\n",
       "      <td>52</td>\n",
       "      <td>NaT</td>\n",
       "      <td>Краснодар</td>\n",
       "      <td>Рафаил</td>\n",
       "      <td>Верещагин</td>\n",
       "      <td>2018-05-25</td>\n",
       "      <td>ultra</td>\n",
       "    </tr>\n",
       "    <tr>\n",
       "      <td>3</td>\n",
       "      <td>1000_3</td>\n",
       "      <td>2018-06-16</td>\n",
       "      <td>1000</td>\n",
       "      <td>6</td>\n",
       "      <td>52</td>\n",
       "      <td>NaT</td>\n",
       "      <td>Краснодар</td>\n",
       "      <td>Рафаил</td>\n",
       "      <td>Верещагин</td>\n",
       "      <td>2018-05-25</td>\n",
       "      <td>ultra</td>\n",
       "    </tr>\n",
       "    <tr>\n",
       "      <td>4</td>\n",
       "      <td>1000_4</td>\n",
       "      <td>2018-12-05</td>\n",
       "      <td>1000</td>\n",
       "      <td>12</td>\n",
       "      <td>52</td>\n",
       "      <td>NaT</td>\n",
       "      <td>Краснодар</td>\n",
       "      <td>Рафаил</td>\n",
       "      <td>Верещагин</td>\n",
       "      <td>2018-05-25</td>\n",
       "      <td>ultra</td>\n",
       "    </tr>\n",
       "  </tbody>\n",
       "</table>\n",
       "</div>"
      ],
      "text/plain": [
       "       id message_date  user_id  month  age churn_date       city first_name  \\\n",
       "0  1000_0   2018-06-27     1000      6   52        NaT  Краснодар     Рафаил   \n",
       "1  1000_1   2018-10-08     1000     10   52        NaT  Краснодар     Рафаил   \n",
       "2  1000_2   2018-08-04     1000      8   52        NaT  Краснодар     Рафаил   \n",
       "3  1000_3   2018-06-16     1000      6   52        NaT  Краснодар     Рафаил   \n",
       "4  1000_4   2018-12-05     1000     12   52        NaT  Краснодар     Рафаил   \n",
       "\n",
       "   last_name   reg_date tariff  \n",
       "0  Верещагин 2018-05-25  ultra  \n",
       "1  Верещагин 2018-05-25  ultra  \n",
       "2  Верещагин 2018-05-25  ultra  \n",
       "3  Верещагин 2018-05-25  ultra  \n",
       "4  Верещагин 2018-05-25  ultra  "
      ]
     },
     "execution_count": 45,
     "metadata": {},
     "output_type": "execute_result"
    }
   ],
   "source": [
    "messages['month'] = messages['message_date'].dt.month\n",
    "messages_new = messages.merge(users, on='user_id', how='inner')\n",
    "messages_new.head()"
   ]
  },
  {
   "cell_type": "code",
   "execution_count": 46,
   "metadata": {},
   "outputs": [
    {
     "data": {
      "text/html": [
       "<div>\n",
       "<style scoped>\n",
       "    .dataframe tbody tr th:only-of-type {\n",
       "        vertical-align: middle;\n",
       "    }\n",
       "\n",
       "    .dataframe tbody tr th {\n",
       "        vertical-align: top;\n",
       "    }\n",
       "\n",
       "    .dataframe thead th {\n",
       "        text-align: right;\n",
       "    }\n",
       "</style>\n",
       "<table border=\"1\" class=\"dataframe\">\n",
       "  <thead>\n",
       "    <tr style=\"text-align: right;\">\n",
       "      <th></th>\n",
       "      <th></th>\n",
       "      <th>messages</th>\n",
       "    </tr>\n",
       "    <tr>\n",
       "      <th>user_id</th>\n",
       "      <th>month</th>\n",
       "      <th></th>\n",
       "    </tr>\n",
       "  </thead>\n",
       "  <tbody>\n",
       "    <tr>\n",
       "      <td rowspan=\"5\" valign=\"top\">1000</td>\n",
       "      <td>5</td>\n",
       "      <td>22</td>\n",
       "    </tr>\n",
       "    <tr>\n",
       "      <td>6</td>\n",
       "      <td>60</td>\n",
       "    </tr>\n",
       "    <tr>\n",
       "      <td>7</td>\n",
       "      <td>75</td>\n",
       "    </tr>\n",
       "    <tr>\n",
       "      <td>8</td>\n",
       "      <td>81</td>\n",
       "    </tr>\n",
       "    <tr>\n",
       "      <td>9</td>\n",
       "      <td>57</td>\n",
       "    </tr>\n",
       "    <tr>\n",
       "      <td>...</td>\n",
       "      <td>...</td>\n",
       "      <td>...</td>\n",
       "    </tr>\n",
       "    <tr>\n",
       "      <td>1498</td>\n",
       "      <td>10</td>\n",
       "      <td>42</td>\n",
       "    </tr>\n",
       "    <tr>\n",
       "      <td rowspan=\"4\" valign=\"top\">1499</td>\n",
       "      <td>9</td>\n",
       "      <td>11</td>\n",
       "    </tr>\n",
       "    <tr>\n",
       "      <td>10</td>\n",
       "      <td>48</td>\n",
       "    </tr>\n",
       "    <tr>\n",
       "      <td>11</td>\n",
       "      <td>59</td>\n",
       "    </tr>\n",
       "    <tr>\n",
       "      <td>12</td>\n",
       "      <td>66</td>\n",
       "    </tr>\n",
       "  </tbody>\n",
       "</table>\n",
       "<p>2717 rows × 1 columns</p>\n",
       "</div>"
      ],
      "text/plain": [
       "               messages\n",
       "user_id month          \n",
       "1000    5            22\n",
       "        6            60\n",
       "        7            75\n",
       "        8            81\n",
       "        9            57\n",
       "...                 ...\n",
       "1498    10           42\n",
       "1499    9            11\n",
       "        10           48\n",
       "        11           59\n",
       "        12           66\n",
       "\n",
       "[2717 rows x 1 columns]"
      ]
     },
     "execution_count": 46,
     "metadata": {},
     "output_type": "execute_result"
    }
   ],
   "source": [
    "messages_grouped = messages_new.pivot_table(index=['user_id', 'month'], values='city', aggfunc='count')\n",
    "messages_grouped.columns = ['messages']\n",
    "messages_grouped"
   ]
  },
  {
   "cell_type": "markdown",
   "metadata": {},
   "source": [
    "### Объем израсходованного интернет-трафика по месяцам"
   ]
  },
  {
   "cell_type": "markdown",
   "metadata": {},
   "source": [
    "Объединим данные двух таблиц. Получим сводную таблицу по интернет-трафику."
   ]
  },
  {
   "cell_type": "code",
   "execution_count": 47,
   "metadata": {},
   "outputs": [
    {
     "data": {
      "text/html": [
       "<div>\n",
       "<style scoped>\n",
       "    .dataframe tbody tr th:only-of-type {\n",
       "        vertical-align: middle;\n",
       "    }\n",
       "\n",
       "    .dataframe tbody tr th {\n",
       "        vertical-align: top;\n",
       "    }\n",
       "\n",
       "    .dataframe thead th {\n",
       "        text-align: right;\n",
       "    }\n",
       "</style>\n",
       "<table border=\"1\" class=\"dataframe\">\n",
       "  <thead>\n",
       "    <tr style=\"text-align: right;\">\n",
       "      <th></th>\n",
       "      <th>Unnamed: 0</th>\n",
       "      <th>id</th>\n",
       "      <th>mb_used</th>\n",
       "      <th>session_date</th>\n",
       "      <th>user_id</th>\n",
       "      <th>nulls</th>\n",
       "      <th>month</th>\n",
       "      <th>age</th>\n",
       "      <th>churn_date</th>\n",
       "      <th>city</th>\n",
       "      <th>first_name</th>\n",
       "      <th>last_name</th>\n",
       "      <th>reg_date</th>\n",
       "      <th>tariff</th>\n",
       "    </tr>\n",
       "  </thead>\n",
       "  <tbody>\n",
       "    <tr>\n",
       "      <td>0</td>\n",
       "      <td>0</td>\n",
       "      <td>1000_0</td>\n",
       "      <td>113.0</td>\n",
       "      <td>2018-11-25</td>\n",
       "      <td>1000</td>\n",
       "      <td>NaN</td>\n",
       "      <td>11</td>\n",
       "      <td>52</td>\n",
       "      <td>NaT</td>\n",
       "      <td>Краснодар</td>\n",
       "      <td>Рафаил</td>\n",
       "      <td>Верещагин</td>\n",
       "      <td>2018-05-25</td>\n",
       "      <td>ultra</td>\n",
       "    </tr>\n",
       "    <tr>\n",
       "      <td>1</td>\n",
       "      <td>1</td>\n",
       "      <td>1000_1</td>\n",
       "      <td>1053.0</td>\n",
       "      <td>2018-09-07</td>\n",
       "      <td>1000</td>\n",
       "      <td>NaN</td>\n",
       "      <td>9</td>\n",
       "      <td>52</td>\n",
       "      <td>NaT</td>\n",
       "      <td>Краснодар</td>\n",
       "      <td>Рафаил</td>\n",
       "      <td>Верещагин</td>\n",
       "      <td>2018-05-25</td>\n",
       "      <td>ultra</td>\n",
       "    </tr>\n",
       "    <tr>\n",
       "      <td>2</td>\n",
       "      <td>2</td>\n",
       "      <td>1000_2</td>\n",
       "      <td>1198.0</td>\n",
       "      <td>2018-06-25</td>\n",
       "      <td>1000</td>\n",
       "      <td>NaN</td>\n",
       "      <td>6</td>\n",
       "      <td>52</td>\n",
       "      <td>NaT</td>\n",
       "      <td>Краснодар</td>\n",
       "      <td>Рафаил</td>\n",
       "      <td>Верещагин</td>\n",
       "      <td>2018-05-25</td>\n",
       "      <td>ultra</td>\n",
       "    </tr>\n",
       "    <tr>\n",
       "      <td>3</td>\n",
       "      <td>3</td>\n",
       "      <td>1000_3</td>\n",
       "      <td>551.0</td>\n",
       "      <td>2018-08-22</td>\n",
       "      <td>1000</td>\n",
       "      <td>NaN</td>\n",
       "      <td>8</td>\n",
       "      <td>52</td>\n",
       "      <td>NaT</td>\n",
       "      <td>Краснодар</td>\n",
       "      <td>Рафаил</td>\n",
       "      <td>Верещагин</td>\n",
       "      <td>2018-05-25</td>\n",
       "      <td>ultra</td>\n",
       "    </tr>\n",
       "    <tr>\n",
       "      <td>4</td>\n",
       "      <td>4</td>\n",
       "      <td>1000_4</td>\n",
       "      <td>303.0</td>\n",
       "      <td>2018-09-24</td>\n",
       "      <td>1000</td>\n",
       "      <td>NaN</td>\n",
       "      <td>9</td>\n",
       "      <td>52</td>\n",
       "      <td>NaT</td>\n",
       "      <td>Краснодар</td>\n",
       "      <td>Рафаил</td>\n",
       "      <td>Верещагин</td>\n",
       "      <td>2018-05-25</td>\n",
       "      <td>ultra</td>\n",
       "    </tr>\n",
       "  </tbody>\n",
       "</table>\n",
       "</div>"
      ],
      "text/plain": [
       "   Unnamed: 0      id  mb_used session_date  user_id  nulls  month  age  \\\n",
       "0           0  1000_0    113.0   2018-11-25     1000    NaN     11   52   \n",
       "1           1  1000_1   1053.0   2018-09-07     1000    NaN      9   52   \n",
       "2           2  1000_2   1198.0   2018-06-25     1000    NaN      6   52   \n",
       "3           3  1000_3    551.0   2018-08-22     1000    NaN      8   52   \n",
       "4           4  1000_4    303.0   2018-09-24     1000    NaN      9   52   \n",
       "\n",
       "  churn_date       city first_name  last_name   reg_date tariff  \n",
       "0        NaT  Краснодар     Рафаил  Верещагин 2018-05-25  ultra  \n",
       "1        NaT  Краснодар     Рафаил  Верещагин 2018-05-25  ultra  \n",
       "2        NaT  Краснодар     Рафаил  Верещагин 2018-05-25  ultra  \n",
       "3        NaT  Краснодар     Рафаил  Верещагин 2018-05-25  ultra  \n",
       "4        NaT  Краснодар     Рафаил  Верещагин 2018-05-25  ultra  "
      ]
     },
     "execution_count": 47,
     "metadata": {},
     "output_type": "execute_result"
    }
   ],
   "source": [
    "internet_new = internet.merge(users, on='user_id', how='inner')\n",
    "internet_new.head()"
   ]
  },
  {
   "cell_type": "code",
   "execution_count": 48,
   "metadata": {},
   "outputs": [
    {
     "data": {
      "text/html": [
       "<div>\n",
       "<style scoped>\n",
       "    .dataframe tbody tr th:only-of-type {\n",
       "        vertical-align: middle;\n",
       "    }\n",
       "\n",
       "    .dataframe tbody tr th {\n",
       "        vertical-align: top;\n",
       "    }\n",
       "\n",
       "    .dataframe thead th {\n",
       "        text-align: right;\n",
       "    }\n",
       "</style>\n",
       "<table border=\"1\" class=\"dataframe\">\n",
       "  <thead>\n",
       "    <tr style=\"text-align: right;\">\n",
       "      <th></th>\n",
       "      <th></th>\n",
       "      <th>mb_used</th>\n",
       "    </tr>\n",
       "    <tr>\n",
       "      <th>user_id</th>\n",
       "      <th>month</th>\n",
       "      <th></th>\n",
       "    </tr>\n",
       "  </thead>\n",
       "  <tbody>\n",
       "    <tr>\n",
       "      <td rowspan=\"5\" valign=\"top\">1000</td>\n",
       "      <td>5</td>\n",
       "      <td>2257.0</td>\n",
       "    </tr>\n",
       "    <tr>\n",
       "      <td>6</td>\n",
       "      <td>23262.0</td>\n",
       "    </tr>\n",
       "    <tr>\n",
       "      <td>7</td>\n",
       "      <td>14017.0</td>\n",
       "    </tr>\n",
       "    <tr>\n",
       "      <td>8</td>\n",
       "      <td>14072.0</td>\n",
       "    </tr>\n",
       "    <tr>\n",
       "      <td>9</td>\n",
       "      <td>14583.0</td>\n",
       "    </tr>\n",
       "    <tr>\n",
       "      <td>...</td>\n",
       "      <td>...</td>\n",
       "      <td>...</td>\n",
       "    </tr>\n",
       "    <tr>\n",
       "      <td>1498</td>\n",
       "      <td>10</td>\n",
       "      <td>20614.0</td>\n",
       "    </tr>\n",
       "    <tr>\n",
       "      <td rowspan=\"4\" valign=\"top\">1499</td>\n",
       "      <td>9</td>\n",
       "      <td>1849.0</td>\n",
       "    </tr>\n",
       "    <tr>\n",
       "      <td>10</td>\n",
       "      <td>17824.0</td>\n",
       "    </tr>\n",
       "    <tr>\n",
       "      <td>11</td>\n",
       "      <td>17994.0</td>\n",
       "    </tr>\n",
       "    <tr>\n",
       "      <td>12</td>\n",
       "      <td>13082.0</td>\n",
       "    </tr>\n",
       "  </tbody>\n",
       "</table>\n",
       "<p>3203 rows × 1 columns</p>\n",
       "</div>"
      ],
      "text/plain": [
       "               mb_used\n",
       "user_id month         \n",
       "1000    5       2257.0\n",
       "        6      23262.0\n",
       "        7      14017.0\n",
       "        8      14072.0\n",
       "        9      14583.0\n",
       "...                ...\n",
       "1498    10     20614.0\n",
       "1499    9       1849.0\n",
       "        10     17824.0\n",
       "        11     17994.0\n",
       "        12     13082.0\n",
       "\n",
       "[3203 rows x 1 columns]"
      ]
     },
     "execution_count": 48,
     "metadata": {},
     "output_type": "execute_result"
    }
   ],
   "source": [
    "internet_grouped = internet_new.pivot_table(index=['user_id', 'month'],values='mb_used',aggfunc='sum')\n",
    "internet_grouped.columns = ['mb_used']\n",
    "internet_grouped"
   ]
  },
  {
   "cell_type": "markdown",
   "metadata": {},
   "source": [
    "### Сводная таблица по всем трем полученным таблицам."
   ]
  },
  {
   "cell_type": "code",
   "execution_count": 49,
   "metadata": {},
   "outputs": [
    {
     "data": {
      "text/html": [
       "<div>\n",
       "<style scoped>\n",
       "    .dataframe tbody tr th:only-of-type {\n",
       "        vertical-align: middle;\n",
       "    }\n",
       "\n",
       "    .dataframe tbody tr th {\n",
       "        vertical-align: top;\n",
       "    }\n",
       "\n",
       "    .dataframe thead th {\n",
       "        text-align: right;\n",
       "    }\n",
       "</style>\n",
       "<table border=\"1\" class=\"dataframe\">\n",
       "  <thead>\n",
       "    <tr style=\"text-align: right;\">\n",
       "      <th></th>\n",
       "      <th></th>\n",
       "      <th>calls</th>\n",
       "      <th>duration</th>\n",
       "      <th>messages</th>\n",
       "      <th>mb_used</th>\n",
       "    </tr>\n",
       "    <tr>\n",
       "      <th>user_id</th>\n",
       "      <th>month</th>\n",
       "      <th></th>\n",
       "      <th></th>\n",
       "      <th></th>\n",
       "      <th></th>\n",
       "    </tr>\n",
       "  </thead>\n",
       "  <tbody>\n",
       "    <tr>\n",
       "      <td rowspan=\"5\" valign=\"top\">1000</td>\n",
       "      <td>5</td>\n",
       "      <td>22</td>\n",
       "      <td>164.0</td>\n",
       "      <td>22</td>\n",
       "      <td>2257.0</td>\n",
       "    </tr>\n",
       "    <tr>\n",
       "      <td>6</td>\n",
       "      <td>43</td>\n",
       "      <td>187.0</td>\n",
       "      <td>60</td>\n",
       "      <td>23262.0</td>\n",
       "    </tr>\n",
       "    <tr>\n",
       "      <td>7</td>\n",
       "      <td>47</td>\n",
       "      <td>346.0</td>\n",
       "      <td>75</td>\n",
       "      <td>14017.0</td>\n",
       "    </tr>\n",
       "    <tr>\n",
       "      <td>8</td>\n",
       "      <td>52</td>\n",
       "      <td>418.0</td>\n",
       "      <td>81</td>\n",
       "      <td>14072.0</td>\n",
       "    </tr>\n",
       "    <tr>\n",
       "      <td>9</td>\n",
       "      <td>58</td>\n",
       "      <td>478.0</td>\n",
       "      <td>57</td>\n",
       "      <td>14583.0</td>\n",
       "    </tr>\n",
       "  </tbody>\n",
       "</table>\n",
       "</div>"
      ],
      "text/plain": [
       "               calls  duration  messages  mb_used\n",
       "user_id month                                    \n",
       "1000    5         22     164.0        22   2257.0\n",
       "        6         43     187.0        60  23262.0\n",
       "        7         47     346.0        75  14017.0\n",
       "        8         52     418.0        81  14072.0\n",
       "        9         58     478.0        57  14583.0"
      ]
     },
     "execution_count": 49,
     "metadata": {},
     "output_type": "execute_result"
    }
   ],
   "source": [
    "df1 = calls_grouped.merge(messages_grouped, on=['user_id', 'month'], how='inner')\n",
    "df2 = df1.merge(internet_grouped, on=['user_id', 'month'], how='inner')\n",
    "df2.head()"
   ]
  },
  {
   "cell_type": "code",
   "execution_count": 50,
   "metadata": {},
   "outputs": [
    {
     "data": {
      "text/html": [
       "<div>\n",
       "<style scoped>\n",
       "    .dataframe tbody tr th:only-of-type {\n",
       "        vertical-align: middle;\n",
       "    }\n",
       "\n",
       "    .dataframe tbody tr th {\n",
       "        vertical-align: top;\n",
       "    }\n",
       "\n",
       "    .dataframe thead th {\n",
       "        text-align: right;\n",
       "    }\n",
       "</style>\n",
       "<table border=\"1\" class=\"dataframe\">\n",
       "  <thead>\n",
       "    <tr style=\"text-align: right;\">\n",
       "      <th></th>\n",
       "      <th></th>\n",
       "      <th>calls</th>\n",
       "      <th>duration</th>\n",
       "      <th>messages</th>\n",
       "      <th>mb_used</th>\n",
       "      <th>tariff</th>\n",
       "    </tr>\n",
       "    <tr>\n",
       "      <th>user_id</th>\n",
       "      <th>month</th>\n",
       "      <th></th>\n",
       "      <th></th>\n",
       "      <th></th>\n",
       "      <th></th>\n",
       "      <th></th>\n",
       "    </tr>\n",
       "  </thead>\n",
       "  <tbody>\n",
       "    <tr>\n",
       "      <td rowspan=\"5\" valign=\"top\">1000</td>\n",
       "      <td>5</td>\n",
       "      <td>22</td>\n",
       "      <td>164.0</td>\n",
       "      <td>22</td>\n",
       "      <td>2257.0</td>\n",
       "      <td>ultra</td>\n",
       "    </tr>\n",
       "    <tr>\n",
       "      <td>6</td>\n",
       "      <td>43</td>\n",
       "      <td>187.0</td>\n",
       "      <td>60</td>\n",
       "      <td>23262.0</td>\n",
       "      <td>ultra</td>\n",
       "    </tr>\n",
       "    <tr>\n",
       "      <td>7</td>\n",
       "      <td>47</td>\n",
       "      <td>346.0</td>\n",
       "      <td>75</td>\n",
       "      <td>14017.0</td>\n",
       "      <td>ultra</td>\n",
       "    </tr>\n",
       "    <tr>\n",
       "      <td>8</td>\n",
       "      <td>52</td>\n",
       "      <td>418.0</td>\n",
       "      <td>81</td>\n",
       "      <td>14072.0</td>\n",
       "      <td>ultra</td>\n",
       "    </tr>\n",
       "    <tr>\n",
       "      <td>9</td>\n",
       "      <td>58</td>\n",
       "      <td>478.0</td>\n",
       "      <td>57</td>\n",
       "      <td>14583.0</td>\n",
       "      <td>ultra</td>\n",
       "    </tr>\n",
       "  </tbody>\n",
       "</table>\n",
       "</div>"
      ],
      "text/plain": [
       "               calls  duration  messages  mb_used tariff\n",
       "user_id month                                           \n",
       "1000    5         22     164.0        22   2257.0  ultra\n",
       "        6         43     187.0        60  23262.0  ultra\n",
       "        7         47     346.0        75  14017.0  ultra\n",
       "        8         52     418.0        81  14072.0  ultra\n",
       "        9         58     478.0        57  14583.0  ultra"
      ]
     },
     "execution_count": 50,
     "metadata": {},
     "output_type": "execute_result"
    }
   ],
   "source": [
    "for user in df2.index:\n",
    "    df2.loc[user, 'tariff'] = users.loc[user[0]- 1000, 'tariff']\n",
    "df2.head()"
   ]
  },
  {
   "cell_type": "markdown",
   "metadata": {},
   "source": [
    "### Помесячная выручка с каждого пользователя"
   ]
  },
  {
   "cell_type": "markdown",
   "metadata": {},
   "source": [
    "Теперь для каждого пользователя посчитаем помесячную выручку (вычтем бесплатный лимит из суммарного количества звонков, сообщений и интернет-трафика; остаток умножим на значение из тарифного плана; прибавим абонентскую плату, соответствующую тарифному плану)."
   ]
  },
  {
   "cell_type": "code",
   "execution_count": 51,
   "metadata": {
    "scrolled": true
   },
   "outputs": [
    {
     "data": {
      "text/html": [
       "<div>\n",
       "<style scoped>\n",
       "    .dataframe tbody tr th:only-of-type {\n",
       "        vertical-align: middle;\n",
       "    }\n",
       "\n",
       "    .dataframe tbody tr th {\n",
       "        vertical-align: top;\n",
       "    }\n",
       "\n",
       "    .dataframe thead th {\n",
       "        text-align: right;\n",
       "    }\n",
       "</style>\n",
       "<table border=\"1\" class=\"dataframe\">\n",
       "  <thead>\n",
       "    <tr style=\"text-align: right;\">\n",
       "      <th></th>\n",
       "      <th></th>\n",
       "      <th>calls</th>\n",
       "      <th>duration</th>\n",
       "      <th>messages</th>\n",
       "      <th>mb_used</th>\n",
       "      <th>tariff</th>\n",
       "      <th>pay</th>\n",
       "    </tr>\n",
       "    <tr>\n",
       "      <th>user_id</th>\n",
       "      <th>month</th>\n",
       "      <th></th>\n",
       "      <th></th>\n",
       "      <th></th>\n",
       "      <th></th>\n",
       "      <th></th>\n",
       "      <th></th>\n",
       "    </tr>\n",
       "  </thead>\n",
       "  <tbody>\n",
       "    <tr>\n",
       "      <td rowspan=\"8\" valign=\"top\">1000</td>\n",
       "      <td>5</td>\n",
       "      <td>22</td>\n",
       "      <td>164.0</td>\n",
       "      <td>22</td>\n",
       "      <td>2257.0</td>\n",
       "      <td>ultra</td>\n",
       "      <td>1950.000000</td>\n",
       "    </tr>\n",
       "    <tr>\n",
       "      <td>6</td>\n",
       "      <td>43</td>\n",
       "      <td>187.0</td>\n",
       "      <td>60</td>\n",
       "      <td>23262.0</td>\n",
       "      <td>ultra</td>\n",
       "      <td>1950.000000</td>\n",
       "    </tr>\n",
       "    <tr>\n",
       "      <td>7</td>\n",
       "      <td>47</td>\n",
       "      <td>346.0</td>\n",
       "      <td>75</td>\n",
       "      <td>14017.0</td>\n",
       "      <td>ultra</td>\n",
       "      <td>1950.000000</td>\n",
       "    </tr>\n",
       "    <tr>\n",
       "      <td>8</td>\n",
       "      <td>52</td>\n",
       "      <td>418.0</td>\n",
       "      <td>81</td>\n",
       "      <td>14072.0</td>\n",
       "      <td>ultra</td>\n",
       "      <td>1950.000000</td>\n",
       "    </tr>\n",
       "    <tr>\n",
       "      <td>9</td>\n",
       "      <td>58</td>\n",
       "      <td>478.0</td>\n",
       "      <td>57</td>\n",
       "      <td>14583.0</td>\n",
       "      <td>ultra</td>\n",
       "      <td>1950.000000</td>\n",
       "    </tr>\n",
       "    <tr>\n",
       "      <td>10</td>\n",
       "      <td>57</td>\n",
       "      <td>363.0</td>\n",
       "      <td>73</td>\n",
       "      <td>14717.0</td>\n",
       "      <td>ultra</td>\n",
       "      <td>1950.000000</td>\n",
       "    </tr>\n",
       "    <tr>\n",
       "      <td>11</td>\n",
       "      <td>43</td>\n",
       "      <td>344.0</td>\n",
       "      <td>58</td>\n",
       "      <td>14769.0</td>\n",
       "      <td>ultra</td>\n",
       "      <td>1950.000000</td>\n",
       "    </tr>\n",
       "    <tr>\n",
       "      <td>12</td>\n",
       "      <td>46</td>\n",
       "      <td>341.0</td>\n",
       "      <td>70</td>\n",
       "      <td>9829.0</td>\n",
       "      <td>ultra</td>\n",
       "      <td>1950.000000</td>\n",
       "    </tr>\n",
       "    <tr>\n",
       "      <td rowspan=\"2\" valign=\"top\">1002</td>\n",
       "      <td>6</td>\n",
       "      <td>15</td>\n",
       "      <td>118.0</td>\n",
       "      <td>4</td>\n",
       "      <td>10878.0</td>\n",
       "      <td>smart</td>\n",
       "      <td>550.000000</td>\n",
       "    </tr>\n",
       "    <tr>\n",
       "      <td>7</td>\n",
       "      <td>26</td>\n",
       "      <td>219.0</td>\n",
       "      <td>11</td>\n",
       "      <td>17615.0</td>\n",
       "      <td>smart</td>\n",
       "      <td>990.429688</td>\n",
       "    </tr>\n",
       "  </tbody>\n",
       "</table>\n",
       "</div>"
      ],
      "text/plain": [
       "               calls  duration  messages  mb_used tariff          pay\n",
       "user_id month                                                        \n",
       "1000    5         22     164.0        22   2257.0  ultra  1950.000000\n",
       "        6         43     187.0        60  23262.0  ultra  1950.000000\n",
       "        7         47     346.0        75  14017.0  ultra  1950.000000\n",
       "        8         52     418.0        81  14072.0  ultra  1950.000000\n",
       "        9         58     478.0        57  14583.0  ultra  1950.000000\n",
       "        10        57     363.0        73  14717.0  ultra  1950.000000\n",
       "        11        43     344.0        58  14769.0  ultra  1950.000000\n",
       "        12        46     341.0        70   9829.0  ultra  1950.000000\n",
       "1002    6         15     118.0         4  10878.0  smart   550.000000\n",
       "        7         26     219.0        11  17615.0  smart   990.429688"
      ]
     },
     "execution_count": 51,
     "metadata": {},
     "output_type": "execute_result"
    }
   ],
   "source": [
    "def det_revenue(row):\n",
    "    tariff = row['tariff']\n",
    "    duration = row['duration']\n",
    "    calls = row['calls']\n",
    "    messages = row['messages']\n",
    "    mb_used = row['mb_used']\n",
    "   \n",
    "    if tariff == 'smart':\n",
    "        over_duration = duration - tariffs.loc[0, 'minutes_included']\n",
    "        over_messages = messages - tariffs.loc[0, 'messages_included']\n",
    "        over_mb = mb_used - tariffs.loc[0, 'mb_per_month_included']\n",
    "        \n",
    "        if over_duration < 0: \n",
    "            over_duration = 0\n",
    "        if over_messages < 0: \n",
    "            over_messages = 0\n",
    "        if over_mb < 0: \n",
    "            over_mb = 0\n",
    "        \n",
    "        return (over_duration * tariffs.loc[0, 'rub_per_minute'] + \n",
    "                over_messages * tariffs.loc[0, 'rub_per_message'] + \n",
    "                over_mb * (tariffs.loc[0, 'rub_per_gb'] / 1024) + \n",
    "                tariffs.loc[0, 'rub_monthly_fee']) \n",
    "    \n",
    "    if tariff == 'ultra':\n",
    "        over_duration = duration - tariffs.loc[1, 'minutes_included']\n",
    "        over_messages = messages - tariffs.loc[1, 'messages_included']\n",
    "        over_mb = mb_used - tariffs.loc[1, 'mb_per_month_included']\n",
    "        \n",
    "        if over_duration < 0: \n",
    "            over_duration = 0\n",
    "        if over_messages < 0: \n",
    "            over_messages = 0\n",
    "        if over_mb < 0: \n",
    "            over_mb = 0\n",
    "        \n",
    "        return (over_duration * tariffs.loc[1, 'rub_per_minute'] + \n",
    "                over_messages * tariffs.loc[1, 'rub_per_message'] + \n",
    "                over_mb * (tariffs.loc[1, 'rub_per_gb'] / 1024) + \n",
    "                tariffs.loc[1, 'rub_monthly_fee'])\n",
    "\n",
    "df2['pay'] = df2.apply(det_revenue, axis=1)\n",
    "df2.head(10)"
   ]
  },
  {
   "cell_type": "markdown",
   "metadata": {},
   "source": [
    "## Шаг 3. Анадиз данных"
   ]
  },
  {
   "cell_type": "markdown",
   "metadata": {},
   "source": [
    "### Посчитаем минуты разговора, количество сообщений и объем интернет-трафика"
   ]
  },
  {
   "cell_type": "markdown",
   "metadata": {},
   "source": [
    "Посчитаем сколько минут разговора, сколько сообщений и какой объём интернет-трафика требуется пользователям каждого тарифа в месяц."
   ]
  },
  {
   "cell_type": "code",
   "execution_count": 52,
   "metadata": {},
   "outputs": [
    {
     "data": {
      "text/html": [
       "<div>\n",
       "<style scoped>\n",
       "    .dataframe tbody tr th:only-of-type {\n",
       "        vertical-align: middle;\n",
       "    }\n",
       "\n",
       "    .dataframe tbody tr th {\n",
       "        vertical-align: top;\n",
       "    }\n",
       "\n",
       "    .dataframe thead th {\n",
       "        text-align: right;\n",
       "    }\n",
       "</style>\n",
       "<table border=\"1\" class=\"dataframe\">\n",
       "  <thead>\n",
       "    <tr style=\"text-align: right;\">\n",
       "      <th></th>\n",
       "      <th>duration</th>\n",
       "      <th>mb_used</th>\n",
       "      <th>messages</th>\n",
       "    </tr>\n",
       "    <tr>\n",
       "      <th>user_id</th>\n",
       "      <th></th>\n",
       "      <th></th>\n",
       "      <th></th>\n",
       "    </tr>\n",
       "  </thead>\n",
       "  <tbody>\n",
       "    <tr>\n",
       "      <td>1000</td>\n",
       "      <td>330.125000</td>\n",
       "      <td>13438.250000</td>\n",
       "      <td>62.0</td>\n",
       "    </tr>\n",
       "    <tr>\n",
       "      <td>1002</td>\n",
       "      <td>223.000000</td>\n",
       "      <td>16607.857143</td>\n",
       "      <td>10.0</td>\n",
       "    </tr>\n",
       "    <tr>\n",
       "      <td>1003</td>\n",
       "      <td>782.800000</td>\n",
       "      <td>11466.200000</td>\n",
       "      <td>76.0</td>\n",
       "    </tr>\n",
       "    <tr>\n",
       "      <td>1004</td>\n",
       "      <td>128.000000</td>\n",
       "      <td>18649.250000</td>\n",
       "      <td>149.0</td>\n",
       "    </tr>\n",
       "    <tr>\n",
       "      <td>1005</td>\n",
       "      <td>564.333333</td>\n",
       "      <td>8320.916667</td>\n",
       "      <td>46.0</td>\n",
       "    </tr>\n",
       "    <tr>\n",
       "      <td>...</td>\n",
       "      <td>...</td>\n",
       "      <td>...</td>\n",
       "      <td>...</td>\n",
       "    </tr>\n",
       "    <tr>\n",
       "      <td>1495</td>\n",
       "      <td>803.800000</td>\n",
       "      <td>25509.200000</td>\n",
       "      <td>68.0</td>\n",
       "    </tr>\n",
       "    <tr>\n",
       "      <td>1496</td>\n",
       "      <td>512.083333</td>\n",
       "      <td>22617.500000</td>\n",
       "      <td>39.0</td>\n",
       "    </tr>\n",
       "    <tr>\n",
       "      <td>1497</td>\n",
       "      <td>483.666667</td>\n",
       "      <td>15214.000000</td>\n",
       "      <td>17.0</td>\n",
       "    </tr>\n",
       "    <tr>\n",
       "      <td>1498</td>\n",
       "      <td>331.750000</td>\n",
       "      <td>18641.750000</td>\n",
       "      <td>42.0</td>\n",
       "    </tr>\n",
       "    <tr>\n",
       "      <td>1499</td>\n",
       "      <td>418.250000</td>\n",
       "      <td>12687.250000</td>\n",
       "      <td>46.0</td>\n",
       "    </tr>\n",
       "  </tbody>\n",
       "</table>\n",
       "<p>419 rows × 3 columns</p>\n",
       "</div>"
      ],
      "text/plain": [
       "           duration       mb_used  messages\n",
       "user_id                                    \n",
       "1000     330.125000  13438.250000      62.0\n",
       "1002     223.000000  16607.857143      10.0\n",
       "1003     782.800000  11466.200000      76.0\n",
       "1004     128.000000  18649.250000     149.0\n",
       "1005     564.333333   8320.916667      46.0\n",
       "...             ...           ...       ...\n",
       "1495     803.800000  25509.200000      68.0\n",
       "1496     512.083333  22617.500000      39.0\n",
       "1497     483.666667  15214.000000      17.0\n",
       "1498     331.750000  18641.750000      42.0\n",
       "1499     418.250000  12687.250000      46.0\n",
       "\n",
       "[419 rows x 3 columns]"
      ]
     },
     "execution_count": 52,
     "metadata": {},
     "output_type": "execute_result"
    }
   ],
   "source": [
    "mean = df2.pivot_table(index='user_id', values=['duration', 'messages', 'mb_used'], aggfunc='mean')\n",
    "mean"
   ]
  },
  {
   "cell_type": "code",
   "execution_count": 53,
   "metadata": {},
   "outputs": [
    {
     "data": {
      "text/html": [
       "<div>\n",
       "<style scoped>\n",
       "    .dataframe tbody tr th:only-of-type {\n",
       "        vertical-align: middle;\n",
       "    }\n",
       "\n",
       "    .dataframe tbody tr th {\n",
       "        vertical-align: top;\n",
       "    }\n",
       "\n",
       "    .dataframe thead th {\n",
       "        text-align: right;\n",
       "    }\n",
       "</style>\n",
       "<table border=\"1\" class=\"dataframe\">\n",
       "  <thead>\n",
       "    <tr style=\"text-align: right;\">\n",
       "      <th></th>\n",
       "      <th>duration</th>\n",
       "      <th>mb_used</th>\n",
       "      <th>messages</th>\n",
       "      <th>tariff</th>\n",
       "    </tr>\n",
       "    <tr>\n",
       "      <th>user_id</th>\n",
       "      <th></th>\n",
       "      <th></th>\n",
       "      <th></th>\n",
       "      <th></th>\n",
       "    </tr>\n",
       "  </thead>\n",
       "  <tbody>\n",
       "    <tr>\n",
       "      <td>1000</td>\n",
       "      <td>330.125000</td>\n",
       "      <td>13438.250000</td>\n",
       "      <td>62.0</td>\n",
       "      <td>ultra</td>\n",
       "    </tr>\n",
       "    <tr>\n",
       "      <td>1002</td>\n",
       "      <td>223.000000</td>\n",
       "      <td>16607.857143</td>\n",
       "      <td>10.0</td>\n",
       "      <td>smart</td>\n",
       "    </tr>\n",
       "    <tr>\n",
       "      <td>1003</td>\n",
       "      <td>782.800000</td>\n",
       "      <td>11466.200000</td>\n",
       "      <td>76.0</td>\n",
       "      <td>ultra</td>\n",
       "    </tr>\n",
       "    <tr>\n",
       "      <td>1004</td>\n",
       "      <td>128.000000</td>\n",
       "      <td>18649.250000</td>\n",
       "      <td>149.0</td>\n",
       "      <td>ultra</td>\n",
       "    </tr>\n",
       "    <tr>\n",
       "      <td>1005</td>\n",
       "      <td>564.333333</td>\n",
       "      <td>8320.916667</td>\n",
       "      <td>46.0</td>\n",
       "      <td>smart</td>\n",
       "    </tr>\n",
       "  </tbody>\n",
       "</table>\n",
       "</div>"
      ],
      "text/plain": [
       "           duration       mb_used  messages tariff\n",
       "user_id                                           \n",
       "1000     330.125000  13438.250000      62.0  ultra\n",
       "1002     223.000000  16607.857143      10.0  smart\n",
       "1003     782.800000  11466.200000      76.0  ultra\n",
       "1004     128.000000  18649.250000     149.0  ultra\n",
       "1005     564.333333   8320.916667      46.0  smart"
      ]
     },
     "execution_count": 53,
     "metadata": {},
     "output_type": "execute_result"
    }
   ],
   "source": [
    "#for user in mean.index:\n",
    " #   mean.loc[user, 'tariff'] = users.loc[user- 1000, 'tariff']\n",
    "#mean.head()\n",
    "mean_new = mean.merge(df2['tariff'], on='user_id', how='inner')\n",
    "mean_new = mean_new.drop_duplicates()\n",
    "mean_new.head()"
   ]
  },
  {
   "cell_type": "code",
   "execution_count": 54,
   "metadata": {
    "scrolled": true
   },
   "outputs": [
    {
     "data": {
      "image/png": "[encoded data removed]",
      "text/plain": [
       "<Figure size 1152x288 with 1 Axes>"
      ]
     },
     "metadata": {
      "needs_background": "light"
     },
     "output_type": "display_data"
    },
    {
     "data": {
      "image/png": "[encoded data removed]",
      "text/plain": [
       "<Figure size 1152x288 with 1 Axes>"
      ]
     },
     "metadata": {
      "needs_background": "light"
     },
     "output_type": "display_data"
    },
    {
     "data": {
      "image/png": "[encoded data removed]",
      "text/plain": [
       "<Figure size 1152x288 with 1 Axes>"
      ]
     },
     "metadata": {
      "needs_background": "light"
     },
     "output_type": "display_data"
    }
   ],
   "source": [
    "smart = mean_new.query('tariff == \"smart\"')\n",
    "\n",
    "column_list = ['duration', 'messages', 'mb_used']\n",
    "name_list = {'duration':'Количество минут', 'messages':'Количество сообщений', 'mb_used':'Количество мегабайтов'}\n",
    "for column in column_list:\n",
    "    #mean_new.plot(y = column, figsize = (16,4));\n",
    "    smart.hist(column, figsize = (16,4), bins = 20);\n",
    "    plt.xlabel(name_list[column])\n",
    "    plt.ylabel('Количество пользователей');\n",
    "    plt.title('Гистаграмма распределения')\n",
    "    plt.show()"
   ]
  },
  {
   "cell_type": "code",
   "execution_count": 55,
   "metadata": {},
   "outputs": [
    {
     "data": {
      "image/png": "[encoded data removed]",
      "text/plain": [
       "<Figure size 1152x288 with 1 Axes>"
      ]
     },
     "metadata": {
      "needs_background": "light"
     },
     "output_type": "display_data"
    },
    {
     "data": {
      "image/png": "[encoded data removed]",
      "text/plain": [
       "<Figure size 1152x288 with 1 Axes>"
      ]
     },
     "metadata": {
      "needs_background": "light"
     },
     "output_type": "display_data"
    },
    {
     "data": {
      "image/png": "[encoded data removed]",
      "text/plain": [
       "<Figure size 1152x288 with 1 Axes>"
      ]
     },
     "metadata": {
      "needs_background": "light"
     },
     "output_type": "display_data"
    }
   ],
   "source": [
    "ultra = mean_new.query('tariff == \"ultra\"')\n",
    "\n",
    "column_list = ['duration', 'messages', 'mb_used']\n",
    "name_list = {'duration':'Количество минут', 'messages':'Количество сообщений', 'mb_used':'Количество мегабайтов'}\n",
    "for column in column_list:\n",
    "    #ultra.plot(y = column, figsize = (16,4));\n",
    "    ultra.hist(column, figsize = (16,4), bins = 20);\n",
    "    plt.xlabel(name_list[column])\n",
    "    plt.ylabel('Количество пользователей');\n",
    "    plt.title('Гистаграмма распределения')\n",
    "    plt.show()"
   ]
  },
  {
   "cell_type": "markdown",
   "metadata": {},
   "source": [
    "### Cреднее количество, дисперсия и стандартное отклонение"
   ]
  },
  {
   "cell_type": "markdown",
   "metadata": {},
   "source": [
    "Посчитаем среднее количество, дисперсию и стандартное отклонение по тарифу. "
   ]
  },
  {
   "cell_type": "code",
   "execution_count": 56,
   "metadata": {},
   "outputs": [
    {
     "data": {
      "text/html": [
       "<div>\n",
       "<style scoped>\n",
       "    .dataframe tbody tr th:only-of-type {\n",
       "        vertical-align: middle;\n",
       "    }\n",
       "\n",
       "    .dataframe tbody tr th {\n",
       "        vertical-align: top;\n",
       "    }\n",
       "\n",
       "    .dataframe thead th {\n",
       "        text-align: right;\n",
       "    }\n",
       "</style>\n",
       "<table border=\"1\" class=\"dataframe\">\n",
       "  <thead>\n",
       "    <tr style=\"text-align: right;\">\n",
       "      <th></th>\n",
       "      <th>duration_mean</th>\n",
       "      <th>duration_med</th>\n",
       "      <th>duration_std</th>\n",
       "      <th>duration_var</th>\n",
       "      <th>mb_used_mean</th>\n",
       "      <th>mb_used_med</th>\n",
       "      <th>mb_used_std</th>\n",
       "      <th>mb_used_var</th>\n",
       "      <th>messages_mean</th>\n",
       "      <th>messages_med</th>\n",
       "      <th>messages_std</th>\n",
       "      <th>messages_var</th>\n",
       "    </tr>\n",
       "    <tr>\n",
       "      <th>tariff</th>\n",
       "      <th></th>\n",
       "      <th></th>\n",
       "      <th></th>\n",
       "      <th></th>\n",
       "      <th></th>\n",
       "      <th></th>\n",
       "      <th></th>\n",
       "      <th></th>\n",
       "      <th></th>\n",
       "      <th></th>\n",
       "      <th></th>\n",
       "      <th></th>\n",
       "    </tr>\n",
       "  </thead>\n",
       "  <tbody>\n",
       "    <tr>\n",
       "      <td>smart</td>\n",
       "      <td>436.609220</td>\n",
       "      <td>447.000</td>\n",
       "      <td>151.965153</td>\n",
       "      <td>23093.407667</td>\n",
       "      <td>16362.866915</td>\n",
       "      <td>16287.8</td>\n",
       "      <td>3867.022036</td>\n",
       "      <td>1.495386e+07</td>\n",
       "      <td>37.640339</td>\n",
       "      <td>33.000000</td>\n",
       "      <td>24.875570</td>\n",
       "      <td>618.793959</td>\n",
       "    </tr>\n",
       "    <tr>\n",
       "      <td>ultra</td>\n",
       "      <td>574.159859</td>\n",
       "      <td>545.375</td>\n",
       "      <td>281.845177</td>\n",
       "      <td>79436.704035</td>\n",
       "      <td>19600.060162</td>\n",
       "      <td>18793.5</td>\n",
       "      <td>8084.898326</td>\n",
       "      <td>6.536558e+07</td>\n",
       "      <td>65.418990</td>\n",
       "      <td>59.166667</td>\n",
       "      <td>42.410864</td>\n",
       "      <td>1798.681344</td>\n",
       "    </tr>\n",
       "  </tbody>\n",
       "</table>\n",
       "</div>"
      ],
      "text/plain": [
       "        duration_mean  duration_med  duration_std  duration_var  mb_used_mean  \\\n",
       "tariff                                                                          \n",
       "smart      436.609220       447.000    151.965153  23093.407667  16362.866915   \n",
       "ultra      574.159859       545.375    281.845177  79436.704035  19600.060162   \n",
       "\n",
       "        mb_used_med  mb_used_std   mb_used_var  messages_mean  messages_med  \\\n",
       "tariff                                                                        \n",
       "smart       16287.8  3867.022036  1.495386e+07      37.640339     33.000000   \n",
       "ultra       18793.5  8084.898326  6.536558e+07      65.418990     59.166667   \n",
       "\n",
       "        messages_std  messages_var  \n",
       "tariff                              \n",
       "smart      24.875570    618.793959  \n",
       "ultra      42.410864   1798.681344  "
      ]
     },
     "execution_count": 56,
     "metadata": {},
     "output_type": "execute_result"
    }
   ],
   "source": [
    "stat_data = mean_new.pivot_table(index=['tariff'], \n",
    "                             values=['duration', 'messages', 'mb_used'],\n",
    "                             aggfunc={'duration': [np.mean, np.median, np.var, np.std], \n",
    "                             'messages': [np.mean, np.median, np.var, np.std],\n",
    "                             'mb_used': [np.mean, np.median, np.var, np.std]})\n",
    "stat_data.columns = (['duration_mean', 'duration_med', 'duration_std', 'duration_var',\n",
    "                      'mb_used_mean', 'mb_used_med', 'mb_used_std', 'mb_used_var',\n",
    "                      'messages_mean', 'messages_med', 'messages_std', 'messages_var'])\n",
    "stat_data"
   ]
  },
  {
   "cell_type": "markdown",
   "metadata": {},
   "source": [
    "По тарифу Ультра дисперсия по всем показателям больше в отличии от тарифа Смарт. Так же в тарифе Ультра медианы смещены в большую сторону.\n",
    "Рассмотрим выбросы по тарифам."
   ]
  },
  {
   "cell_type": "code",
   "execution_count": 57,
   "metadata": {},
   "outputs": [
    {
     "data": {
      "image/png": "[encoded data removed]",
      "text/plain": [
       "<Figure size 360x360 with 1 Axes>"
      ]
     },
     "metadata": {
      "needs_background": "light"
     },
     "output_type": "display_data"
    },
    {
     "data": {
      "image/png": "[encoded data removed]",
      "text/plain": [
       "<Figure size 360x360 with 1 Axes>"
      ]
     },
     "metadata": {
      "needs_background": "light"
     },
     "output_type": "display_data"
    },
    {
     "data": {
      "image/png": "[encoded data removed]",
      "text/plain": [
       "<Figure size 360x360 with 1 Axes>"
      ]
     },
     "metadata": {
      "needs_background": "light"
     },
     "output_type": "display_data"
    }
   ],
   "source": [
    "for column in ['duration', 'messages', 'mb_used']:    \n",
    "    sns.catplot(x=\"tariff\", y=column, kind=\"box\", data=mean_new, orient='v')  "
   ]
  },
  {
   "cell_type": "markdown",
   "metadata": {},
   "source": [
    "Выбросов тарифе \"Смарт\", больше чем тарифе \"Ультра\"."
   ]
  },
  {
   "cell_type": "markdown",
   "metadata": {},
   "source": [
    "### Построение гистограммы"
   ]
  },
  {
   "cell_type": "markdown",
   "metadata": {},
   "source": [
    "Смарт - голубой, Ультра - красный."
   ]
  },
  {
   "cell_type": "code",
   "execution_count": 60,
   "metadata": {},
   "outputs": [
    {
     "data": {
      "image/png": "[encoded data removed]",
      "text/plain": [
       "<Figure size 432x288 with 1 Axes>"
      ]
     },
     "metadata": {
      "needs_background": "light"
     },
     "output_type": "display_data"
    }
   ],
   "source": [
    "tariff = ['ultra', 'smart']\n",
    "palette = {'ultra':'red', 'smart':'blue'}\n",
    "for tariff in tariff:\n",
    "    sns.distplot(mean_new.query('tariff == @tariff')['duration'], kde=False, label=tariff, color = palette[tariff])\n",
    "    plt.axvline(mean_new.query('tariff == @tariff')['duration'].mean(), color = palette[tariff])\n",
    "    plt.axvline(mean_new.query('tariff == @tariff')['duration'].quantile(0.95), \n",
    "                linestyle = ':', color = palette[tariff])\n",
    "    plt.axvline(mean_new.query('tariff == @tariff')['duration'].quantile(0.05), \n",
    "                linestyle = ':', color = palette[tariff])\n",
    "    plt.rcParams['figure.figsize']=(10,10)\n",
    "    plt.legend()\n",
    "    plt.xlabel('Количество минут, мин')\n",
    "    plt.ylabel('Количество пользователей');\n",
    "    plt.title('Гистаграмма распределения минут разговора')"
   ]
  },
  {
   "cell_type": "code",
   "execution_count": 61,
   "metadata": {},
   "outputs": [
    {
     "data": {
      "image/png": "[encoded data removed]",
      "text/plain": [
       "<Figure size 720x720 with 1 Axes>"
      ]
     },
     "metadata": {
      "needs_background": "light"
     },
     "output_type": "display_data"
    }
   ],
   "source": [
    "tariff = ['ultra', 'smart']\n",
    "palette = {'ultra':'red', 'smart':'blue'}\n",
    "for tariff in tariff:\n",
    "    sns.distplot(mean_new.query('tariff == @tariff')['messages'], kde=False, label=tariff, color = palette[tariff])\n",
    "    plt.axvline(mean_new.query('tariff == @tariff')['messages'].mean(), color = palette[tariff])\n",
    "    plt.axvline(mean_new.query('tariff == @tariff')['messages'].quantile(0.95), \n",
    "                linestyle = ':', color = palette[tariff])\n",
    "    plt.axvline(mean_new.query('tariff == @tariff')['messages'].quantile(0.05), \n",
    "                linestyle = ':', color = palette[tariff])\n",
    "    plt.rcParams['figure.figsize']=(10,10)\n",
    "    plt.legend()\n",
    "    plt.xlabel('Количество сообщений, шт')\n",
    "    plt.ylabel('Количество пользователей');\n",
    "    plt.title('Гистаграмма распределения минут разговора')"
   ]
  },
  {
   "cell_type": "code",
   "execution_count": 62,
   "metadata": {},
   "outputs": [
    {
     "data": {
      "image/png": "[encoded data removed]",
      "text/plain": [
       "<Figure size 720x720 with 1 Axes>"
      ]
     },
     "metadata": {
      "needs_background": "light"
     },
     "output_type": "display_data"
    }
   ],
   "source": [
    "tariff = ['ultra', 'smart']\n",
    "palette = {'ultra':'red', 'smart':'blue'}\n",
    "for tariff in tariff:\n",
    "    sns.distplot(mean_new.query('tariff == @tariff')['mb_used'], kde=False, label=tariff, color = palette[tariff])\n",
    "    plt.axvline(mean_new.query('tariff == @tariff')['mb_used'].mean(), color = palette[tariff])\n",
    "    plt.axvline(mean_new.query('tariff == @tariff')['mb_used'].quantile(0.95), \n",
    "                linestyle = ':', color = palette[tariff])\n",
    "    plt.axvline(mean_new.query('tariff == @tariff')['mb_used'].quantile(0.05), \n",
    "                linestyle = ':', color = palette[tariff])\n",
    "    plt.rcParams['figure.figsize']=(10,10) \n",
    "    plt.legend()\n",
    "    plt.xlabel('Количество используемого трафика, мгб')\n",
    "    plt.ylabel('Количество пользователей');\n",
    "    plt.title('Гистаграмма распределения минут разговора')"
   ]
  },
  {
   "cell_type": "markdown",
   "metadata": {},
   "source": [
    "\n",
    "По гистограммам видно, что дисперсия по тарифу \"Ультра\" действительно больше чем у тарифа \"Смарт\" по всем показателям. Так же стоит отметить, что мода у тарифа \"Смарт\" более выражена. Это значит, что пользователи тарифа \"Ультра\" более свободны в выборе своих операций."
   ]
  },
  {
   "cell_type": "markdown",
   "metadata": {},
   "source": [
    "## Шаг 4. Проверка гипотез"
   ]
  },
  {
   "cell_type": "markdown",
   "metadata": {},
   "source": [
    "### Cредняя выручка пользователей тарифов «Ультра» и «Смарт» различается"
   ]
  },
  {
   "cell_type": "markdown",
   "metadata": {},
   "source": [
    "𝐻0  — средняя выручка пользователей тарифа «Ультра» равна средней выручке пользователей тарифа «Смарт».\n",
    "\n",
    "𝐻1  — средняя выручка пользователей тарифов «Ультра» и «Смарт» различаются.\n",
    "\n",
    "Рассмотрим диспесии"
   ]
  },
  {
   "cell_type": "code",
   "execution_count": 63,
   "metadata": {},
   "outputs": [
    {
     "data": {
      "text/html": [
       "<div>\n",
       "<style scoped>\n",
       "    .dataframe tbody tr th:only-of-type {\n",
       "        vertical-align: middle;\n",
       "    }\n",
       "\n",
       "    .dataframe tbody tr th {\n",
       "        vertical-align: top;\n",
       "    }\n",
       "\n",
       "    .dataframe thead th {\n",
       "        text-align: right;\n",
       "    }\n",
       "</style>\n",
       "<table border=\"1\" class=\"dataframe\">\n",
       "  <thead>\n",
       "    <tr style=\"text-align: right;\">\n",
       "      <th></th>\n",
       "      <th>pay</th>\n",
       "    </tr>\n",
       "    <tr>\n",
       "      <th>tariff</th>\n",
       "      <th></th>\n",
       "    </tr>\n",
       "  </thead>\n",
       "  <tbody>\n",
       "    <tr>\n",
       "      <td>smart</td>\n",
       "      <td>643853.795683</td>\n",
       "    </tr>\n",
       "    <tr>\n",
       "      <td>ultra</td>\n",
       "      <td>99479.229610</td>\n",
       "    </tr>\n",
       "  </tbody>\n",
       "</table>\n",
       "</div>"
      ],
      "text/plain": [
       "                  pay\n",
       "tariff               \n",
       "smart   643853.795683\n",
       "ultra    99479.229610"
      ]
     },
     "execution_count": 63,
     "metadata": {},
     "output_type": "execute_result"
    }
   ],
   "source": [
    "tariff_var = df2.pivot_table(index=['tariff'], values=['pay'], aggfunc=np.var)\n",
    "tariff_var"
   ]
  },
  {
   "cell_type": "markdown",
   "metadata": {},
   "source": [
    "Дисперсии отличаются, значит примем величину equal_var = False"
   ]
  },
  {
   "cell_type": "code",
   "execution_count": 64,
   "metadata": {},
   "outputs": [
    {
     "name": "stdout",
     "output_type": "stream",
     "text": [
      "p-value: 5.4128612227739204e-236\n",
      "Отвергаем нулевую гипотезу\n"
     ]
    }
   ],
   "source": [
    "ultra = df2.query('tariff == \"ultra\"')['pay']\n",
    "smart = df2.query('tariff == \"smart\"')['pay']\n",
    "alpha = .05\n",
    "\n",
    "results = st.ttest_ind(ultra, smart, equal_var = False)\n",
    "print('p-value:', results.pvalue)\n",
    "\n",
    "if (results.pvalue < alpha):\n",
    "    print(\"Отвергаем нулевую гипотезу\")\n",
    "else:\n",
    "    print(\"Не получилось отвергнуть нулевую гипотезу\")"
   ]
  },
  {
   "cell_type": "code",
   "execution_count": 65,
   "metadata": {},
   "outputs": [
    {
     "data": {
      "text/html": [
       "<div>\n",
       "<style scoped>\n",
       "    .dataframe tbody tr th:only-of-type {\n",
       "        vertical-align: middle;\n",
       "    }\n",
       "\n",
       "    .dataframe tbody tr th {\n",
       "        vertical-align: top;\n",
       "    }\n",
       "\n",
       "    .dataframe thead th {\n",
       "        text-align: right;\n",
       "    }\n",
       "</style>\n",
       "<table border=\"1\" class=\"dataframe\">\n",
       "  <thead>\n",
       "    <tr style=\"text-align: right;\">\n",
       "      <th></th>\n",
       "      <th>pay</th>\n",
       "    </tr>\n",
       "    <tr>\n",
       "      <th>tariff</th>\n",
       "      <th></th>\n",
       "    </tr>\n",
       "  </thead>\n",
       "  <tbody>\n",
       "    <tr>\n",
       "      <td>smart</td>\n",
       "      <td>981.023438</td>\n",
       "    </tr>\n",
       "    <tr>\n",
       "      <td>ultra</td>\n",
       "      <td>1950.000000</td>\n",
       "    </tr>\n",
       "  </tbody>\n",
       "</table>\n",
       "</div>"
      ],
      "text/plain": [
       "                pay\n",
       "tariff             \n",
       "smart    981.023438\n",
       "ultra   1950.000000"
      ]
     },
     "execution_count": 65,
     "metadata": {},
     "output_type": "execute_result"
    }
   ],
   "source": [
    "df2.pivot_table(index='tariff', values='pay', aggfunc='median')"
   ]
  },
  {
   "cell_type": "markdown",
   "metadata": {},
   "source": [
    "Исходя из проверки гипотез, видно что с вероятностью 95% доходы с пользователя по по тарифу \"Ультра\" действительно отличаются по сравнению с доходами от тарифа \"Смарт\". Средние значения выручки по тарифам отличаются практически в 2 раза (1950 - Ультра, 933 - Смарт). При этом из среднего потарифу Смарт видно, что в среднем пользователи переплачивают из за нехватки услуг в предлагаемом тарифном пакете."
   ]
  },
  {
   "cell_type": "markdown",
   "metadata": {},
   "source": [
    "### Cредняя выручка пользователей из Москвы отличается от выручки пользователей из других регионов"
   ]
  },
  {
   "cell_type": "markdown",
   "metadata": {},
   "source": [
    "𝐻0 — средняя выручка пользователей из Москвы равна средней выручке пользователей из других регионов.\n",
    "\n",
    "𝐻1 — средняя выручка пользователей из Москвы отличается от средней выручке пользователей из других регионов."
   ]
  },
  {
   "cell_type": "code",
   "execution_count": 66,
   "metadata": {},
   "outputs": [
    {
     "data": {
      "text/html": [
       "<div>\n",
       "<style scoped>\n",
       "    .dataframe tbody tr th:only-of-type {\n",
       "        vertical-align: middle;\n",
       "    }\n",
       "\n",
       "    .dataframe tbody tr th {\n",
       "        vertical-align: top;\n",
       "    }\n",
       "\n",
       "    .dataframe thead th {\n",
       "        text-align: right;\n",
       "    }\n",
       "</style>\n",
       "<table border=\"1\" class=\"dataframe\">\n",
       "  <thead>\n",
       "    <tr style=\"text-align: right;\">\n",
       "      <th></th>\n",
       "      <th></th>\n",
       "      <th>calls</th>\n",
       "      <th>duration</th>\n",
       "      <th>messages</th>\n",
       "      <th>mb_used</th>\n",
       "      <th>tariff</th>\n",
       "      <th>pay</th>\n",
       "      <th>city</th>\n",
       "    </tr>\n",
       "    <tr>\n",
       "      <th>user_id</th>\n",
       "      <th>month</th>\n",
       "      <th></th>\n",
       "      <th></th>\n",
       "      <th></th>\n",
       "      <th></th>\n",
       "      <th></th>\n",
       "      <th></th>\n",
       "      <th></th>\n",
       "    </tr>\n",
       "  </thead>\n",
       "  <tbody>\n",
       "    <tr>\n",
       "      <td rowspan=\"5\" valign=\"top\">1000</td>\n",
       "      <td>5</td>\n",
       "      <td>22</td>\n",
       "      <td>164.0</td>\n",
       "      <td>22</td>\n",
       "      <td>2257.0</td>\n",
       "      <td>ultra</td>\n",
       "      <td>1950.0</td>\n",
       "      <td>Краснодар</td>\n",
       "    </tr>\n",
       "    <tr>\n",
       "      <td>6</td>\n",
       "      <td>43</td>\n",
       "      <td>187.0</td>\n",
       "      <td>60</td>\n",
       "      <td>23262.0</td>\n",
       "      <td>ultra</td>\n",
       "      <td>1950.0</td>\n",
       "      <td>Краснодар</td>\n",
       "    </tr>\n",
       "    <tr>\n",
       "      <td>7</td>\n",
       "      <td>47</td>\n",
       "      <td>346.0</td>\n",
       "      <td>75</td>\n",
       "      <td>14017.0</td>\n",
       "      <td>ultra</td>\n",
       "      <td>1950.0</td>\n",
       "      <td>Краснодар</td>\n",
       "    </tr>\n",
       "    <tr>\n",
       "      <td>8</td>\n",
       "      <td>52</td>\n",
       "      <td>418.0</td>\n",
       "      <td>81</td>\n",
       "      <td>14072.0</td>\n",
       "      <td>ultra</td>\n",
       "      <td>1950.0</td>\n",
       "      <td>Краснодар</td>\n",
       "    </tr>\n",
       "    <tr>\n",
       "      <td>9</td>\n",
       "      <td>58</td>\n",
       "      <td>478.0</td>\n",
       "      <td>57</td>\n",
       "      <td>14583.0</td>\n",
       "      <td>ultra</td>\n",
       "      <td>1950.0</td>\n",
       "      <td>Краснодар</td>\n",
       "    </tr>\n",
       "  </tbody>\n",
       "</table>\n",
       "</div>"
      ],
      "text/plain": [
       "               calls  duration  messages  mb_used tariff     pay       city\n",
       "user_id month                                                              \n",
       "1000    5         22     164.0        22   2257.0  ultra  1950.0  Краснодар\n",
       "        6         43     187.0        60  23262.0  ultra  1950.0  Краснодар\n",
       "        7         47     346.0        75  14017.0  ultra  1950.0  Краснодар\n",
       "        8         52     418.0        81  14072.0  ultra  1950.0  Краснодар\n",
       "        9         58     478.0        57  14583.0  ultra  1950.0  Краснодар"
      ]
     },
     "execution_count": 66,
     "metadata": {},
     "output_type": "execute_result"
    }
   ],
   "source": [
    "for user in df2.index:\n",
    "    df2.loc[user, 'city'] = users.loc[user[0]-1000 , 'city']\n",
    "df2.head()"
   ]
  },
  {
   "cell_type": "markdown",
   "metadata": {},
   "source": [
    "Проведем категоризацию столбца city."
   ]
  },
  {
   "cell_type": "code",
   "execution_count": 67,
   "metadata": {},
   "outputs": [
    {
     "data": {
      "text/html": [
       "<div>\n",
       "<style scoped>\n",
       "    .dataframe tbody tr th:only-of-type {\n",
       "        vertical-align: middle;\n",
       "    }\n",
       "\n",
       "    .dataframe tbody tr th {\n",
       "        vertical-align: top;\n",
       "    }\n",
       "\n",
       "    .dataframe thead th {\n",
       "        text-align: right;\n",
       "    }\n",
       "</style>\n",
       "<table border=\"1\" class=\"dataframe\">\n",
       "  <thead>\n",
       "    <tr style=\"text-align: right;\">\n",
       "      <th></th>\n",
       "      <th></th>\n",
       "      <th>calls</th>\n",
       "      <th>duration</th>\n",
       "      <th>messages</th>\n",
       "      <th>mb_used</th>\n",
       "      <th>tariff</th>\n",
       "      <th>pay</th>\n",
       "      <th>city</th>\n",
       "      <th>region</th>\n",
       "    </tr>\n",
       "    <tr>\n",
       "      <th>user_id</th>\n",
       "      <th>month</th>\n",
       "      <th></th>\n",
       "      <th></th>\n",
       "      <th></th>\n",
       "      <th></th>\n",
       "      <th></th>\n",
       "      <th></th>\n",
       "      <th></th>\n",
       "      <th></th>\n",
       "    </tr>\n",
       "  </thead>\n",
       "  <tbody>\n",
       "    <tr>\n",
       "      <td rowspan=\"5\" valign=\"top\">1000</td>\n",
       "      <td>5</td>\n",
       "      <td>22</td>\n",
       "      <td>164.0</td>\n",
       "      <td>22</td>\n",
       "      <td>2257.0</td>\n",
       "      <td>ultra</td>\n",
       "      <td>1950.0</td>\n",
       "      <td>Краснодар</td>\n",
       "      <td>Регион</td>\n",
       "    </tr>\n",
       "    <tr>\n",
       "      <td>6</td>\n",
       "      <td>43</td>\n",
       "      <td>187.0</td>\n",
       "      <td>60</td>\n",
       "      <td>23262.0</td>\n",
       "      <td>ultra</td>\n",
       "      <td>1950.0</td>\n",
       "      <td>Краснодар</td>\n",
       "      <td>Регион</td>\n",
       "    </tr>\n",
       "    <tr>\n",
       "      <td>7</td>\n",
       "      <td>47</td>\n",
       "      <td>346.0</td>\n",
       "      <td>75</td>\n",
       "      <td>14017.0</td>\n",
       "      <td>ultra</td>\n",
       "      <td>1950.0</td>\n",
       "      <td>Краснодар</td>\n",
       "      <td>Регион</td>\n",
       "    </tr>\n",
       "    <tr>\n",
       "      <td>8</td>\n",
       "      <td>52</td>\n",
       "      <td>418.0</td>\n",
       "      <td>81</td>\n",
       "      <td>14072.0</td>\n",
       "      <td>ultra</td>\n",
       "      <td>1950.0</td>\n",
       "      <td>Краснодар</td>\n",
       "      <td>Регион</td>\n",
       "    </tr>\n",
       "    <tr>\n",
       "      <td>9</td>\n",
       "      <td>58</td>\n",
       "      <td>478.0</td>\n",
       "      <td>57</td>\n",
       "      <td>14583.0</td>\n",
       "      <td>ultra</td>\n",
       "      <td>1950.0</td>\n",
       "      <td>Краснодар</td>\n",
       "      <td>Регион</td>\n",
       "    </tr>\n",
       "  </tbody>\n",
       "</table>\n",
       "</div>"
      ],
      "text/plain": [
       "               calls  duration  messages  mb_used tariff     pay       city  \\\n",
       "user_id month                                                                 \n",
       "1000    5         22     164.0        22   2257.0  ultra  1950.0  Краснодар   \n",
       "        6         43     187.0        60  23262.0  ultra  1950.0  Краснодар   \n",
       "        7         47     346.0        75  14017.0  ultra  1950.0  Краснодар   \n",
       "        8         52     418.0        81  14072.0  ultra  1950.0  Краснодар   \n",
       "        9         58     478.0        57  14583.0  ultra  1950.0  Краснодар   \n",
       "\n",
       "               region  \n",
       "user_id month          \n",
       "1000    5      Регион  \n",
       "        6      Регион  \n",
       "        7      Регион  \n",
       "        8      Регион  \n",
       "        9      Регион  "
      ]
     },
     "execution_count": 67,
     "metadata": {},
     "output_type": "execute_result"
    }
   ],
   "source": [
    "def region(row):\n",
    "    city = row\n",
    "    if city == 'Москва':\n",
    "        return 'Москва'\n",
    "    return 'Регион'\n",
    "df2['region'] = df2['city'].apply(region)\n",
    "df2.head()"
   ]
  },
  {
   "cell_type": "markdown",
   "metadata": {},
   "source": [
    "Рассмотрим диспесии"
   ]
  },
  {
   "cell_type": "code",
   "execution_count": 68,
   "metadata": {},
   "outputs": [
    {
     "data": {
      "text/html": [
       "<div>\n",
       "<style scoped>\n",
       "    .dataframe tbody tr th:only-of-type {\n",
       "        vertical-align: middle;\n",
       "    }\n",
       "\n",
       "    .dataframe tbody tr th {\n",
       "        vertical-align: top;\n",
       "    }\n",
       "\n",
       "    .dataframe thead th {\n",
       "        text-align: right;\n",
       "    }\n",
       "</style>\n",
       "<table border=\"1\" class=\"dataframe\">\n",
       "  <thead>\n",
       "    <tr style=\"text-align: right;\">\n",
       "      <th></th>\n",
       "      <th>pay</th>\n",
       "    </tr>\n",
       "    <tr>\n",
       "      <th>region</th>\n",
       "      <th></th>\n",
       "    </tr>\n",
       "  </thead>\n",
       "  <tbody>\n",
       "    <tr>\n",
       "      <td>Москва</td>\n",
       "      <td>573058.119584</td>\n",
       "    </tr>\n",
       "    <tr>\n",
       "      <td>Регион</td>\n",
       "      <td>625298.082038</td>\n",
       "    </tr>\n",
       "  </tbody>\n",
       "</table>\n",
       "</div>"
      ],
      "text/plain": [
       "                  pay\n",
       "region               \n",
       "Москва  573058.119584\n",
       "Регион  625298.082038"
      ]
     },
     "execution_count": 68,
     "metadata": {},
     "output_type": "execute_result"
    }
   ],
   "source": [
    "region_var = df2.pivot_table(index=['region'], values=['pay'], aggfunc=np.var)\n",
    "region_var"
   ]
  },
  {
   "cell_type": "code",
   "execution_count": 69,
   "metadata": {},
   "outputs": [
    {
     "data": {
      "text/html": [
       "<div>\n",
       "<style scoped>\n",
       "    .dataframe tbody tr th:only-of-type {\n",
       "        vertical-align: middle;\n",
       "    }\n",
       "\n",
       "    .dataframe tbody tr th {\n",
       "        vertical-align: top;\n",
       "    }\n",
       "\n",
       "    .dataframe thead th {\n",
       "        text-align: right;\n",
       "    }\n",
       "</style>\n",
       "<table border=\"1\" class=\"dataframe\">\n",
       "  <thead>\n",
       "    <tr style=\"text-align: right;\">\n",
       "      <th></th>\n",
       "      <th></th>\n",
       "      <th>calls</th>\n",
       "      <th>duration</th>\n",
       "      <th>messages</th>\n",
       "      <th>mb_used</th>\n",
       "      <th>tariff</th>\n",
       "      <th>pay</th>\n",
       "      <th>city</th>\n",
       "      <th>region</th>\n",
       "    </tr>\n",
       "    <tr>\n",
       "      <th>user_id</th>\n",
       "      <th>month</th>\n",
       "      <th></th>\n",
       "      <th></th>\n",
       "      <th></th>\n",
       "      <th></th>\n",
       "      <th></th>\n",
       "      <th></th>\n",
       "      <th></th>\n",
       "      <th></th>\n",
       "    </tr>\n",
       "  </thead>\n",
       "  <tbody>\n",
       "    <tr>\n",
       "      <td rowspan=\"5\" valign=\"top\">1000</td>\n",
       "      <td>5</td>\n",
       "      <td>22</td>\n",
       "      <td>164.0</td>\n",
       "      <td>22</td>\n",
       "      <td>2257.0</td>\n",
       "      <td>ultra</td>\n",
       "      <td>1950.000000</td>\n",
       "      <td>Краснодар</td>\n",
       "      <td>Регион</td>\n",
       "    </tr>\n",
       "    <tr>\n",
       "      <td>6</td>\n",
       "      <td>43</td>\n",
       "      <td>187.0</td>\n",
       "      <td>60</td>\n",
       "      <td>23262.0</td>\n",
       "      <td>ultra</td>\n",
       "      <td>1950.000000</td>\n",
       "      <td>Краснодар</td>\n",
       "      <td>Регион</td>\n",
       "    </tr>\n",
       "    <tr>\n",
       "      <td>7</td>\n",
       "      <td>47</td>\n",
       "      <td>346.0</td>\n",
       "      <td>75</td>\n",
       "      <td>14017.0</td>\n",
       "      <td>ultra</td>\n",
       "      <td>1950.000000</td>\n",
       "      <td>Краснодар</td>\n",
       "      <td>Регион</td>\n",
       "    </tr>\n",
       "    <tr>\n",
       "      <td>8</td>\n",
       "      <td>52</td>\n",
       "      <td>418.0</td>\n",
       "      <td>81</td>\n",
       "      <td>14072.0</td>\n",
       "      <td>ultra</td>\n",
       "      <td>1950.000000</td>\n",
       "      <td>Краснодар</td>\n",
       "      <td>Регион</td>\n",
       "    </tr>\n",
       "    <tr>\n",
       "      <td>9</td>\n",
       "      <td>58</td>\n",
       "      <td>478.0</td>\n",
       "      <td>57</td>\n",
       "      <td>14583.0</td>\n",
       "      <td>ultra</td>\n",
       "      <td>1950.000000</td>\n",
       "      <td>Краснодар</td>\n",
       "      <td>Регион</td>\n",
       "    </tr>\n",
       "    <tr>\n",
       "      <td>...</td>\n",
       "      <td>...</td>\n",
       "      <td>...</td>\n",
       "      <td>...</td>\n",
       "      <td>...</td>\n",
       "      <td>...</td>\n",
       "      <td>...</td>\n",
       "      <td>...</td>\n",
       "      <td>...</td>\n",
       "      <td>...</td>\n",
       "    </tr>\n",
       "    <tr>\n",
       "      <td>1498</td>\n",
       "      <td>10</td>\n",
       "      <td>41</td>\n",
       "      <td>258.0</td>\n",
       "      <td>42</td>\n",
       "      <td>20614.0</td>\n",
       "      <td>smart</td>\n",
       "      <td>1576.171875</td>\n",
       "      <td>Владикавказ</td>\n",
       "      <td>Регион</td>\n",
       "    </tr>\n",
       "    <tr>\n",
       "      <td rowspan=\"4\" valign=\"top\">1499</td>\n",
       "      <td>9</td>\n",
       "      <td>9</td>\n",
       "      <td>71.0</td>\n",
       "      <td>11</td>\n",
       "      <td>1849.0</td>\n",
       "      <td>smart</td>\n",
       "      <td>550.000000</td>\n",
       "      <td>Пермь</td>\n",
       "      <td>Регион</td>\n",
       "    </tr>\n",
       "    <tr>\n",
       "      <td>10</td>\n",
       "      <td>68</td>\n",
       "      <td>473.0</td>\n",
       "      <td>48</td>\n",
       "      <td>17824.0</td>\n",
       "      <td>smart</td>\n",
       "      <td>1031.250000</td>\n",
       "      <td>Пермь</td>\n",
       "      <td>Регион</td>\n",
       "    </tr>\n",
       "    <tr>\n",
       "      <td>11</td>\n",
       "      <td>74</td>\n",
       "      <td>624.0</td>\n",
       "      <td>59</td>\n",
       "      <td>17994.0</td>\n",
       "      <td>smart</td>\n",
       "      <td>1463.453125</td>\n",
       "      <td>Пермь</td>\n",
       "      <td>Регион</td>\n",
       "    </tr>\n",
       "    <tr>\n",
       "      <td>12</td>\n",
       "      <td>69</td>\n",
       "      <td>505.0</td>\n",
       "      <td>66</td>\n",
       "      <td>13082.0</td>\n",
       "      <td>smart</td>\n",
       "      <td>613.000000</td>\n",
       "      <td>Пермь</td>\n",
       "      <td>Регион</td>\n",
       "    </tr>\n",
       "  </tbody>\n",
       "</table>\n",
       "<p>2667 rows × 8 columns</p>\n",
       "</div>"
      ],
      "text/plain": [
       "               calls  duration  messages  mb_used tariff          pay  \\\n",
       "user_id month                                                           \n",
       "1000    5         22     164.0        22   2257.0  ultra  1950.000000   \n",
       "        6         43     187.0        60  23262.0  ultra  1950.000000   \n",
       "        7         47     346.0        75  14017.0  ultra  1950.000000   \n",
       "        8         52     418.0        81  14072.0  ultra  1950.000000   \n",
       "        9         58     478.0        57  14583.0  ultra  1950.000000   \n",
       "...              ...       ...       ...      ...    ...          ...   \n",
       "1498    10        41     258.0        42  20614.0  smart  1576.171875   \n",
       "1499    9          9      71.0        11   1849.0  smart   550.000000   \n",
       "        10        68     473.0        48  17824.0  smart  1031.250000   \n",
       "        11        74     624.0        59  17994.0  smart  1463.453125   \n",
       "        12        69     505.0        66  13082.0  smart   613.000000   \n",
       "\n",
       "                      city  region  \n",
       "user_id month                       \n",
       "1000    5        Краснодар  Регион  \n",
       "        6        Краснодар  Регион  \n",
       "        7        Краснодар  Регион  \n",
       "        8        Краснодар  Регион  \n",
       "        9        Краснодар  Регион  \n",
       "...                    ...     ...  \n",
       "1498    10     Владикавказ  Регион  \n",
       "1499    9            Пермь  Регион  \n",
       "        10           Пермь  Регион  \n",
       "        11           Пермь  Регион  \n",
       "        12           Пермь  Регион  \n",
       "\n",
       "[2667 rows x 8 columns]"
      ]
     },
     "execution_count": 69,
     "metadata": {},
     "output_type": "execute_result"
    }
   ],
   "source": [
    "df2"
   ]
  },
  {
   "cell_type": "markdown",
   "metadata": {},
   "source": [
    "Дисперсии можно считать равными, поэтому примем величину equal_var = True"
   ]
  },
  {
   "cell_type": "code",
   "execution_count": 70,
   "metadata": {},
   "outputs": [
    {
     "name": "stdout",
     "output_type": "stream",
     "text": [
      "p-value: 0.10099437590522067\n",
      "Не получилось отвергнуть нулевую гипотезу\n"
     ]
    }
   ],
   "source": [
    "mockow = df2.query('region == \"Москва\"')['pay']\n",
    "region = df2.query('region == \"Регион\"')['pay']\n",
    "alpha = .05\n",
    "\n",
    "results = st.ttest_ind(mockow, region, equal_var = True)\n",
    "print('p-value:', results.pvalue)\n",
    "\n",
    "if (results.pvalue < alpha):\n",
    "    print(\"Отвергаем нулевую гипотезу\")\n",
    "else:\n",
    "    print(\"Не получилось отвергнуть нулевую гипотезу\")"
   ]
  },
  {
   "cell_type": "code",
   "execution_count": 71,
   "metadata": {},
   "outputs": [
    {
     "data": {
      "text/html": [
       "<div>\n",
       "<style scoped>\n",
       "    .dataframe tbody tr th:only-of-type {\n",
       "        vertical-align: middle;\n",
       "    }\n",
       "\n",
       "    .dataframe tbody tr th {\n",
       "        vertical-align: top;\n",
       "    }\n",
       "\n",
       "    .dataframe thead th {\n",
       "        text-align: right;\n",
       "    }\n",
       "</style>\n",
       "<table border=\"1\" class=\"dataframe\">\n",
       "  <thead>\n",
       "    <tr style=\"text-align: right;\">\n",
       "      <th></th>\n",
       "      <th>pay</th>\n",
       "    </tr>\n",
       "    <tr>\n",
       "      <th>region</th>\n",
       "      <th></th>\n",
       "    </tr>\n",
       "  </thead>\n",
       "  <tbody>\n",
       "    <tr>\n",
       "      <td>Москва</td>\n",
       "      <td>1778.710938</td>\n",
       "    </tr>\n",
       "    <tr>\n",
       "      <td>Регион</td>\n",
       "      <td>1463.011719</td>\n",
       "    </tr>\n",
       "  </tbody>\n",
       "</table>\n",
       "</div>"
      ],
      "text/plain": [
       "                pay\n",
       "region             \n",
       "Москва  1778.710938\n",
       "Регион  1463.011719"
      ]
     },
     "execution_count": 71,
     "metadata": {},
     "output_type": "execute_result"
    }
   ],
   "source": [
    "df2.pivot_table(index = 'region', values = 'pay', aggfunc = 'median')"
   ]
  },
  {
   "cell_type": "markdown",
   "metadata": {},
   "source": [
    "Исходя из проверки гипотезы ясно что с вероятностью 95% средняя выручка пользователей из Москвы равна средней выручке пользователей из других регионов. И действительно из расчета среднего видим что среднее прибыли особо не отличается.\n",
    "Построим диаграммы размаха для наглядности."
   ]
  },
  {
   "cell_type": "code",
   "execution_count": 72,
   "metadata": {},
   "outputs": [
    {
     "data": {
      "image/png": "[encoded data removed]",
      "text/plain": [
       "<Figure size 360x360 with 1 Axes>"
      ]
     },
     "metadata": {
      "needs_background": "light"
     },
     "output_type": "display_data"
    }
   ],
   "source": [
    "sns.catplot(x=\"region\", y='pay', kind=\"box\", data=df2, orient='v');"
   ]
  },
  {
   "cell_type": "markdown",
   "metadata": {},
   "source": [
    "## Шаг 5. Общий вывод"
   ]
  },
  {
   "cell_type": "markdown",
   "metadata": {},
   "source": [
    "В ходе работы нам необходимо было сравнить два тарифных плана: «Смарт» и «Ультра» для корректировки рекламного бюджета. для этого необходимо понять какой тариф приносит больше денег. Изначально были просмотрены данные и выполнена их предобработка. Была произведена работа с нулевыми значениями в данных с минутами и мегабайтами. Затем был сделан предварительный анализ тарифов на предоставленной выборке клиентов из 500 пользователей. Для этого была сформированна таблица пользователей, где для каждого было указано количество сделанных звонков, израсходованных минут, отправленных сообщений и объем израсходованного интернет-трафика по месяцам и вычислена помесячная выручка за месяц. В ходе ииследования полученных данных в таблице было выявлено:\n",
    "* средние значения выручки тарифа \"Ультра\" практически в 2 раза больше (1950 руб - \"Ультра\", 981 руб - \"Смарт\")\n",
    "* пользователям тарифа \"Смарт\" не хватает условий пакета, в среднем переплата составляет 431 руб ежемесячно - около 78%\n",
    "* пользователи тарифа \"Ультра\" не используют все условия пакета\n",
    "* средние доходы от пользователей по Москве и регионам особо не отличаются, разница статистически не значительная и составляет около 316 рублей (1779 руб - Москва, 1463 руб - регионы)\n",
    "\n",
    "Так же в ходе анализа данных были посчитанны среднее количество, дисперсия и стандартное отклонение по тарифу и построенны гистограммы распределения минут разговора, сообщений и объема используемого интернет-трафика. По полученным гистаграммам было обнаружено, что дисперсия по тарифу \"Ультра\" действительно больше чем у тарифа \"Смарт\" по всем показателям. Так же было выявлено, что мода у тарифа \"Смарт\" более выражена. Это значит, что пользователи тарифа \"Ультра\" более свободны в выборе своих операций."
   ]
  }
 ],
 "metadata": {
  "ExecuteTimeLog": [
   {
    "duration": 1490,
    "start_time": "2021-07-01T11:21:11.470Z"
   },
   {
    "duration": 1119,
    "start_time": "2021-07-01T11:21:12.963Z"
   },
   {
    "duration": 210,
    "start_time": "2021-07-01T11:21:14.085Z"
   },
   {
    "duration": 4,
    "start_time": "2021-07-01T11:21:14.297Z"
   },
   {
    "duration": 124,
    "start_time": "2021-07-01T11:21:14.304Z"
   },
   {
    "duration": 8,
    "start_time": "2021-07-01T11:21:14.431Z"
   },
   {
    "duration": 15,
    "start_time": "2021-07-01T11:21:14.442Z"
   },
   {
    "duration": 17,
    "start_time": "2021-07-01T11:21:14.485Z"
   },
   {
    "duration": 13,
    "start_time": "2021-07-01T11:21:14.505Z"
   },
   {
    "duration": 13,
    "start_time": "2021-07-01T11:21:14.520Z"
   },
   {
    "duration": 68,
    "start_time": "2021-07-01T11:21:14.535Z"
   },
   {
    "duration": 15,
    "start_time": "2021-07-01T11:21:14.605Z"
   },
   {
    "duration": 80,
    "start_time": "2021-07-01T11:21:14.622Z"
   },
   {
    "duration": 293,
    "start_time": "2021-07-01T11:21:14.705Z"
   },
   {
    "duration": 8,
    "start_time": "2021-07-01T11:21:15.000Z"
   },
   {
    "duration": 25,
    "start_time": "2021-07-01T11:21:15.011Z"
   },
   {
    "duration": 30,
    "start_time": "2021-07-01T11:21:15.039Z"
   },
   {
    "duration": 56,
    "start_time": "2021-07-01T11:21:15.071Z"
   },
   {
    "duration": 285,
    "start_time": "2021-07-01T11:21:15.129Z"
   },
   {
    "duration": 8,
    "start_time": "2021-07-01T11:21:15.416Z"
   },
   {
    "duration": 114,
    "start_time": "2021-07-01T11:21:15.426Z"
   },
   {
    "duration": 113,
    "start_time": "2021-07-01T11:21:15.542Z"
   },
   {
    "duration": 82,
    "start_time": "2021-07-01T11:21:15.660Z"
   },
   {
    "duration": 79,
    "start_time": "2021-07-01T11:21:15.745Z"
   },
   {
    "duration": 79,
    "start_time": "2021-07-01T11:21:15.826Z"
   },
   {
    "duration": 85,
    "start_time": "2021-07-01T11:21:15.908Z"
   },
   {
    "duration": 32,
    "start_time": "2021-07-01T11:21:15.996Z"
   },
   {
    "duration": 2456,
    "start_time": "2021-07-01T11:21:16.031Z"
   },
   {
    "duration": 848,
    "start_time": "2021-07-01T11:21:18.490Z"
   },
   {
    "duration": 25,
    "start_time": "2021-07-01T11:21:19.340Z"
   },
   {
    "duration": 23,
    "start_time": "2021-07-01T11:21:19.383Z"
   },
   {
    "duration": 1175,
    "start_time": "2021-07-01T11:21:19.408Z"
   },
   {
    "duration": 1246,
    "start_time": "2021-07-01T11:21:20.586Z"
   },
   {
    "duration": 67,
    "start_time": "2021-07-01T11:21:21.835Z"
   },
   {
    "duration": 1290,
    "start_time": "2021-07-01T11:21:21.904Z"
   },
   {
    "duration": 4,
    "start_time": "2021-07-01T11:21:23.196Z"
   },
   {
    "duration": 577,
    "start_time": "2021-07-01T11:21:23.202Z"
   },
   {
    "duration": 709,
    "start_time": "2021-07-01T11:21:23.784Z"
   },
   {
    "duration": 738,
    "start_time": "2021-07-01T11:21:24.496Z"
   },
   {
    "duration": 26,
    "start_time": "2021-07-01T11:21:25.236Z"
   },
   {
    "duration": 32,
    "start_time": "2021-07-01T11:21:25.264Z"
   },
   {
    "duration": 19,
    "start_time": "2021-07-01T11:21:25.298Z"
   },
   {
    "duration": 2846,
    "start_time": "2021-07-01T11:21:25.319Z"
   },
   {
    "duration": 21,
    "start_time": "2021-07-01T11:21:28.183Z"
   },
   {
    "duration": 19,
    "start_time": "2021-07-01T11:21:28.206Z"
   },
   {
    "duration": 14,
    "start_time": "2021-07-01T11:21:28.228Z"
   },
   {
    "duration": 51,
    "start_time": "2021-07-01T11:21:28.244Z"
   },
   {
    "duration": 455,
    "start_time": "2021-07-01T11:21:28.297Z"
   },
   {
    "duration": 33,
    "start_time": "2021-07-01T11:24:33.367Z"
   },
   {
    "duration": 46,
    "start_time": "2021-07-01T12:31:52.615Z"
   },
   {
    "duration": 1179,
    "start_time": "2021-09-03T03:41:01.140Z"
   },
   {
    "duration": 420,
    "start_time": "2021-09-03T03:41:04.497Z"
   },
   {
    "duration": 140,
    "start_time": "2021-09-03T03:41:50.634Z"
   },
   {
    "duration": 388,
    "start_time": "2021-09-03T03:44:45.606Z"
   },
   {
    "duration": 284,
    "start_time": "2021-09-03T03:45:13.228Z"
   },
   {
    "duration": 287,
    "start_time": "2021-09-03T03:45:18.514Z"
   },
   {
    "duration": 136,
    "start_time": "2021-09-03T03:45:32.240Z"
   },
   {
    "duration": 3,
    "start_time": "2021-09-03T03:46:15.004Z"
   },
   {
    "duration": 71,
    "start_time": "2021-09-03T03:46:19.883Z"
   },
   {
    "duration": 6,
    "start_time": "2021-09-03T03:47:23.133Z"
   },
   {
    "duration": 8,
    "start_time": "2021-09-03T03:47:29.670Z"
   },
   {
    "duration": 10,
    "start_time": "2021-09-03T03:47:43.092Z"
   },
   {
    "duration": 11,
    "start_time": "2021-09-03T03:48:14.153Z"
   },
   {
    "duration": 11,
    "start_time": "2021-09-03T03:48:40.309Z"
   },
   {
    "duration": 25,
    "start_time": "2021-09-03T03:48:46.767Z"
   },
   {
    "duration": 10,
    "start_time": "2021-09-03T03:48:47.674Z"
   },
   {
    "duration": 43,
    "start_time": "2021-09-03T03:48:54.970Z"
   },
   {
    "duration": 178,
    "start_time": "2021-09-03T03:48:56.003Z"
   },
   {
    "duration": 7,
    "start_time": "2021-09-03T03:49:11.471Z"
   },
   {
    "duration": 307,
    "start_time": "2021-09-03T03:53:08.445Z"
   },
   {
    "duration": 254,
    "start_time": "2021-09-03T03:53:13.002Z"
   },
   {
    "duration": 282,
    "start_time": "2021-09-03T03:53:17.903Z"
   },
   {
    "duration": 2,
    "start_time": "2021-09-03T03:53:23.979Z"
   },
   {
    "duration": 420,
    "start_time": "2021-09-03T03:53:24.398Z"
   },
   {
    "duration": 134,
    "start_time": "2021-09-03T03:53:24.820Z"
   },
   {
    "duration": 4,
    "start_time": "2021-09-03T03:53:26.063Z"
   },
   {
    "duration": 65,
    "start_time": "2021-09-03T03:53:26.333Z"
   },
   {
    "duration": 6,
    "start_time": "2021-09-03T03:53:26.908Z"
   },
   {
    "duration": 6,
    "start_time": "2021-09-03T03:53:27.211Z"
   },
   {
    "duration": 10,
    "start_time": "2021-09-03T03:53:27.818Z"
   },
   {
    "duration": 11,
    "start_time": "2021-09-03T03:53:28.079Z"
   },
   {
    "duration": 10,
    "start_time": "2021-09-03T03:53:28.909Z"
   },
   {
    "duration": 22,
    "start_time": "2021-09-03T03:53:29.226Z"
   },
   {
    "duration": 9,
    "start_time": "2021-09-03T03:53:29.484Z"
   },
   {
    "duration": 37,
    "start_time": "2021-09-03T03:53:29.776Z"
   },
   {
    "duration": 177,
    "start_time": "2021-09-03T03:53:30.203Z"
   },
   {
    "duration": 7,
    "start_time": "2021-09-03T03:53:32.194Z"
   },
   {
    "duration": 8,
    "start_time": "2021-09-03T03:53:32.612Z"
   },
   {
    "duration": 18,
    "start_time": "2021-09-03T03:53:33.084Z"
   },
   {
    "duration": 33,
    "start_time": "2021-09-03T03:53:33.568Z"
   },
   {
    "duration": 174,
    "start_time": "2021-09-03T03:53:34.546Z"
   },
   {
    "duration": 7,
    "start_time": "2021-09-03T03:53:36.098Z"
   },
   {
    "duration": 68,
    "start_time": "2021-09-03T03:53:39.722Z"
   },
   {
    "duration": 80,
    "start_time": "2021-09-03T03:53:40.284Z"
   },
   {
    "duration": 49,
    "start_time": "2021-09-03T03:53:41.824Z"
   },
   {
    "duration": 51,
    "start_time": "2021-09-03T03:53:42.263Z"
   },
   {
    "duration": 49,
    "start_time": "2021-09-03T03:53:43.683Z"
   },
   {
    "duration": 58,
    "start_time": "2021-09-03T03:53:44.097Z"
   },
   {
    "duration": 23,
    "start_time": "2021-09-03T03:53:45.168Z"
   },
   {
    "duration": 1520,
    "start_time": "2021-09-03T03:53:45.650Z"
   },
   {
    "duration": 451,
    "start_time": "2021-09-03T03:53:48.317Z"
   },
   {
    "duration": 17,
    "start_time": "2021-09-03T03:54:18.343Z"
   },
   {
    "duration": 15,
    "start_time": "2021-09-03T03:54:23.575Z"
   },
   {
    "duration": 804,
    "start_time": "2021-09-03T03:54:26.496Z"
   },
   {
    "duration": 742,
    "start_time": "2021-09-03T03:54:48.887Z"
   },
   {
    "duration": 29,
    "start_time": "2021-09-03T03:54:58.135Z"
   },
   {
    "duration": 884,
    "start_time": "2021-09-03T03:54:59.012Z"
   },
   {
    "duration": 1160,
    "start_time": "2021-09-03T04:03:39.799Z"
   },
   {
    "duration": 14,
    "start_time": "2021-09-03T04:04:40.738Z"
   },
   {
    "duration": 495,
    "start_time": "2021-09-03T04:05:08.993Z"
   },
   {
    "duration": 547,
    "start_time": "2021-09-03T04:05:10.822Z"
   },
   {
    "duration": 834,
    "start_time": "2021-09-03T04:05:11.732Z"
   },
   {
    "duration": 13,
    "start_time": "2021-09-03T04:05:15.032Z"
   },
   {
    "duration": 15,
    "start_time": "2021-09-03T04:05:16.446Z"
   },
   {
    "duration": 13,
    "start_time": "2021-09-03T04:05:49.004Z"
   },
   {
    "duration": 1801,
    "start_time": "2021-09-03T04:05:52.717Z"
   },
   {
    "duration": 15,
    "start_time": "2021-09-03T04:05:54.520Z"
   },
   {
    "duration": 14,
    "start_time": "2021-09-03T04:05:54.540Z"
   },
   {
    "duration": 23,
    "start_time": "2021-09-03T04:05:55.012Z"
   },
   {
    "duration": 12,
    "start_time": "2021-09-03T04:05:55.968Z"
   },
   {
    "duration": 14,
    "start_time": "2021-09-03T04:05:56.395Z"
   },
   {
    "duration": 362,
    "start_time": "2021-09-03T04:05:59.545Z"
   }
  ],
  "kernelspec": {
   "display_name": "Python 3",
   "language": "python",
   "name": "python3"
  },
  "language_info": {
   "codemirror_mode": {
    "name": "ipython",
    "version": 3
   },
   "file_extension": ".py",
   "mimetype": "text/x-python",
   "name": "python",
   "nbconvert_exporter": "python",
   "pygments_lexer": "ipython3",
   "version": "3.7.8"
  },
  "toc": {
   "base_numbering": 1,
   "nav_menu": {},
   "number_sections": true,
   "sideBar": true,
   "skip_h1_title": true,
   "title_cell": "Table of Contents",
   "title_sidebar": "Contents",
   "toc_cell": false,
   "toc_position": {
    "height": "calc(100% - 180px)",
    "left": "10px",
    "top": "150px",
    "width": "169.4px"
   },
   "toc_section_display": true,
   "toc_window_display": true
  }
 },
 "nbformat": 4,
 "nbformat_minor": 2
}
