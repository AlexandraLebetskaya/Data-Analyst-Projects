{
 "cells": [
  {
   "cell_type": "markdown",
   "metadata": {},
   "source": [
    "## Шаг 1. Открытие файла и изучение информации"
   ]
  },
  {
   "cell_type": "code",
   "execution_count": 1,
   "metadata": {},
   "outputs": [],
   "source": [
    "import pandas as pd\n",
    "import seaborn as sns\n",
    "import matplotlib.pyplot as plt\n",
    "import numpy as np\n",
    "import scipy.stats as st"
   ]
  },
  {
   "cell_type": "code",
   "execution_count": 3,
   "metadata": {},
   "outputs": [
    {
     "data": {
      "text/html": [
       "<div>\n",
       "<style scoped>\n",
       "    .dataframe tbody tr th:only-of-type {\n",
       "        vertical-align: middle;\n",
       "    }\n",
       "\n",
       "    .dataframe tbody tr th {\n",
       "        vertical-align: top;\n",
       "    }\n",
       "\n",
       "    .dataframe thead th {\n",
       "        text-align: right;\n",
       "    }\n",
       "</style>\n",
       "<table border=\"1\" class=\"dataframe\">\n",
       "  <thead>\n",
       "    <tr style=\"text-align: right;\">\n",
       "      <th></th>\n",
       "      <th>Name</th>\n",
       "      <th>Platform</th>\n",
       "      <th>Year_of_Release</th>\n",
       "      <th>Genre</th>\n",
       "      <th>NA_sales</th>\n",
       "      <th>EU_sales</th>\n",
       "      <th>JP_sales</th>\n",
       "      <th>Other_sales</th>\n",
       "      <th>Critic_Score</th>\n",
       "      <th>User_Score</th>\n",
       "      <th>Rating</th>\n",
       "    </tr>\n",
       "  </thead>\n",
       "  <tbody>\n",
       "    <tr>\n",
       "      <td>11495</td>\n",
       "      <td>Sniper: Ghost Warrior 2</td>\n",
       "      <td>PC</td>\n",
       "      <td>2013.0</td>\n",
       "      <td>Shooter</td>\n",
       "      <td>0.02</td>\n",
       "      <td>0.05</td>\n",
       "      <td>0.00</td>\n",
       "      <td>0.01</td>\n",
       "      <td>52.0</td>\n",
       "      <td>5.8</td>\n",
       "      <td>M</td>\n",
       "    </tr>\n",
       "    <tr>\n",
       "      <td>5867</td>\n",
       "      <td>Looney Tunes: Duck Amuck</td>\n",
       "      <td>DS</td>\n",
       "      <td>2007.0</td>\n",
       "      <td>Action</td>\n",
       "      <td>0.28</td>\n",
       "      <td>0.00</td>\n",
       "      <td>0.00</td>\n",
       "      <td>0.02</td>\n",
       "      <td>66.0</td>\n",
       "      <td>tbd</td>\n",
       "      <td>E</td>\n",
       "    </tr>\n",
       "    <tr>\n",
       "      <td>3557</td>\n",
       "      <td>Titanfall</td>\n",
       "      <td>PC</td>\n",
       "      <td>2014.0</td>\n",
       "      <td>Shooter</td>\n",
       "      <td>0.22</td>\n",
       "      <td>0.30</td>\n",
       "      <td>0.00</td>\n",
       "      <td>0.04</td>\n",
       "      <td>86.0</td>\n",
       "      <td>6.2</td>\n",
       "      <td>M</td>\n",
       "    </tr>\n",
       "    <tr>\n",
       "      <td>135</td>\n",
       "      <td>Red Dead Redemption</td>\n",
       "      <td>X360</td>\n",
       "      <td>2010.0</td>\n",
       "      <td>Action</td>\n",
       "      <td>3.70</td>\n",
       "      <td>1.95</td>\n",
       "      <td>0.09</td>\n",
       "      <td>0.58</td>\n",
       "      <td>95.0</td>\n",
       "      <td>9</td>\n",
       "      <td>M</td>\n",
       "    </tr>\n",
       "    <tr>\n",
       "      <td>13957</td>\n",
       "      <td>FIFA World Cup Germany 2006</td>\n",
       "      <td>DS</td>\n",
       "      <td>2006.0</td>\n",
       "      <td>Sports</td>\n",
       "      <td>0.03</td>\n",
       "      <td>0.00</td>\n",
       "      <td>0.00</td>\n",
       "      <td>0.00</td>\n",
       "      <td>71.0</td>\n",
       "      <td>7.2</td>\n",
       "      <td>E</td>\n",
       "    </tr>\n",
       "    <tr>\n",
       "      <td>6084</td>\n",
       "      <td>Bratz: Super Babyz</td>\n",
       "      <td>DS</td>\n",
       "      <td>2008.0</td>\n",
       "      <td>Action</td>\n",
       "      <td>0.26</td>\n",
       "      <td>0.00</td>\n",
       "      <td>0.00</td>\n",
       "      <td>0.02</td>\n",
       "      <td>50.0</td>\n",
       "      <td>tbd</td>\n",
       "      <td>E</td>\n",
       "    </tr>\n",
       "    <tr>\n",
       "      <td>2858</td>\n",
       "      <td>Fear Effect</td>\n",
       "      <td>PS</td>\n",
       "      <td>1998.0</td>\n",
       "      <td>Action</td>\n",
       "      <td>0.40</td>\n",
       "      <td>0.27</td>\n",
       "      <td>0.00</td>\n",
       "      <td>0.05</td>\n",
       "      <td>NaN</td>\n",
       "      <td>NaN</td>\n",
       "      <td>NaN</td>\n",
       "    </tr>\n",
       "    <tr>\n",
       "      <td>9503</td>\n",
       "      <td>Science Papa</td>\n",
       "      <td>Wii</td>\n",
       "      <td>2009.0</td>\n",
       "      <td>Misc</td>\n",
       "      <td>0.11</td>\n",
       "      <td>0.01</td>\n",
       "      <td>0.00</td>\n",
       "      <td>0.01</td>\n",
       "      <td>NaN</td>\n",
       "      <td>tbd</td>\n",
       "      <td>E</td>\n",
       "    </tr>\n",
       "    <tr>\n",
       "      <td>10005</td>\n",
       "      <td>F1 Racing Championship</td>\n",
       "      <td>PS</td>\n",
       "      <td>2000.0</td>\n",
       "      <td>Racing</td>\n",
       "      <td>0.06</td>\n",
       "      <td>0.04</td>\n",
       "      <td>0.00</td>\n",
       "      <td>0.01</td>\n",
       "      <td>NaN</td>\n",
       "      <td>NaN</td>\n",
       "      <td>NaN</td>\n",
       "    </tr>\n",
       "    <tr>\n",
       "      <td>11096</td>\n",
       "      <td>Pachitte Chonmage Tatsujin 10: Pachinko Fuyu n...</td>\n",
       "      <td>PS2</td>\n",
       "      <td>2007.0</td>\n",
       "      <td>Misc</td>\n",
       "      <td>0.00</td>\n",
       "      <td>0.00</td>\n",
       "      <td>0.09</td>\n",
       "      <td>0.00</td>\n",
       "      <td>NaN</td>\n",
       "      <td>NaN</td>\n",
       "      <td>NaN</td>\n",
       "    </tr>\n",
       "  </tbody>\n",
       "</table>\n",
       "</div>"
      ],
      "text/plain": [
       "                                                    Name Platform  \\\n",
       "11495                            Sniper: Ghost Warrior 2       PC   \n",
       "5867                            Looney Tunes: Duck Amuck       DS   \n",
       "3557                                           Titanfall       PC   \n",
       "135                                  Red Dead Redemption     X360   \n",
       "13957                        FIFA World Cup Germany 2006       DS   \n",
       "6084                                  Bratz: Super Babyz       DS   \n",
       "2858                                         Fear Effect       PS   \n",
       "9503                                        Science Papa      Wii   \n",
       "10005                             F1 Racing Championship       PS   \n",
       "11096  Pachitte Chonmage Tatsujin 10: Pachinko Fuyu n...      PS2   \n",
       "\n",
       "       Year_of_Release    Genre  NA_sales  EU_sales  JP_sales  Other_sales  \\\n",
       "11495           2013.0  Shooter      0.02      0.05      0.00         0.01   \n",
       "5867            2007.0   Action      0.28      0.00      0.00         0.02   \n",
       "3557            2014.0  Shooter      0.22      0.30      0.00         0.04   \n",
       "135             2010.0   Action      3.70      1.95      0.09         0.58   \n",
       "13957           2006.0   Sports      0.03      0.00      0.00         0.00   \n",
       "6084            2008.0   Action      0.26      0.00      0.00         0.02   \n",
       "2858            1998.0   Action      0.40      0.27      0.00         0.05   \n",
       "9503            2009.0     Misc      0.11      0.01      0.00         0.01   \n",
       "10005           2000.0   Racing      0.06      0.04      0.00         0.01   \n",
       "11096           2007.0     Misc      0.00      0.00      0.09         0.00   \n",
       "\n",
       "       Critic_Score User_Score Rating  \n",
       "11495          52.0        5.8      M  \n",
       "5867           66.0        tbd      E  \n",
       "3557           86.0        6.2      M  \n",
       "135            95.0          9      M  \n",
       "13957          71.0        7.2      E  \n",
       "6084           50.0        tbd      E  \n",
       "2858            NaN        NaN    NaN  \n",
       "9503            NaN        tbd      E  \n",
       "10005           NaN        NaN    NaN  \n",
       "11096           NaN        NaN    NaN  "
      ]
     },
     "execution_count": 3,
     "metadata": {},
     "output_type": "execute_result"
    }
   ],
   "source": [
    "df = pd.read_csv('/datasets/games.csv')\n",
    "df.sample(10)"
   ]
  },
  {
   "cell_type": "code",
   "execution_count": 4,
   "metadata": {},
   "outputs": [
    {
     "name": "stdout",
     "output_type": "stream",
     "text": [
      "<class 'pandas.core.frame.DataFrame'>\n",
      "RangeIndex: 16715 entries, 0 to 16714\n",
      "Data columns (total 11 columns):\n",
      "Name               16713 non-null object\n",
      "Platform           16715 non-null object\n",
      "Year_of_Release    16446 non-null float64\n",
      "Genre              16713 non-null object\n",
      "NA_sales           16715 non-null float64\n",
      "EU_sales           16715 non-null float64\n",
      "JP_sales           16715 non-null float64\n",
      "Other_sales        16715 non-null float64\n",
      "Critic_Score       8137 non-null float64\n",
      "User_Score         10014 non-null object\n",
      "Rating             9949 non-null object\n",
      "dtypes: float64(6), object(5)\n",
      "memory usage: 1.4+ MB\n"
     ]
    }
   ],
   "source": [
    "df.info()"
   ]
  },
  {
   "cell_type": "code",
   "execution_count": 5,
   "metadata": {},
   "outputs": [
    {
     "data": {
      "text/html": [
       "<div>\n",
       "<style scoped>\n",
       "    .dataframe tbody tr th:only-of-type {\n",
       "        vertical-align: middle;\n",
       "    }\n",
       "\n",
       "    .dataframe tbody tr th {\n",
       "        vertical-align: top;\n",
       "    }\n",
       "\n",
       "    .dataframe thead th {\n",
       "        text-align: right;\n",
       "    }\n",
       "</style>\n",
       "<table border=\"1\" class=\"dataframe\">\n",
       "  <thead>\n",
       "    <tr style=\"text-align: right;\">\n",
       "      <th></th>\n",
       "      <th>Year_of_Release</th>\n",
       "      <th>NA_sales</th>\n",
       "      <th>EU_sales</th>\n",
       "      <th>JP_sales</th>\n",
       "      <th>Other_sales</th>\n",
       "      <th>Critic_Score</th>\n",
       "    </tr>\n",
       "  </thead>\n",
       "  <tbody>\n",
       "    <tr>\n",
       "      <td>count</td>\n",
       "      <td>16446.000000</td>\n",
       "      <td>16715.000000</td>\n",
       "      <td>16715.000000</td>\n",
       "      <td>16715.000000</td>\n",
       "      <td>16715.000000</td>\n",
       "      <td>8137.000000</td>\n",
       "    </tr>\n",
       "    <tr>\n",
       "      <td>mean</td>\n",
       "      <td>2006.484616</td>\n",
       "      <td>0.263377</td>\n",
       "      <td>0.145060</td>\n",
       "      <td>0.077617</td>\n",
       "      <td>0.047342</td>\n",
       "      <td>68.967679</td>\n",
       "    </tr>\n",
       "    <tr>\n",
       "      <td>std</td>\n",
       "      <td>5.877050</td>\n",
       "      <td>0.813604</td>\n",
       "      <td>0.503339</td>\n",
       "      <td>0.308853</td>\n",
       "      <td>0.186731</td>\n",
       "      <td>13.938165</td>\n",
       "    </tr>\n",
       "    <tr>\n",
       "      <td>min</td>\n",
       "      <td>1980.000000</td>\n",
       "      <td>0.000000</td>\n",
       "      <td>0.000000</td>\n",
       "      <td>0.000000</td>\n",
       "      <td>0.000000</td>\n",
       "      <td>13.000000</td>\n",
       "    </tr>\n",
       "    <tr>\n",
       "      <td>25%</td>\n",
       "      <td>2003.000000</td>\n",
       "      <td>0.000000</td>\n",
       "      <td>0.000000</td>\n",
       "      <td>0.000000</td>\n",
       "      <td>0.000000</td>\n",
       "      <td>60.000000</td>\n",
       "    </tr>\n",
       "    <tr>\n",
       "      <td>50%</td>\n",
       "      <td>2007.000000</td>\n",
       "      <td>0.080000</td>\n",
       "      <td>0.020000</td>\n",
       "      <td>0.000000</td>\n",
       "      <td>0.010000</td>\n",
       "      <td>71.000000</td>\n",
       "    </tr>\n",
       "    <tr>\n",
       "      <td>75%</td>\n",
       "      <td>2010.000000</td>\n",
       "      <td>0.240000</td>\n",
       "      <td>0.110000</td>\n",
       "      <td>0.040000</td>\n",
       "      <td>0.030000</td>\n",
       "      <td>79.000000</td>\n",
       "    </tr>\n",
       "    <tr>\n",
       "      <td>max</td>\n",
       "      <td>2016.000000</td>\n",
       "      <td>41.360000</td>\n",
       "      <td>28.960000</td>\n",
       "      <td>10.220000</td>\n",
       "      <td>10.570000</td>\n",
       "      <td>98.000000</td>\n",
       "    </tr>\n",
       "  </tbody>\n",
       "</table>\n",
       "</div>"
      ],
      "text/plain": [
       "       Year_of_Release      NA_sales      EU_sales      JP_sales  \\\n",
       "count     16446.000000  16715.000000  16715.000000  16715.000000   \n",
       "mean       2006.484616      0.263377      0.145060      0.077617   \n",
       "std           5.877050      0.813604      0.503339      0.308853   \n",
       "min        1980.000000      0.000000      0.000000      0.000000   \n",
       "25%        2003.000000      0.000000      0.000000      0.000000   \n",
       "50%        2007.000000      0.080000      0.020000      0.000000   \n",
       "75%        2010.000000      0.240000      0.110000      0.040000   \n",
       "max        2016.000000     41.360000     28.960000     10.220000   \n",
       "\n",
       "        Other_sales  Critic_Score  \n",
       "count  16715.000000   8137.000000  \n",
       "mean       0.047342     68.967679  \n",
       "std        0.186731     13.938165  \n",
       "min        0.000000     13.000000  \n",
       "25%        0.000000     60.000000  \n",
       "50%        0.010000     71.000000  \n",
       "75%        0.030000     79.000000  \n",
       "max       10.570000     98.000000  "
      ]
     },
     "execution_count": 5,
     "metadata": {},
     "output_type": "execute_result"
    }
   ],
   "source": [
    "df.describe()"
   ]
  },
  {
   "cell_type": "markdown",
   "metadata": {},
   "source": [
    "**Вывод**\n",
    "\n",
    "Всего в таблице 11 столбцев с разными типами данных. Разберем какие в df столбцы и какую информацию они содержат:\n",
    "* Name — название игры             **(пропуски 2)**\n",
    "* Platform — платформа \n",
    "* Year_of_Release — год выпуска    **(пропуски, поменять на целочисленный тип)**\n",
    "* Genre — жанр игры               **(пропуски 2)**\n",
    "* NA_sales — продажи в Северной Америке (миллионы проданных копий)\n",
    "* EU_sales — продажи в Европе (миллионы проданных копий)\n",
    "* JP_sales — продажи в Японии (миллионы проданных копий)\n",
    "* Other_sales — продажи в других странах (миллионы проданных копий)\n",
    "* Critic_Score — оценка критиков (максимум 100) **(пропуски, поменять целочисленный тип)**\n",
    "* User_Score — оценка пользователей (максимум 10) **(пропуски, округлить до десятичных, поменять тип данных)**\n",
    "* Rating — рейтинг от организации ESRB (англ. Entertainment Software Rating Board). Эта ассоциация определяет рейтинг компьютерных игр и присваивает им подходящую возрастную категорию. **(пропуски)**\n",
    "\n",
    "\n",
    "На первом этапе необходимо изменить названия столбцов (привести все названия к нижнем регистру), заменить тип данных (год выпуска, оценка критиков и оценка пользователей), а также обработать оставшиеся пропущенные значения в оценках критиков и рейтинге ESRB.\n",
    "\n",
    "https://pythonru.com/osnovy/znachenija-iskljuchenij-i-oshibok-v-python"
   ]
  },
  {
   "cell_type": "markdown",
   "metadata": {},
   "source": [
    "## Шаг 2. Предобработка данных"
   ]
  },
  {
   "cell_type": "markdown",
   "metadata": {},
   "source": [
    "### Замена названия столбцов (приведем к нижнему регистру)"
   ]
  },
  {
   "cell_type": "code",
   "execution_count": 6,
   "metadata": {},
   "outputs": [
    {
     "data": {
      "text/plain": [
       "Index(['name', 'platform', 'year_of_release', 'genre', 'na_sales', 'eu_sales',\n",
       "       'jp_sales', 'other_sales', 'critic_score', 'user_score', 'rating'],\n",
       "      dtype='object')"
      ]
     },
     "execution_count": 6,
     "metadata": {},
     "output_type": "execute_result"
    }
   ],
   "source": [
    "df.columns = df.columns.str.lower()\n",
    "df.columns"
   ]
  },
  {
   "cell_type": "markdown",
   "metadata": {},
   "source": [
    "### Преобразование данных в нужные типы"
   ]
  },
  {
   "cell_type": "code",
   "execution_count": 8,
   "metadata": {},
   "outputs": [],
   "source": [
    "df['year_of_release'] = df['year_of_release'].astype('Int64')\n",
    "df['critic_score'] = df['critic_score'].astype('float') #Int64\n",
    "#df['user_score'] = df['user_score'].astype(float)"
   ]
  },
  {
   "cell_type": "markdown",
   "metadata": {},
   "source": [
    "При изменение типа данных в столбце user_score выдает ошибку 'tbd'. Разберемся"
   ]
  },
  {
   "cell_type": "code",
   "execution_count": 9,
   "metadata": {},
   "outputs": [
    {
     "data": {
      "text/plain": [
       "tbd    2424\n",
       "7.8     324\n",
       "8       290\n",
       "8.2     282\n",
       "8.3     254\n",
       "       ... \n",
       "0.9       2\n",
       "0.3       2\n",
       "1.3       2\n",
       "0         1\n",
       "9.7       1\n",
       "Name: user_score, Length: 96, dtype: int64"
      ]
     },
     "execution_count": 9,
     "metadata": {},
     "output_type": "execute_result"
    }
   ],
   "source": [
    "df['user_score'].value_counts()"
   ]
  },
  {
   "cell_type": "markdown",
   "metadata": {},
   "source": [
    "Аббревиатура tbd расшифровывается очень просто - To Be Determined, то есть \"Будет определено\". Очень часто подобное сокращение можно встретить в анонсах компьютерных игр когда разработчик игры уже сообщил о том, что она готовится к выходу, но пока еще не может назвать точную дату, именно это сокращение и используется. Стоит отметить также, что у этой аббревиатуры могут быть и иные значения, например To Be Done - \"должно быть сделано\", или To Be Discussed - \"подлежит обсуждению\". \n",
    "То есть, данные были нарочно не заполнены, так как не определились с рейтингом, поэтому заменим tbd на Nan."
   ]
  },
  {
   "cell_type": "code",
   "execution_count": 10,
   "metadata": {},
   "outputs": [],
   "source": [
    "df['user_score'] = df['user_score'].replace('tbd', np.nan, regex=True)"
   ]
  },
  {
   "cell_type": "code",
   "execution_count": 11,
   "metadata": {},
   "outputs": [],
   "source": [
    "df['user_score'] = df['user_score'].astype(float)"
   ]
  },
  {
   "cell_type": "markdown",
   "metadata": {},
   "source": [
    "### Обработка пропусков"
   ]
  },
  {
   "cell_type": "markdown",
   "metadata": {},
   "source": [
    "#### Name и Genre"
   ]
  },
  {
   "cell_type": "markdown",
   "metadata": {},
   "source": [
    "Рассмотрим пропуски в столбце Name и Genre"
   ]
  },
  {
   "cell_type": "code",
   "execution_count": 12,
   "metadata": {},
   "outputs": [
    {
     "data": {
      "text/html": [
       "<div>\n",
       "<style scoped>\n",
       "    .dataframe tbody tr th:only-of-type {\n",
       "        vertical-align: middle;\n",
       "    }\n",
       "\n",
       "    .dataframe tbody tr th {\n",
       "        vertical-align: top;\n",
       "    }\n",
       "\n",
       "    .dataframe thead th {\n",
       "        text-align: right;\n",
       "    }\n",
       "</style>\n",
       "<table border=\"1\" class=\"dataframe\">\n",
       "  <thead>\n",
       "    <tr style=\"text-align: right;\">\n",
       "      <th></th>\n",
       "      <th>name</th>\n",
       "      <th>platform</th>\n",
       "      <th>year_of_release</th>\n",
       "      <th>genre</th>\n",
       "      <th>na_sales</th>\n",
       "      <th>eu_sales</th>\n",
       "      <th>jp_sales</th>\n",
       "      <th>other_sales</th>\n",
       "      <th>critic_score</th>\n",
       "      <th>user_score</th>\n",
       "      <th>rating</th>\n",
       "    </tr>\n",
       "  </thead>\n",
       "  <tbody>\n",
       "    <tr>\n",
       "      <td>659</td>\n",
       "      <td>NaN</td>\n",
       "      <td>GEN</td>\n",
       "      <td>1993</td>\n",
       "      <td>NaN</td>\n",
       "      <td>1.78</td>\n",
       "      <td>0.53</td>\n",
       "      <td>0.00</td>\n",
       "      <td>0.08</td>\n",
       "      <td>NaN</td>\n",
       "      <td>NaN</td>\n",
       "      <td>NaN</td>\n",
       "    </tr>\n",
       "    <tr>\n",
       "      <td>14244</td>\n",
       "      <td>NaN</td>\n",
       "      <td>GEN</td>\n",
       "      <td>1993</td>\n",
       "      <td>NaN</td>\n",
       "      <td>0.00</td>\n",
       "      <td>0.00</td>\n",
       "      <td>0.03</td>\n",
       "      <td>0.00</td>\n",
       "      <td>NaN</td>\n",
       "      <td>NaN</td>\n",
       "      <td>NaN</td>\n",
       "    </tr>\n",
       "  </tbody>\n",
       "</table>\n",
       "</div>"
      ],
      "text/plain": [
       "      name platform  year_of_release genre  na_sales  eu_sales  jp_sales  \\\n",
       "659    NaN      GEN             1993   NaN      1.78      0.53      0.00   \n",
       "14244  NaN      GEN             1993   NaN      0.00      0.00      0.03   \n",
       "\n",
       "       other_sales  critic_score  user_score rating  \n",
       "659           0.08           NaN         NaN    NaN  \n",
       "14244         0.00           NaN         NaN    NaN  "
      ]
     },
     "execution_count": 12,
     "metadata": {},
     "output_type": "execute_result"
    }
   ],
   "source": [
    "df[df['name'].isna()]"
   ]
  },
  {
   "cell_type": "code",
   "execution_count": 13,
   "metadata": {},
   "outputs": [
    {
     "name": "stdout",
     "output_type": "stream",
     "text": [
      "Доля пропущенных значений в: 0.00011965300628178283\n"
     ]
    }
   ],
   "source": [
    "print('Доля пропущенных значений в:', 2/16715)"
   ]
  },
  {
   "cell_type": "markdown",
   "metadata": {},
   "source": [
    "Можем удалить данные строки"
   ]
  },
  {
   "cell_type": "code",
   "execution_count": 14,
   "metadata": {},
   "outputs": [],
   "source": [
    "df.dropna(subset=['name'], inplace=True)"
   ]
  },
  {
   "cell_type": "markdown",
   "metadata": {},
   "source": [
    "#### Year_of_Release"
   ]
  },
  {
   "cell_type": "code",
   "execution_count": 15,
   "metadata": {},
   "outputs": [
    {
     "data": {
      "text/plain": [
       "269"
      ]
     },
     "execution_count": 15,
     "metadata": {},
     "output_type": "execute_result"
    }
   ],
   "source": [
    "df['year_of_release'].isna().sum()"
   ]
  },
  {
   "cell_type": "code",
   "execution_count": 16,
   "metadata": {},
   "outputs": [
    {
     "data": {
      "text/html": [
       "<div>\n",
       "<style scoped>\n",
       "    .dataframe tbody tr th:only-of-type {\n",
       "        vertical-align: middle;\n",
       "    }\n",
       "\n",
       "    .dataframe tbody tr th {\n",
       "        vertical-align: top;\n",
       "    }\n",
       "\n",
       "    .dataframe thead th {\n",
       "        text-align: right;\n",
       "    }\n",
       "</style>\n",
       "<table border=\"1\" class=\"dataframe\">\n",
       "  <thead>\n",
       "    <tr style=\"text-align: right;\">\n",
       "      <th></th>\n",
       "      <th>name</th>\n",
       "      <th>platform</th>\n",
       "      <th>year_of_release</th>\n",
       "      <th>genre</th>\n",
       "      <th>na_sales</th>\n",
       "      <th>eu_sales</th>\n",
       "      <th>jp_sales</th>\n",
       "      <th>other_sales</th>\n",
       "      <th>critic_score</th>\n",
       "      <th>user_score</th>\n",
       "      <th>rating</th>\n",
       "    </tr>\n",
       "  </thead>\n",
       "  <tbody>\n",
       "    <tr>\n",
       "      <td>183</td>\n",
       "      <td>Madden NFL 2004</td>\n",
       "      <td>PS2</td>\n",
       "      <td>NaN</td>\n",
       "      <td>Sports</td>\n",
       "      <td>4.26</td>\n",
       "      <td>0.26</td>\n",
       "      <td>0.01</td>\n",
       "      <td>0.71</td>\n",
       "      <td>94.0</td>\n",
       "      <td>8.5</td>\n",
       "      <td>E</td>\n",
       "    </tr>\n",
       "    <tr>\n",
       "      <td>377</td>\n",
       "      <td>FIFA Soccer 2004</td>\n",
       "      <td>PS2</td>\n",
       "      <td>NaN</td>\n",
       "      <td>Sports</td>\n",
       "      <td>0.59</td>\n",
       "      <td>2.36</td>\n",
       "      <td>0.04</td>\n",
       "      <td>0.51</td>\n",
       "      <td>84.0</td>\n",
       "      <td>6.4</td>\n",
       "      <td>E</td>\n",
       "    </tr>\n",
       "    <tr>\n",
       "      <td>456</td>\n",
       "      <td>LEGO Batman: The Videogame</td>\n",
       "      <td>Wii</td>\n",
       "      <td>NaN</td>\n",
       "      <td>Action</td>\n",
       "      <td>1.80</td>\n",
       "      <td>0.97</td>\n",
       "      <td>0.00</td>\n",
       "      <td>0.29</td>\n",
       "      <td>74.0</td>\n",
       "      <td>7.9</td>\n",
       "      <td>E10+</td>\n",
       "    </tr>\n",
       "    <tr>\n",
       "      <td>475</td>\n",
       "      <td>wwe Smackdown vs. Raw 2006</td>\n",
       "      <td>PS2</td>\n",
       "      <td>NaN</td>\n",
       "      <td>Fighting</td>\n",
       "      <td>1.57</td>\n",
       "      <td>1.02</td>\n",
       "      <td>0.00</td>\n",
       "      <td>0.41</td>\n",
       "      <td>NaN</td>\n",
       "      <td>NaN</td>\n",
       "      <td>NaN</td>\n",
       "    </tr>\n",
       "    <tr>\n",
       "      <td>609</td>\n",
       "      <td>Space Invaders</td>\n",
       "      <td>2600</td>\n",
       "      <td>NaN</td>\n",
       "      <td>Shooter</td>\n",
       "      <td>2.36</td>\n",
       "      <td>0.14</td>\n",
       "      <td>0.00</td>\n",
       "      <td>0.03</td>\n",
       "      <td>NaN</td>\n",
       "      <td>NaN</td>\n",
       "      <td>NaN</td>\n",
       "    </tr>\n",
       "  </tbody>\n",
       "</table>\n",
       "</div>"
      ],
      "text/plain": [
       "                           name platform  year_of_release     genre  na_sales  \\\n",
       "183             Madden NFL 2004      PS2              NaN    Sports      4.26   \n",
       "377            FIFA Soccer 2004      PS2              NaN    Sports      0.59   \n",
       "456  LEGO Batman: The Videogame      Wii              NaN    Action      1.80   \n",
       "475  wwe Smackdown vs. Raw 2006      PS2              NaN  Fighting      1.57   \n",
       "609              Space Invaders     2600              NaN   Shooter      2.36   \n",
       "\n",
       "     eu_sales  jp_sales  other_sales  critic_score  user_score rating  \n",
       "183      0.26      0.01         0.71          94.0         8.5      E  \n",
       "377      2.36      0.04         0.51          84.0         6.4      E  \n",
       "456      0.97      0.00         0.29          74.0         7.9   E10+  \n",
       "475      1.02      0.00         0.41           NaN         NaN    NaN  \n",
       "609      0.14      0.00         0.03           NaN         NaN    NaN  "
      ]
     },
     "execution_count": 16,
     "metadata": {},
     "output_type": "execute_result"
    }
   ],
   "source": [
    "df[df['year_of_release'].isna()].head()"
   ]
  },
  {
   "cell_type": "markdown",
   "metadata": {},
   "source": [
    "Посмотрим год выпуска любой выбранной игры на других консолях"
   ]
  },
  {
   "cell_type": "code",
   "execution_count": 17,
   "metadata": {},
   "outputs": [
    {
     "data": {
      "text/html": [
       "<div>\n",
       "<style scoped>\n",
       "    .dataframe tbody tr th:only-of-type {\n",
       "        vertical-align: middle;\n",
       "    }\n",
       "\n",
       "    .dataframe tbody tr th {\n",
       "        vertical-align: top;\n",
       "    }\n",
       "\n",
       "    .dataframe thead th {\n",
       "        text-align: right;\n",
       "    }\n",
       "</style>\n",
       "<table border=\"1\" class=\"dataframe\">\n",
       "  <thead>\n",
       "    <tr style=\"text-align: right;\">\n",
       "      <th></th>\n",
       "      <th>name</th>\n",
       "      <th>platform</th>\n",
       "      <th>year_of_release</th>\n",
       "      <th>genre</th>\n",
       "      <th>na_sales</th>\n",
       "      <th>eu_sales</th>\n",
       "      <th>jp_sales</th>\n",
       "      <th>other_sales</th>\n",
       "      <th>critic_score</th>\n",
       "      <th>user_score</th>\n",
       "      <th>rating</th>\n",
       "    </tr>\n",
       "  </thead>\n",
       "  <tbody>\n",
       "    <tr>\n",
       "      <td>183</td>\n",
       "      <td>Madden NFL 2004</td>\n",
       "      <td>PS2</td>\n",
       "      <td>NaN</td>\n",
       "      <td>Sports</td>\n",
       "      <td>4.26</td>\n",
       "      <td>0.26</td>\n",
       "      <td>0.01</td>\n",
       "      <td>0.71</td>\n",
       "      <td>94.0</td>\n",
       "      <td>8.5</td>\n",
       "      <td>E</td>\n",
       "    </tr>\n",
       "    <tr>\n",
       "      <td>1881</td>\n",
       "      <td>Madden NFL 2004</td>\n",
       "      <td>XB</td>\n",
       "      <td>2003</td>\n",
       "      <td>Sports</td>\n",
       "      <td>1.02</td>\n",
       "      <td>0.02</td>\n",
       "      <td>0.00</td>\n",
       "      <td>0.05</td>\n",
       "      <td>92.0</td>\n",
       "      <td>8.3</td>\n",
       "      <td>E</td>\n",
       "    </tr>\n",
       "    <tr>\n",
       "      <td>3889</td>\n",
       "      <td>Madden NFL 2004</td>\n",
       "      <td>GC</td>\n",
       "      <td>2003</td>\n",
       "      <td>Sports</td>\n",
       "      <td>0.40</td>\n",
       "      <td>0.10</td>\n",
       "      <td>0.00</td>\n",
       "      <td>0.01</td>\n",
       "      <td>94.0</td>\n",
       "      <td>7.7</td>\n",
       "      <td>E</td>\n",
       "    </tr>\n",
       "    <tr>\n",
       "      <td>5708</td>\n",
       "      <td>Madden NFL 2004</td>\n",
       "      <td>GBA</td>\n",
       "      <td>2003</td>\n",
       "      <td>Sports</td>\n",
       "      <td>0.22</td>\n",
       "      <td>0.08</td>\n",
       "      <td>0.00</td>\n",
       "      <td>0.01</td>\n",
       "      <td>70.0</td>\n",
       "      <td>6.6</td>\n",
       "      <td>E</td>\n",
       "    </tr>\n",
       "  </tbody>\n",
       "</table>\n",
       "</div>"
      ],
      "text/plain": [
       "                 name platform  year_of_release   genre  na_sales  eu_sales  \\\n",
       "183   Madden NFL 2004      PS2              NaN  Sports      4.26      0.26   \n",
       "1881  Madden NFL 2004       XB             2003  Sports      1.02      0.02   \n",
       "3889  Madden NFL 2004       GC             2003  Sports      0.40      0.10   \n",
       "5708  Madden NFL 2004      GBA             2003  Sports      0.22      0.08   \n",
       "\n",
       "      jp_sales  other_sales  critic_score  user_score rating  \n",
       "183       0.01         0.71          94.0         8.5      E  \n",
       "1881      0.00         0.05          92.0         8.3      E  \n",
       "3889      0.00         0.01          94.0         7.7      E  \n",
       "5708      0.00         0.01          70.0         6.6      E  "
      ]
     },
     "execution_count": 17,
     "metadata": {},
     "output_type": "execute_result"
    }
   ],
   "source": [
    "df.query('name == \"Madden NFL 2004\"')"
   ]
  },
  {
   "cell_type": "markdown",
   "metadata": {},
   "source": [
    "Заменим пропуски на года той же игры только от другой платформы, но для удобства сначала приведем к нижнему регистру данные в столбцах."
   ]
  },
  {
   "cell_type": "code",
   "execution_count": 18,
   "metadata": {},
   "outputs": [],
   "source": [
    "for column in ['name','platform','genre','rating']:\n",
    "    df[column] = df[column].str.lower() "
   ]
  },
  {
   "cell_type": "code",
   "execution_count": 19,
   "metadata": {},
   "outputs": [],
   "source": [
    "for data in df[df['year_of_release'].isnull() == True].index:  \n",
    "    df['year_of_release'][data] = df.loc[df['name'] == df['name'][data], 'year_of_release'].max()"
   ]
  },
  {
   "cell_type": "code",
   "execution_count": 20,
   "metadata": {},
   "outputs": [
    {
     "data": {
      "text/plain": [
       "146"
      ]
     },
     "execution_count": 20,
     "metadata": {},
     "output_type": "execute_result"
    }
   ],
   "source": [
    "df['year_of_release'].isna().sum()"
   ]
  },
  {
   "cell_type": "code",
   "execution_count": 20,
   "metadata": {},
   "outputs": [
    {
     "name": "stdout",
     "output_type": "stream",
     "text": [
      "Доля пропущенных значений в: 0.008734669458570146\n"
     ]
    }
   ],
   "source": [
    "print('Доля пропущенных значений в:', 146/16715)"
   ]
  },
  {
   "cell_type": "markdown",
   "metadata": {},
   "source": [
    "Часть пропусков мы можем обработать таким образом. Часто игра выходит в одно время сразу на нескольких платформах."
   ]
  },
  {
   "cell_type": "markdown",
   "metadata": {},
   "source": [
    "#### Critic_Score, User_Score, Rating "
   ]
  },
  {
   "cell_type": "code",
   "execution_count": 22,
   "metadata": {},
   "outputs": [
    {
     "data": {
      "text/plain": [
       "name                  0\n",
       "platform              0\n",
       "year_of_release     146\n",
       "genre                 0\n",
       "na_sales              0\n",
       "eu_sales              0\n",
       "jp_sales              0\n",
       "other_sales           0\n",
       "critic_score       8576\n",
       "user_score         9123\n",
       "rating             6764\n",
       "dtype: int64"
      ]
     },
     "execution_count": 22,
     "metadata": {},
     "output_type": "execute_result"
    }
   ],
   "source": [
    "df.isna().sum()"
   ]
  },
  {
   "cell_type": "code",
   "execution_count": 23,
   "metadata": {},
   "outputs": [
    {
     "data": {
      "text/plain": [
       "name                  0\n",
       "platform              0\n",
       "year_of_release       0\n",
       "genre                 0\n",
       "na_sales              0\n",
       "eu_sales              0\n",
       "jp_sales              0\n",
       "other_sales           0\n",
       "critic_score       4981\n",
       "user_score         4955\n",
       "rating             3418\n",
       "dtype: int64"
      ]
     },
     "execution_count": 23,
     "metadata": {},
     "output_type": "execute_result"
    }
   ],
   "source": [
    "df.query('year_of_release > 2006').isna().sum()# год был выбран позже"
   ]
  },
  {
   "cell_type": "code",
   "execution_count": 24,
   "metadata": {},
   "outputs": [
    {
     "name": "stdout",
     "output_type": "stream",
     "text": [
      "Доля пропущенных значений critic_score: 51.3%\n",
      "Доля пропущенных значений user_score: 54.6%\n",
      "Доля пропущенных значений rating: 40.5%\n"
     ]
    }
   ],
   "source": [
    "print('Доля пропущенных значений critic_score: {:.1%}'.format(8576/16715))\n",
    "print('Доля пропущенных значений user_score: {:.1%}'.format(9123/16715))\n",
    "print('Доля пропущенных значений rating: {:.1%}'.format(6764/16715))"
   ]
  },
  {
   "cell_type": "markdown",
   "metadata": {},
   "source": [
    "Причиной такого большого количества пропусков в столбцах critic_score,user_score и rating может являться то, что данная информация является не обязательной для заполнения. Не каждый игрок будет оценивать игру."
   ]
  },
  {
   "cell_type": "code",
   "execution_count": 25,
   "metadata": {},
   "outputs": [
    {
     "data": {
      "text/html": [
       "<div>\n",
       "<style scoped>\n",
       "    .dataframe tbody tr th:only-of-type {\n",
       "        vertical-align: middle;\n",
       "    }\n",
       "\n",
       "    .dataframe tbody tr th {\n",
       "        vertical-align: top;\n",
       "    }\n",
       "\n",
       "    .dataframe thead th {\n",
       "        text-align: right;\n",
       "    }\n",
       "</style>\n",
       "<table border=\"1\" class=\"dataframe\">\n",
       "  <thead>\n",
       "    <tr style=\"text-align: right;\">\n",
       "      <th></th>\n",
       "      <th>name</th>\n",
       "      <th>platform</th>\n",
       "      <th>year_of_release</th>\n",
       "      <th>genre</th>\n",
       "      <th>na_sales</th>\n",
       "      <th>eu_sales</th>\n",
       "      <th>jp_sales</th>\n",
       "      <th>other_sales</th>\n",
       "      <th>critic_score</th>\n",
       "      <th>user_score</th>\n",
       "      <th>rating</th>\n",
       "    </tr>\n",
       "  </thead>\n",
       "  <tbody>\n",
       "    <tr>\n",
       "      <td>12236</td>\n",
       "      <td>gambler densetsu tetsuya</td>\n",
       "      <td>ps2</td>\n",
       "      <td>2001</td>\n",
       "      <td>adventure</td>\n",
       "      <td>0.00</td>\n",
       "      <td>0.00</td>\n",
       "      <td>0.07</td>\n",
       "      <td>0.00</td>\n",
       "      <td>NaN</td>\n",
       "      <td>NaN</td>\n",
       "      <td>NaN</td>\n",
       "    </tr>\n",
       "    <tr>\n",
       "      <td>12111</td>\n",
       "      <td>motor toon grand prix (japan)</td>\n",
       "      <td>ps</td>\n",
       "      <td>1994</td>\n",
       "      <td>racing</td>\n",
       "      <td>0.00</td>\n",
       "      <td>0.00</td>\n",
       "      <td>0.06</td>\n",
       "      <td>0.00</td>\n",
       "      <td>NaN</td>\n",
       "      <td>NaN</td>\n",
       "      <td>NaN</td>\n",
       "    </tr>\n",
       "    <tr>\n",
       "      <td>15285</td>\n",
       "      <td>jissen pachi-slot hisshouhou! mister magic neo</td>\n",
       "      <td>ps2</td>\n",
       "      <td>2007</td>\n",
       "      <td>misc</td>\n",
       "      <td>0.00</td>\n",
       "      <td>0.00</td>\n",
       "      <td>0.02</td>\n",
       "      <td>0.00</td>\n",
       "      <td>NaN</td>\n",
       "      <td>NaN</td>\n",
       "      <td>NaN</td>\n",
       "    </tr>\n",
       "    <tr>\n",
       "      <td>515</td>\n",
       "      <td>wwe smackdown! vs. raw</td>\n",
       "      <td>ps2</td>\n",
       "      <td>2002</td>\n",
       "      <td>fighting</td>\n",
       "      <td>1.32</td>\n",
       "      <td>1.08</td>\n",
       "      <td>0.04</td>\n",
       "      <td>0.39</td>\n",
       "      <td>NaN</td>\n",
       "      <td>NaN</td>\n",
       "      <td>NaN</td>\n",
       "    </tr>\n",
       "    <tr>\n",
       "      <td>14230</td>\n",
       "      <td>rakushou! pachi-slot sengen 5: rio paradise</td>\n",
       "      <td>ps2</td>\n",
       "      <td>2007</td>\n",
       "      <td>misc</td>\n",
       "      <td>0.00</td>\n",
       "      <td>0.00</td>\n",
       "      <td>0.03</td>\n",
       "      <td>0.00</td>\n",
       "      <td>NaN</td>\n",
       "      <td>NaN</td>\n",
       "      <td>NaN</td>\n",
       "    </tr>\n",
       "    <tr>\n",
       "      <td>15800</td>\n",
       "      <td>canada hunt</td>\n",
       "      <td>wii</td>\n",
       "      <td>2010</td>\n",
       "      <td>sports</td>\n",
       "      <td>0.02</td>\n",
       "      <td>0.00</td>\n",
       "      <td>0.00</td>\n",
       "      <td>0.00</td>\n",
       "      <td>NaN</td>\n",
       "      <td>NaN</td>\n",
       "      <td>t</td>\n",
       "    </tr>\n",
       "    <tr>\n",
       "      <td>13770</td>\n",
       "      <td>ou to maou to 7-nin no himegimitachi: shin ous...</td>\n",
       "      <td>psv</td>\n",
       "      <td>2012</td>\n",
       "      <td>action</td>\n",
       "      <td>0.00</td>\n",
       "      <td>0.00</td>\n",
       "      <td>0.04</td>\n",
       "      <td>0.00</td>\n",
       "      <td>NaN</td>\n",
       "      <td>NaN</td>\n",
       "      <td>NaN</td>\n",
       "    </tr>\n",
       "    <tr>\n",
       "      <td>15878</td>\n",
       "      <td>densha de go! shinkansen ex: sanyou shinkansen...</td>\n",
       "      <td>wii</td>\n",
       "      <td>2007</td>\n",
       "      <td>simulation</td>\n",
       "      <td>0.00</td>\n",
       "      <td>0.00</td>\n",
       "      <td>0.02</td>\n",
       "      <td>0.00</td>\n",
       "      <td>NaN</td>\n",
       "      <td>NaN</td>\n",
       "      <td>NaN</td>\n",
       "    </tr>\n",
       "    <tr>\n",
       "      <td>3633</td>\n",
       "      <td>fighting force 2</td>\n",
       "      <td>ps</td>\n",
       "      <td>1999</td>\n",
       "      <td>action</td>\n",
       "      <td>0.31</td>\n",
       "      <td>0.21</td>\n",
       "      <td>0.00</td>\n",
       "      <td>0.04</td>\n",
       "      <td>NaN</td>\n",
       "      <td>NaN</td>\n",
       "      <td>NaN</td>\n",
       "    </tr>\n",
       "    <tr>\n",
       "      <td>3455</td>\n",
       "      <td>international superstar soccer '98</td>\n",
       "      <td>n64</td>\n",
       "      <td>1998</td>\n",
       "      <td>sports</td>\n",
       "      <td>0.06</td>\n",
       "      <td>0.30</td>\n",
       "      <td>0.19</td>\n",
       "      <td>0.03</td>\n",
       "      <td>NaN</td>\n",
       "      <td>NaN</td>\n",
       "      <td>NaN</td>\n",
       "    </tr>\n",
       "  </tbody>\n",
       "</table>\n",
       "</div>"
      ],
      "text/plain": [
       "                                                    name platform  \\\n",
       "12236                           gambler densetsu tetsuya      ps2   \n",
       "12111                      motor toon grand prix (japan)       ps   \n",
       "15285     jissen pachi-slot hisshouhou! mister magic neo      ps2   \n",
       "515                               wwe smackdown! vs. raw      ps2   \n",
       "14230        rakushou! pachi-slot sengen 5: rio paradise      ps2   \n",
       "15800                                        canada hunt      wii   \n",
       "13770  ou to maou to 7-nin no himegimitachi: shin ous...      psv   \n",
       "15878  densha de go! shinkansen ex: sanyou shinkansen...      wii   \n",
       "3633                                    fighting force 2       ps   \n",
       "3455                  international superstar soccer '98      n64   \n",
       "\n",
       "       year_of_release       genre  na_sales  eu_sales  jp_sales  other_sales  \\\n",
       "12236             2001   adventure      0.00      0.00      0.07         0.00   \n",
       "12111             1994      racing      0.00      0.00      0.06         0.00   \n",
       "15285             2007        misc      0.00      0.00      0.02         0.00   \n",
       "515               2002    fighting      1.32      1.08      0.04         0.39   \n",
       "14230             2007        misc      0.00      0.00      0.03         0.00   \n",
       "15800             2010      sports      0.02      0.00      0.00         0.00   \n",
       "13770             2012      action      0.00      0.00      0.04         0.00   \n",
       "15878             2007  simulation      0.00      0.00      0.02         0.00   \n",
       "3633              1999      action      0.31      0.21      0.00         0.04   \n",
       "3455              1998      sports      0.06      0.30      0.19         0.03   \n",
       "\n",
       "       critic_score  user_score rating  \n",
       "12236           NaN         NaN    NaN  \n",
       "12111           NaN         NaN    NaN  \n",
       "15285           NaN         NaN    NaN  \n",
       "515             NaN         NaN    NaN  \n",
       "14230           NaN         NaN    NaN  \n",
       "15800           NaN         NaN      t  \n",
       "13770           NaN         NaN    NaN  \n",
       "15878           NaN         NaN    NaN  \n",
       "3633            NaN         NaN    NaN  \n",
       "3455            NaN         NaN    NaN  "
      ]
     },
     "execution_count": 25,
     "metadata": {},
     "output_type": "execute_result"
    }
   ],
   "source": [
    "df[df['critic_score'].isna()].sample(10)"
   ]
  },
  {
   "cell_type": "markdown",
   "metadata": {},
   "source": [
    "### Поиск дубликатов"
   ]
  },
  {
   "cell_type": "code",
   "execution_count": 26,
   "metadata": {},
   "outputs": [
    {
     "data": {
      "text/plain": [
       "0"
      ]
     },
     "execution_count": 26,
     "metadata": {},
     "output_type": "execute_result"
    }
   ],
   "source": [
    "df.duplicated().sum()"
   ]
  },
  {
   "cell_type": "code",
   "execution_count": 27,
   "metadata": {},
   "outputs": [
    {
     "name": "stdout",
     "output_type": "stream",
     "text": [
      "<class 'pandas.core.frame.DataFrame'>\n",
      "Int64Index: 16713 entries, 0 to 16714\n",
      "Data columns (total 11 columns):\n",
      "name               16713 non-null object\n",
      "platform           16713 non-null object\n",
      "year_of_release    16567 non-null Int64\n",
      "genre              16713 non-null object\n",
      "na_sales           16713 non-null float64\n",
      "eu_sales           16713 non-null float64\n",
      "jp_sales           16713 non-null float64\n",
      "other_sales        16713 non-null float64\n",
      "critic_score       8137 non-null float64\n",
      "user_score         7590 non-null float64\n",
      "rating             9949 non-null object\n",
      "dtypes: Int64(1), float64(6), object(4)\n",
      "memory usage: 2.2+ MB\n"
     ]
    }
   ],
   "source": [
    "df.info()"
   ]
  },
  {
   "cell_type": "markdown",
   "metadata": {},
   "source": [
    "### Cуммарные продажи во всех регионах"
   ]
  },
  {
   "cell_type": "code",
   "execution_count": 28,
   "metadata": {},
   "outputs": [],
   "source": [
    "df['total_sales'] = df['na_sales'] + df['eu_sales'] + df['jp_sales'] + df['other_sales']"
   ]
  },
  {
   "cell_type": "markdown",
   "metadata": {},
   "source": [
    "**Вывод**\n",
    "\n",
    "В процессе предобработки данных были: \n",
    "- заменены на строчный тип названия столбцов и данные в столбцах 'name','platform','genre','rating' на строчный регистр\n",
    "- заменены типы данных в столбцах 'year_of_release', 'critic_score', 'user_score'\n",
    "- удалили пропущенные значения исходя из данных столбца 'name', заменили пару данных в столбце 'year_of_release' в соответствии с годами выпусков игр на альтернативных платформах, остальные пропуски были пока оставленны, причиной пропусков скорее всего послужило не обязательное заполнение данной информации\n",
    "- изучены дупликаты - их не оказалось."
   ]
  },
  {
   "cell_type": "markdown",
   "metadata": {},
   "source": [
    "## Шаг 3. Анализ данных"
   ]
  },
  {
   "cell_type": "markdown",
   "metadata": {},
   "source": [
    "### Количеств игр по годам\n",
    "Посмотрим сколько игр выпускалось в разные года."
   ]
  },
  {
   "cell_type": "code",
   "execution_count": 29,
   "metadata": {},
   "outputs": [
    {
     "data": {
      "text/html": [
       "<div>\n",
       "<style scoped>\n",
       "    .dataframe tbody tr th:only-of-type {\n",
       "        vertical-align: middle;\n",
       "    }\n",
       "\n",
       "    .dataframe tbody tr th {\n",
       "        vertical-align: top;\n",
       "    }\n",
       "\n",
       "    .dataframe thead th {\n",
       "        text-align: right;\n",
       "    }\n",
       "</style>\n",
       "<table border=\"1\" class=\"dataframe\">\n",
       "  <thead>\n",
       "    <tr style=\"text-align: right;\">\n",
       "      <th></th>\n",
       "      <th>name</th>\n",
       "    </tr>\n",
       "    <tr>\n",
       "      <th>year_of_release</th>\n",
       "      <th></th>\n",
       "    </tr>\n",
       "  </thead>\n",
       "  <tbody>\n",
       "    <tr>\n",
       "      <td>1980</td>\n",
       "      <td>9</td>\n",
       "    </tr>\n",
       "    <tr>\n",
       "      <td>1981</td>\n",
       "      <td>46</td>\n",
       "    </tr>\n",
       "    <tr>\n",
       "      <td>1982</td>\n",
       "      <td>36</td>\n",
       "    </tr>\n",
       "    <tr>\n",
       "      <td>1983</td>\n",
       "      <td>17</td>\n",
       "    </tr>\n",
       "    <tr>\n",
       "      <td>1984</td>\n",
       "      <td>14</td>\n",
       "    </tr>\n",
       "    <tr>\n",
       "      <td>1985</td>\n",
       "      <td>14</td>\n",
       "    </tr>\n",
       "    <tr>\n",
       "      <td>1986</td>\n",
       "      <td>21</td>\n",
       "    </tr>\n",
       "    <tr>\n",
       "      <td>1987</td>\n",
       "      <td>16</td>\n",
       "    </tr>\n",
       "    <tr>\n",
       "      <td>1988</td>\n",
       "      <td>15</td>\n",
       "    </tr>\n",
       "    <tr>\n",
       "      <td>1989</td>\n",
       "      <td>17</td>\n",
       "    </tr>\n",
       "    <tr>\n",
       "      <td>1990</td>\n",
       "      <td>16</td>\n",
       "    </tr>\n",
       "    <tr>\n",
       "      <td>1991</td>\n",
       "      <td>41</td>\n",
       "    </tr>\n",
       "    <tr>\n",
       "      <td>1992</td>\n",
       "      <td>43</td>\n",
       "    </tr>\n",
       "    <tr>\n",
       "      <td>1993</td>\n",
       "      <td>60</td>\n",
       "    </tr>\n",
       "    <tr>\n",
       "      <td>1994</td>\n",
       "      <td>121</td>\n",
       "    </tr>\n",
       "    <tr>\n",
       "      <td>1995</td>\n",
       "      <td>219</td>\n",
       "    </tr>\n",
       "    <tr>\n",
       "      <td>1996</td>\n",
       "      <td>263</td>\n",
       "    </tr>\n",
       "    <tr>\n",
       "      <td>1997</td>\n",
       "      <td>289</td>\n",
       "    </tr>\n",
       "    <tr>\n",
       "      <td>1998</td>\n",
       "      <td>379</td>\n",
       "    </tr>\n",
       "    <tr>\n",
       "      <td>1999</td>\n",
       "      <td>339</td>\n",
       "    </tr>\n",
       "    <tr>\n",
       "      <td>2000</td>\n",
       "      <td>350</td>\n",
       "    </tr>\n",
       "    <tr>\n",
       "      <td>2001</td>\n",
       "      <td>484</td>\n",
       "    </tr>\n",
       "    <tr>\n",
       "      <td>2002</td>\n",
       "      <td>845</td>\n",
       "    </tr>\n",
       "    <tr>\n",
       "      <td>2003</td>\n",
       "      <td>785</td>\n",
       "    </tr>\n",
       "    <tr>\n",
       "      <td>2004</td>\n",
       "      <td>765</td>\n",
       "    </tr>\n",
       "    <tr>\n",
       "      <td>2005</td>\n",
       "      <td>947</td>\n",
       "    </tr>\n",
       "    <tr>\n",
       "      <td>2006</td>\n",
       "      <td>1020</td>\n",
       "    </tr>\n",
       "    <tr>\n",
       "      <td>2007</td>\n",
       "      <td>1202</td>\n",
       "    </tr>\n",
       "    <tr>\n",
       "      <td>2008</td>\n",
       "      <td>1440</td>\n",
       "    </tr>\n",
       "    <tr>\n",
       "      <td>2009</td>\n",
       "      <td>1431</td>\n",
       "    </tr>\n",
       "    <tr>\n",
       "      <td>2010</td>\n",
       "      <td>1271</td>\n",
       "    </tr>\n",
       "    <tr>\n",
       "      <td>2011</td>\n",
       "      <td>1153</td>\n",
       "    </tr>\n",
       "    <tr>\n",
       "      <td>2012</td>\n",
       "      <td>662</td>\n",
       "    </tr>\n",
       "    <tr>\n",
       "      <td>2013</td>\n",
       "      <td>547</td>\n",
       "    </tr>\n",
       "    <tr>\n",
       "      <td>2014</td>\n",
       "      <td>582</td>\n",
       "    </tr>\n",
       "    <tr>\n",
       "      <td>2015</td>\n",
       "      <td>606</td>\n",
       "    </tr>\n",
       "    <tr>\n",
       "      <td>2016</td>\n",
       "      <td>502</td>\n",
       "    </tr>\n",
       "  </tbody>\n",
       "</table>\n",
       "</div>"
      ],
      "text/plain": [
       "                 name\n",
       "year_of_release      \n",
       "1980                9\n",
       "1981               46\n",
       "1982               36\n",
       "1983               17\n",
       "1984               14\n",
       "1985               14\n",
       "1986               21\n",
       "1987               16\n",
       "1988               15\n",
       "1989               17\n",
       "1990               16\n",
       "1991               41\n",
       "1992               43\n",
       "1993               60\n",
       "1994              121\n",
       "1995              219\n",
       "1996              263\n",
       "1997              289\n",
       "1998              379\n",
       "1999              339\n",
       "2000              350\n",
       "2001              484\n",
       "2002              845\n",
       "2003              785\n",
       "2004              765\n",
       "2005              947\n",
       "2006             1020\n",
       "2007             1202\n",
       "2008             1440\n",
       "2009             1431\n",
       "2010             1271\n",
       "2011             1153\n",
       "2012              662\n",
       "2013              547\n",
       "2014              582\n",
       "2015              606\n",
       "2016              502"
      ]
     },
     "execution_count": 29,
     "metadata": {},
     "output_type": "execute_result"
    }
   ],
   "source": [
    "games_in_year = df.pivot_table(index = 'year_of_release', values = 'name', aggfunc = 'count')\n",
    "games_in_year"
   ]
  },
  {
   "cell_type": "code",
   "execution_count": 30,
   "metadata": {},
   "outputs": [
    {
     "data": {
      "image/png": "[encoded data removed]",
      "text/plain": [
       "<Figure size 864x432 with 1 Axes>"
      ]
     },
     "metadata": {
      "needs_background": "light"
     },
     "output_type": "display_data"
    }
   ],
   "source": [
    "plt.figure(figsize=(12,6))\n",
    "sns.lineplot(data=games_in_year)\n",
    "plt.ylabel(\"Количество игр\")\n",
    "plt.xlabel(\"Год выпуска\")\n",
    "plt.title(\"Количество игр по годам\")\n",
    "plt.legend('');"
   ]
  },
  {
   "cell_type": "code",
   "execution_count": 31,
   "metadata": {},
   "outputs": [],
   "source": [
    "#plt.subplots(figsize=(22, 8))\n",
    "#sns.barplot(x=games_in_year.index, y=\"name\", data=games_in_year, palette=\"Blues_d\")"
   ]
  },
  {
   "cell_type": "markdown",
   "metadata": {},
   "source": [
    "Исходя из полученного графика видно с 1990 года количество игр начинает расти. Причиной таких данных может быть стремительное развитие компьютерной техники. Пик пришелся на 2008 год, затем наблюдается спад, причиной может послужить развитие телефонов, а следовательно мобильных приложений. Так же можно принять решение, что в последующем анализе данные до 1995 год можно не учитывать."
   ]
  },
  {
   "cell_type": "markdown",
   "metadata": {},
   "source": [
    "### Изменние продаж по платформам\n",
    "Посмотрим как менялись продажи по платформам."
   ]
  },
  {
   "cell_type": "markdown",
   "metadata": {},
   "source": [
    "Отсортируем платформы по суммам продаж и выделим платформы с наибольшими продажами"
   ]
  },
  {
   "cell_type": "code",
   "execution_count": 32,
   "metadata": {},
   "outputs": [],
   "source": [
    "df_new = df.query('year_of_release >= 1995')"
   ]
  },
  {
   "cell_type": "code",
   "execution_count": 33,
   "metadata": {},
   "outputs": [
    {
     "data": {
      "text/html": [
       "<div>\n",
       "<style scoped>\n",
       "    .dataframe tbody tr th:only-of-type {\n",
       "        vertical-align: middle;\n",
       "    }\n",
       "\n",
       "    .dataframe tbody tr th {\n",
       "        vertical-align: top;\n",
       "    }\n",
       "\n",
       "    .dataframe thead th {\n",
       "        text-align: right;\n",
       "    }\n",
       "</style>\n",
       "<table border=\"1\" class=\"dataframe\">\n",
       "  <thead>\n",
       "    <tr style=\"text-align: right;\">\n",
       "      <th></th>\n",
       "      <th>total_sales</th>\n",
       "    </tr>\n",
       "    <tr>\n",
       "      <th>platform</th>\n",
       "      <th></th>\n",
       "    </tr>\n",
       "  </thead>\n",
       "  <tbody>\n",
       "    <tr>\n",
       "      <td>ps2</td>\n",
       "      <td>1247.16</td>\n",
       "    </tr>\n",
       "    <tr>\n",
       "      <td>x360</td>\n",
       "      <td>966.61</td>\n",
       "    </tr>\n",
       "    <tr>\n",
       "      <td>ps3</td>\n",
       "      <td>935.19</td>\n",
       "    </tr>\n",
       "    <tr>\n",
       "      <td>wii</td>\n",
       "      <td>903.31</td>\n",
       "    </tr>\n",
       "    <tr>\n",
       "      <td>ds</td>\n",
       "      <td>804.26</td>\n",
       "    </tr>\n",
       "    <tr>\n",
       "      <td>ps</td>\n",
       "      <td>721.55</td>\n",
       "    </tr>\n",
       "    <tr>\n",
       "      <td>ps4</td>\n",
       "      <td>314.14</td>\n",
       "    </tr>\n",
       "    <tr>\n",
       "      <td>gba</td>\n",
       "      <td>313.73</td>\n",
       "    </tr>\n",
       "    <tr>\n",
       "      <td>psp</td>\n",
       "      <td>293.57</td>\n",
       "    </tr>\n",
       "    <tr>\n",
       "      <td>3ds</td>\n",
       "      <td>258.53</td>\n",
       "    </tr>\n",
       "  </tbody>\n",
       "</table>\n",
       "</div>"
      ],
      "text/plain": [
       "          total_sales\n",
       "platform             \n",
       "ps2           1247.16\n",
       "x360           966.61\n",
       "ps3            935.19\n",
       "wii            903.31\n",
       "ds             804.26\n",
       "ps             721.55\n",
       "ps4            314.14\n",
       "gba            313.73\n",
       "psp            293.57\n",
       "3ds            258.53"
      ]
     },
     "execution_count": 33,
     "metadata": {},
     "output_type": "execute_result"
    }
   ],
   "source": [
    "platform_sale = df_new.pivot_table(index='platform', values='total_sales', aggfunc='sum')\n",
    "platform_sale = platform_sale.sort_values(by='total_sales', ascending=False)    \n",
    "platform_sale.head(10)"
   ]
  },
  {
   "cell_type": "code",
   "execution_count": 34,
   "metadata": {},
   "outputs": [
    {
     "data": {
      "image/png": "[encoded data removed]",
      "text/plain": [
       "<Figure size 936x432 with 1 Axes>"
      ]
     },
     "metadata": {
      "needs_background": "light"
     },
     "output_type": "display_data"
    }
   ],
   "source": [
    "plt.figure(figsize=(13,6))\n",
    "sns.barplot(x=platform_sale.index, y=platform_sale['total_sales'])\n",
    "plt.title(\"Продажи по платформам за весь период\")\n",
    "plt.xlabel(\"Название платформы\")\n",
    "plt.ylabel(\"Количество продаж\");\n",
    "#sns.barplot(x=platform_sale.index, y=\"total_sales\", data=platform_sale)"
   ]
  },
  {
   "cell_type": "markdown",
   "metadata": {},
   "source": [
    "По данным видно, что самые популярные игровые платформы ps2, x360, ps3, wii, ds, ps\n"
   ]
  },
  {
   "cell_type": "code",
   "execution_count": 35,
   "metadata": {},
   "outputs": [
    {
     "data": {
      "text/plain": [
       "array(['ps2', 'x360', 'ps3', 'wii', 'ds', 'ps', 'ps4', 'gba', 'psp',\n",
       "       '3ds'], dtype=object)"
      ]
     },
     "execution_count": 35,
     "metadata": {},
     "output_type": "execute_result"
    }
   ],
   "source": [
    "platform_grouped = platform_sale.reset_index().head(10)\n",
    "top_platforms_list = platform_grouped['platform'].unique()\n",
    "top_platforms_list"
   ]
  },
  {
   "cell_type": "markdown",
   "metadata": {},
   "source": [
    "Построим гистограммы распределения по годам"
   ]
  },
  {
   "cell_type": "code",
   "execution_count": 36,
   "metadata": {},
   "outputs": [
    {
     "data": {
      "image/png": "[encoded data removed]",
      "text/plain": [
       "<Figure size 936x288 with 1 Axes>"
      ]
     },
     "metadata": {
      "needs_background": "light"
     },
     "output_type": "display_data"
    },
    {
     "data": {
      "image/png": "[encoded data removed]",
      "text/plain": [
       "<Figure size 936x288 with 1 Axes>"
      ]
     },
     "metadata": {
      "needs_background": "light"
     },
     "output_type": "display_data"
    },
    {
     "data": {
      "image/png": "[encoded data removed]",
      "text/plain": [
       "<Figure size 936x288 with 1 Axes>"
      ]
     },
     "metadata": {
      "needs_background": "light"
     },
     "output_type": "display_data"
    },
    {
     "data": {
      "image/png": "[encoded data removed]",
      "text/plain": [
       "<Figure size 936x288 with 1 Axes>"
      ]
     },
     "metadata": {
      "needs_background": "light"
     },
     "output_type": "display_data"
    },
    {
     "data": {
      "image/png": "[encoded data removed]",
      "text/plain": [
       "<Figure size 936x288 with 1 Axes>"
      ]
     },
     "metadata": {
      "needs_background": "light"
     },
     "output_type": "display_data"
    },
    {
     "data": {
      "image/png": "[encoded data removed]",
      "text/plain": [
       "<Figure size 936x288 with 1 Axes>"
      ]
     },
     "metadata": {
      "needs_background": "light"
     },
     "output_type": "display_data"
    },
    {
     "data": {
      "image/png": "[encoded data removed]",
      "text/plain": [
       "<Figure size 936x288 with 1 Axes>"
      ]
     },
     "metadata": {
      "needs_background": "light"
     },
     "output_type": "display_data"
    },
    {
     "data": {
      "image/png": "[encoded data removed]",
      "text/plain": [
       "<Figure size 936x288 with 1 Axes>"
      ]
     },
     "metadata": {
      "needs_background": "light"
     },
     "output_type": "display_data"
    }
   ],
   "source": [
    "for platform in ['ps2', 'x360', 'ps3', 'wii', 'ds', 'ps', 'ps4', 'gba']:\n",
    "    df_new[df_new['platform'] == platform].pivot_table(index='year_of_release', values='total_sales', aggfunc='sum').plot(\n",
    "        kind='bar', figsize=(13,4))\n",
    "    plt.title(platform)\n",
    "    plt.xlabel(\"Год\")\n",
    "    plt.ylabel(\"Количество продаж\");"
   ]
  },
  {
   "cell_type": "markdown",
   "metadata": {},
   "source": [
    "Исходя из полученных гистограмм распределения получаем, что характерный срок появления и исчезновения платформ равен приблизительно 10 годам. В среднем пик продаж приходится на 4-5 год после появления приставки.\n",
    "Так же стоит выделить что 6 самых продаваемых платформ уже к 2015 году уже не востребованные.\n",
    "\n",
    "Платформа ps4 вышла на рынок только в 2013 году, с ней же в этот момент выпустили консоль xone. Рассмотрим распределение продаж по годам."
   ]
  },
  {
   "cell_type": "markdown",
   "metadata": {},
   "source": [
    "Найдем объем продаж для каждой платформы по годам и среднюю продолжительность жизни игровой платформы."
   ]
  },
  {
   "cell_type": "code",
   "execution_count": 37,
   "metadata": {
    "scrolled": true
   },
   "outputs": [],
   "source": [
    "time_life = df_new.pivot_table(index='year_of_release', columns='platform', values='total_sales', aggfunc='sum')\n",
    "#time_life"
   ]
  },
  {
   "cell_type": "code",
   "execution_count": 40,
   "metadata": {},
   "outputs": [],
   "source": [
    "time_life.fillna(0, inplace=True)\n",
    "#time_life"
   ]
  },
  {
   "cell_type": "markdown",
   "metadata": {},
   "source": [
    "Cоберем список из количества лет жизни каждой платформы построим график размаха средней продолжительности жизни платформы"
   ]
  },
  {
   "cell_type": "code",
   "execution_count": 41,
   "metadata": {},
   "outputs": [],
   "source": [
    "len_year=[]\n",
    "for platform in time_life.columns:\n",
    "    len_year.append(time_life[platform].ne(0).value_counts().loc[time_life[platform].ne(0).value_counts().index == True].values[0])"
   ]
  },
  {
   "cell_type": "code",
   "execution_count": 42,
   "metadata": {},
   "outputs": [
    {
     "data": {
      "image/png": "[encoded data removed]",
      "text/plain": [
       "<Figure size 432x432 with 1 Axes>"
      ]
     },
     "metadata": {
      "needs_background": "light"
     },
     "output_type": "display_data"
    }
   ],
   "source": [
    "plt.figure(figsize=(6,6))\n",
    "sns.boxplot(data=len_year)\n",
    "plt.title('Ящик с усами', fontsize=15)\n",
    "plt.ylabel('Количество лет',fontsize=12);"
   ]
  },
  {
   "cell_type": "markdown",
   "metadata": {},
   "source": [
    "Из графика видим, что средняя продолжительность жизни 8 лет"
   ]
  },
  {
   "cell_type": "code",
   "execution_count": 43,
   "metadata": {},
   "outputs": [
    {
     "data": {
      "image/png": "[encoded data removed]",
      "text/plain": [
       "<Figure size 936x288 with 1 Axes>"
      ]
     },
     "metadata": {
      "needs_background": "light"
     },
     "output_type": "display_data"
    },
    {
     "data": {
      "image/png": "[encoded data removed]",
      "text/plain": [
       "<Figure size 936x288 with 1 Axes>"
      ]
     },
     "metadata": {
      "needs_background": "light"
     },
     "output_type": "display_data"
    }
   ],
   "source": [
    "for platform in ['ps4', 'xone']:\n",
    "    df_new[df_new['platform'] == platform].pivot_table(index='year_of_release', values='total_sales', aggfunc='sum').plot(\n",
    "        kind='bar', figsize=(13,4))\n",
    "    plt.title(platform)\n",
    "    plt.xlabel(\"Год\")\n",
    "    plt.ylabel(\"Количество продаж\");"
   ]
  },
  {
   "cell_type": "markdown",
   "metadata": {},
   "source": [
    "### Определение актуального периода\n",
    "(эти данные помогут построить прогноз на 2017 год.)"
   ]
  },
  {
   "cell_type": "markdown",
   "metadata": {},
   "source": [
    "Рост продаж большинства платформ наблюдается с 2005 года, затем пик приходится в срднем на 2008 - 2010 года затем начинается спад. Большей части самых продаваемых ранее платформ в 2016 году практически уже нет. Стоит так же уточнить, что данные за 2016 год являются не полными. Возьмем за актуальный период года больше 2009 года, так как до 2008 года наблюдается рост, пик 2008 и 2009 годов, а также сокращение рынка последних годов. Также большей части платформ уже нет в 2016 году, в построении прогноза на 2017 год они нам не помогут. При уменьшении периода в рассмотрение попадут только последние поколения платформ, а также будем рассматривать только конечный на данный момент интервал развития игровой индустрии."
   ]
  },
  {
   "cell_type": "code",
   "execution_count": 46,
   "metadata": {},
   "outputs": [],
   "source": [
    "period_data = df_new[df_new['year_of_release'] > 2009]"
   ]
  },
  {
   "cell_type": "markdown",
   "metadata": {},
   "source": [
    "### Платформы лидирующие по продажам и потенциально прибыльные платформы"
   ]
  },
  {
   "cell_type": "code",
   "execution_count": 47,
   "metadata": {},
   "outputs": [
    {
     "data": {
      "text/html": [
       "<div>\n",
       "<style scoped>\n",
       "    .dataframe tbody tr th:only-of-type {\n",
       "        vertical-align: middle;\n",
       "    }\n",
       "\n",
       "    .dataframe tbody tr th {\n",
       "        vertical-align: top;\n",
       "    }\n",
       "\n",
       "    .dataframe thead th {\n",
       "        text-align: right;\n",
       "    }\n",
       "</style>\n",
       "<table border=\"1\" class=\"dataframe\">\n",
       "  <thead>\n",
       "    <tr style=\"text-align: right;\">\n",
       "      <th></th>\n",
       "      <th>total_sales</th>\n",
       "    </tr>\n",
       "    <tr>\n",
       "      <th>platform</th>\n",
       "      <th></th>\n",
       "    </tr>\n",
       "  </thead>\n",
       "  <tbody>\n",
       "    <tr>\n",
       "      <td>ps3</td>\n",
       "      <td>590.65</td>\n",
       "    </tr>\n",
       "    <tr>\n",
       "      <td>x360</td>\n",
       "      <td>553.30</td>\n",
       "    </tr>\n",
       "    <tr>\n",
       "      <td>ps4</td>\n",
       "      <td>314.14</td>\n",
       "    </tr>\n",
       "    <tr>\n",
       "      <td>3ds</td>\n",
       "      <td>258.53</td>\n",
       "    </tr>\n",
       "    <tr>\n",
       "      <td>wii</td>\n",
       "      <td>225.06</td>\n",
       "    </tr>\n",
       "    <tr>\n",
       "      <td>xone</td>\n",
       "      <td>159.32</td>\n",
       "    </tr>\n",
       "    <tr>\n",
       "      <td>ds</td>\n",
       "      <td>124.89</td>\n",
       "    </tr>\n",
       "    <tr>\n",
       "      <td>pc</td>\n",
       "      <td>124.82</td>\n",
       "    </tr>\n",
       "    <tr>\n",
       "      <td>wiiu</td>\n",
       "      <td>82.19</td>\n",
       "    </tr>\n",
       "    <tr>\n",
       "      <td>psp</td>\n",
       "      <td>64.55</td>\n",
       "    </tr>\n",
       "  </tbody>\n",
       "</table>\n",
       "</div>"
      ],
      "text/plain": [
       "          total_sales\n",
       "platform             \n",
       "ps3            590.65\n",
       "x360           553.30\n",
       "ps4            314.14\n",
       "3ds            258.53\n",
       "wii            225.06\n",
       "xone           159.32\n",
       "ds             124.89\n",
       "pc             124.82\n",
       "wiiu            82.19\n",
       "psp             64.55"
      ]
     },
     "execution_count": 47,
     "metadata": {},
     "output_type": "execute_result"
    }
   ],
   "source": [
    "platform_period_data = period_data.pivot_table(index='platform', values='total_sales', aggfunc='sum').sort_values(by='total_sales', ascending=False)\n",
    "top10_platform = platform_period_data.head(10)\n",
    "top10_platform"
   ]
  },
  {
   "cell_type": "code",
   "execution_count": 48,
   "metadata": {},
   "outputs": [
    {
     "data": {
      "text/plain": [
       "array(['ps3', 'x360', 'ps4', '3ds', 'wii', 'xone', 'ds', 'pc', 'wiiu',\n",
       "       'psp'], dtype=object)"
      ]
     },
     "execution_count": 48,
     "metadata": {},
     "output_type": "execute_result"
    }
   ],
   "source": [
    "top10_platform = top10_platform.reset_index()\n",
    "top10_platforms_list = top10_platform['platform'].unique()\n",
    "top10_platforms_list"
   ]
  },
  {
   "cell_type": "code",
   "execution_count": 49,
   "metadata": {},
   "outputs": [
    {
     "data": {
      "image/png": "[encoded data removed]",
      "text/plain": [
       "<Figure size 936x288 with 1 Axes>"
      ]
     },
     "metadata": {
      "needs_background": "light"
     },
     "output_type": "display_data"
    },
    {
     "data": {
      "image/png": "[encoded data removed]",
      "text/plain": [
       "<Figure size 936x288 with 1 Axes>"
      ]
     },
     "metadata": {
      "needs_background": "light"
     },
     "output_type": "display_data"
    },
    {
     "data": {
      "image/png": "[encoded data removed]",
      "text/plain": [
       "<Figure size 936x288 with 1 Axes>"
      ]
     },
     "metadata": {
      "needs_background": "light"
     },
     "output_type": "display_data"
    },
    {
     "data": {
      "image/png": "[encoded data removed]",
      "text/plain": [
       "<Figure size 936x288 with 1 Axes>"
      ]
     },
     "metadata": {
      "needs_background": "light"
     },
     "output_type": "display_data"
    },
    {
     "data": {
      "image/png": "[encoded data removed]",
      "text/plain": [
       "<Figure size 936x288 with 1 Axes>"
      ]
     },
     "metadata": {
      "needs_background": "light"
     },
     "output_type": "display_data"
    },
    {
     "data": {
      "image/png": "[encoded data removed]",
      "text/plain": [
       "<Figure size 936x288 with 1 Axes>"
      ]
     },
     "metadata": {
      "needs_background": "light"
     },
     "output_type": "display_data"
    },
    {
     "data": {
      "image/png": "[encoded data removed]",
      "text/plain": [
       "<Figure size 936x288 with 1 Axes>"
      ]
     },
     "metadata": {
      "needs_background": "light"
     },
     "output_type": "display_data"
    },
    {
     "data": {
      "image/png": "[encoded data removed]",
      "text/plain": [
       "<Figure size 936x288 with 1 Axes>"
      ]
     },
     "metadata": {
      "needs_background": "light"
     },
     "output_type": "display_data"
    },
    {
     "data": {
      "image/png": "[encoded data removed]",
      "text/plain": [
       "<Figure size 936x288 with 1 Axes>"
      ]
     },
     "metadata": {
      "needs_background": "light"
     },
     "output_type": "display_data"
    },
    {
     "data": {
      "image/png": "[encoded data removed]",
      "text/plain": [
       "<Figure size 936x288 with 1 Axes>"
      ]
     },
     "metadata": {
      "needs_background": "light"
     },
     "output_type": "display_data"
    }
   ],
   "source": [
    "for platform in ['ps3', 'x360', 'ps4', '3ds', 'wii', 'xone', 'ds', 'pc', 'wiiu', 'psp']:\n",
    "    period_data[period_data['platform'] == platform].pivot_table(index='year_of_release', values='total_sales', aggfunc='sum').plot(\n",
    "        kind='bar', figsize=(13,4))\n",
    "    plt.title(platform)\n",
    "    plt.xlabel(\"Год\")\n",
    "    plt.ylabel(\"Количество продаж\");"
   ]
  },
  {
   "cell_type": "markdown",
   "metadata": {},
   "source": [
    "С 2009 года по продажам лидируют платформы ps3, x360, ps4, 3ds, wii. Исходя из графиков распределения ps4 и  xone считаются потенциально прибыльными платформами.\n",
    "\n",
    "PS так как поменяли период с 2005 на 2009 видим, что платформы wii, ds сдали позиции."
   ]
  },
  {
   "cell_type": "markdown",
   "metadata": {},
   "source": [
    "###  График «ящик с усами» по глобальным продажам игр в разбивке по платформам"
   ]
  },
  {
   "cell_type": "markdown",
   "metadata": {},
   "source": [
    "Посмотрим выбросы в суммарных продажах"
   ]
  },
  {
   "cell_type": "code",
   "execution_count": 50,
   "metadata": {},
   "outputs": [
    {
     "data": {
      "text/html": [
       "<div>\n",
       "<style scoped>\n",
       "    .dataframe tbody tr th:only-of-type {\n",
       "        vertical-align: middle;\n",
       "    }\n",
       "\n",
       "    .dataframe tbody tr th {\n",
       "        vertical-align: top;\n",
       "    }\n",
       "\n",
       "    .dataframe thead th {\n",
       "        text-align: right;\n",
       "    }\n",
       "</style>\n",
       "<table border=\"1\" class=\"dataframe\">\n",
       "  <thead>\n",
       "    <tr style=\"text-align: right;\">\n",
       "      <th></th>\n",
       "      <th>name</th>\n",
       "      <th>platform</th>\n",
       "      <th>year_of_release</th>\n",
       "      <th>genre</th>\n",
       "      <th>na_sales</th>\n",
       "      <th>eu_sales</th>\n",
       "      <th>jp_sales</th>\n",
       "      <th>other_sales</th>\n",
       "      <th>critic_score</th>\n",
       "      <th>user_score</th>\n",
       "      <th>rating</th>\n",
       "      <th>total_sales</th>\n",
       "    </tr>\n",
       "  </thead>\n",
       "  <tbody>\n",
       "    <tr>\n",
       "      <td>16710</td>\n",
       "      <td>samurai warriors: sanada maru</td>\n",
       "      <td>ps3</td>\n",
       "      <td>2016</td>\n",
       "      <td>action</td>\n",
       "      <td>0.00</td>\n",
       "      <td>0.00</td>\n",
       "      <td>0.01</td>\n",
       "      <td>0.0</td>\n",
       "      <td>NaN</td>\n",
       "      <td>NaN</td>\n",
       "      <td>NaN</td>\n",
       "      <td>0.01</td>\n",
       "    </tr>\n",
       "    <tr>\n",
       "      <td>16217</td>\n",
       "      <td>dodonpachi saidaioujou</td>\n",
       "      <td>x360</td>\n",
       "      <td>2013</td>\n",
       "      <td>shooter</td>\n",
       "      <td>0.00</td>\n",
       "      <td>0.00</td>\n",
       "      <td>0.01</td>\n",
       "      <td>0.0</td>\n",
       "      <td>NaN</td>\n",
       "      <td>NaN</td>\n",
       "      <td>NaN</td>\n",
       "      <td>0.01</td>\n",
       "    </tr>\n",
       "    <tr>\n",
       "      <td>16214</td>\n",
       "      <td>games around the world</td>\n",
       "      <td>ds</td>\n",
       "      <td>2010</td>\n",
       "      <td>misc</td>\n",
       "      <td>0.01</td>\n",
       "      <td>0.00</td>\n",
       "      <td>0.00</td>\n",
       "      <td>0.0</td>\n",
       "      <td>NaN</td>\n",
       "      <td>NaN</td>\n",
       "      <td>e10+</td>\n",
       "      <td>0.01</td>\n",
       "    </tr>\n",
       "    <tr>\n",
       "      <td>16211</td>\n",
       "      <td>gogo's crazy bones</td>\n",
       "      <td>ds</td>\n",
       "      <td>2012</td>\n",
       "      <td>action</td>\n",
       "      <td>0.00</td>\n",
       "      <td>0.01</td>\n",
       "      <td>0.00</td>\n",
       "      <td>0.0</td>\n",
       "      <td>NaN</td>\n",
       "      <td>NaN</td>\n",
       "      <td>e</td>\n",
       "      <td>0.01</td>\n",
       "    </tr>\n",
       "    <tr>\n",
       "      <td>16206</td>\n",
       "      <td>kana: imouto</td>\n",
       "      <td>psp</td>\n",
       "      <td>2010</td>\n",
       "      <td>adventure</td>\n",
       "      <td>0.00</td>\n",
       "      <td>0.00</td>\n",
       "      <td>0.01</td>\n",
       "      <td>0.0</td>\n",
       "      <td>NaN</td>\n",
       "      <td>NaN</td>\n",
       "      <td>NaN</td>\n",
       "      <td>0.01</td>\n",
       "    </tr>\n",
       "  </tbody>\n",
       "</table>\n",
       "</div>"
      ],
      "text/plain": [
       "                                name platform  year_of_release      genre  \\\n",
       "16710  samurai warriors: sanada maru      ps3             2016     action   \n",
       "16217         dodonpachi saidaioujou     x360             2013    shooter   \n",
       "16214         games around the world       ds             2010       misc   \n",
       "16211             gogo's crazy bones       ds             2012     action   \n",
       "16206                   kana: imouto      psp             2010  adventure   \n",
       "\n",
       "       na_sales  eu_sales  jp_sales  other_sales  critic_score  user_score  \\\n",
       "16710      0.00      0.00      0.01          0.0           NaN         NaN   \n",
       "16217      0.00      0.00      0.01          0.0           NaN         NaN   \n",
       "16214      0.01      0.00      0.00          0.0           NaN         NaN   \n",
       "16211      0.00      0.01      0.00          0.0           NaN         NaN   \n",
       "16206      0.00      0.00      0.01          0.0           NaN         NaN   \n",
       "\n",
       "      rating  total_sales  \n",
       "16710    NaN         0.01  \n",
       "16217    NaN         0.01  \n",
       "16214   e10+         0.01  \n",
       "16211      e         0.01  \n",
       "16206    NaN         0.01  "
      ]
     },
     "execution_count": 50,
     "metadata": {},
     "output_type": "execute_result"
    }
   ],
   "source": [
    "top10_platform_list = ['x360', 'ps3', 'wii', 'ds', 'ps4', 'ps2', '3ds', 'psp', 'pc','xone']\n",
    "top10_platform_new = period_data[period_data['platform'].isin(top10_platform_list)].sort_values(by='total_sales', ascending=True)\n",
    "top10_platform_new.head() #выберем только платформы топ 10\n",
    "\n",
    "#top5_platform_new1 = period_data.query('platform == \"ps3\" or platform == \"x360\" or platform == \"ps4\" or platform == \"3ds\" or platform == \"wii\" or platform == \"xone\"')"
   ]
  },
  {
   "cell_type": "code",
   "execution_count": 51,
   "metadata": {},
   "outputs": [
    {
     "data": {
      "image/png": "[encoded data removed]",
      "text/plain": [
       "<Figure size 432x288 with 1 Axes>"
      ]
     },
     "metadata": {
      "needs_background": "light"
     },
     "output_type": "display_data"
    }
   ],
   "source": [
    "top10_platform_new[['total_sales']].boxplot()\n",
    "plt.ylim(0, 1.1)\n",
    "plt.ylabel('Продажи')\n",
    "plt.title('Диаграмма размаха')\n",
    "plt.show()"
   ]
  },
  {
   "cell_type": "code",
   "execution_count": 52,
   "metadata": {},
   "outputs": [],
   "source": [
    "top10_platform_new = top10_platform_new.query('total_sales <= 1')\n",
    "#top10_platform_new = top10_platform_new[top10_platform_new['total_sales']<1]"
   ]
  },
  {
   "cell_type": "code",
   "execution_count": 53,
   "metadata": {},
   "outputs": [
    {
     "data": {
      "text/plain": [
       "count    4206.000000\n",
       "mean        0.205925\n",
       "std         0.229021\n",
       "min         0.010000\n",
       "25%         0.040000\n",
       "50%         0.120000\n",
       "75%         0.280000\n",
       "max         1.000000\n",
       "Name: total_sales, dtype: float64"
      ]
     },
     "execution_count": 53,
     "metadata": {},
     "output_type": "execute_result"
    }
   ],
   "source": [
    "top10_platform_new['total_sales'].describe()"
   ]
  },
  {
   "cell_type": "markdown",
   "metadata": {},
   "source": [
    "Отрисуем ящики с усами "
   ]
  },
  {
   "cell_type": "code",
   "execution_count": 54,
   "metadata": {
    "scrolled": false
   },
   "outputs": [
    {
     "data": {
      "image/png": "[encoded data removed]",
      "text/plain": [
       "<Figure size 864x720 with 1 Axes>"
      ]
     },
     "metadata": {
      "needs_background": "light"
     },
     "output_type": "display_data"
    }
   ],
   "source": [
    "plt.figure(figsize=(12,10))\n",
    "sns.boxplot(data=top10_platform_new, x='platform', y='total_sales')\n",
    "plt.title('Ящик с усами', fontsize=15)\n",
    "plt.xlabel('Платформа', fontsize=12)\n",
    "plt.ylabel('Глобальные продажи',fontsize=12);"
   ]
  },
  {
   "cell_type": "code",
   "execution_count": 55,
   "metadata": {},
   "outputs": [],
   "source": [
    "#top10_platform_new.groupby('platform')['total_sales'].describe().sort_values(by='count', ascending=True)"
   ]
  },
  {
   "cell_type": "markdown",
   "metadata": {},
   "source": [
    "Исходя из графиков видно, что медиана у всех разная. Больше всех продаж наблюдается у ps3 и у x360, затем у xone, wii, ps4. Больше всех наблюдается продаж у игровых консолей, можем сделать вывод, что эра компьютерных игр уходит на вторй план."
   ]
  },
  {
   "cell_type": "markdown",
   "metadata": {},
   "source": [
    " ### Влияние на продажи внутри одной популярной платформы отзывов пользователей и критиков"
   ]
  },
  {
   "cell_type": "markdown",
   "metadata": {},
   "source": [
    "Рассмотрим зависимость продаж от отзывов пользователей и критиков на примере платформы ps3 - лидера по продажам в период 2005-2016 гг. \n",
    "\n",
    "Найдем коэффициент корреляции зависимости продаж от отзывов пользовательей"
   ]
  },
  {
   "cell_type": "code",
   "execution_count": 56,
   "metadata": {},
   "outputs": [
    {
     "data": {
      "text/plain": [
       "0.0628508009689048"
      ]
     },
     "execution_count": 56,
     "metadata": {},
     "output_type": "execute_result"
    }
   ],
   "source": [
    "ps3_table = period_data.query('platform == \"ps3\"')\n",
    "ps3_table['total_sales'].corr(ps3_table['user_score'])"
   ]
  },
  {
   "cell_type": "code",
   "execution_count": 58,
   "metadata": {},
   "outputs": [],
   "source": [
    "#df['critic_score'] = df['critic_score'].astype('float')\n",
    "#df['critic_score'].value_counts()"
   ]
  },
  {
   "cell_type": "markdown",
   "metadata": {},
   "source": [
    "Найдем коэффициент корреляции зависимости продаж от оценки критиков"
   ]
  },
  {
   "cell_type": "code",
   "execution_count": 59,
   "metadata": {},
   "outputs": [
    {
     "data": {
      "text/plain": [
       "0.4003894729420608"
      ]
     },
     "execution_count": 59,
     "metadata": {},
     "output_type": "execute_result"
    }
   ],
   "source": [
    "ps3_table = period_data.query('platform == \"ps3\"')\n",
    "ps3_table['total_sales'].corr(ps3_table['critic_score'])"
   ]
  },
  {
   "cell_type": "markdown",
   "metadata": {},
   "source": [
    "Построим диаграмму рассеяния"
   ]
  },
  {
   "cell_type": "code",
   "execution_count": 60,
   "metadata": {},
   "outputs": [
    {
     "data": {
      "image/png": "[encoded data removed]",
      "text/plain": [
       "<Figure size 864x432 with 1 Axes>"
      ]
     },
     "metadata": {
      "needs_background": "light"
     },
     "output_type": "display_data"
    }
   ],
   "source": [
    "plt.figure(figsize=(12,6))\n",
    "sns.scatterplot(data=ps3_table, y='total_sales', x='user_score')\n",
    "plt.title('Диаграмма рассеивания')\n",
    "plt.xlabel(\"Оценка пользователей\")\n",
    "plt.ylabel(\"Продажи\");"
   ]
  },
  {
   "cell_type": "code",
   "execution_count": 61,
   "metadata": {},
   "outputs": [
    {
     "data": {
      "image/png": "[encoded data removed]",
      "text/plain": [
       "<Figure size 864x432 with 1 Axes>"
      ]
     },
     "metadata": {
      "needs_background": "light"
     },
     "output_type": "display_data"
    }
   ],
   "source": [
    "plt.figure(figsize=(12,6))\n",
    "sns.scatterplot(data=ps3_table, y='total_sales', x='critic_score')\n",
    "plt.title('Диаграмма рассеивания')\n",
    "plt.xlabel(\"Оценка критика\")\n",
    "plt.ylabel(\"Продажи\");"
   ]
  },
  {
   "cell_type": "markdown",
   "metadata": {},
   "source": [
    "Опираясь на полученные коэффициенты корреляции можно сделать вывод, что отзовы пользователей слабо влияют на продажи (corr = 0,13), а вот оценка критиков несет в себесреднее влияние (corr = 0,43)."
   ]
  },
  {
   "cell_type": "markdown",
   "metadata": {},
   "source": [
    "Соотнесем выводы с продажами игр на других платформах."
   ]
  },
  {
   "cell_type": "code",
   "execution_count": 62,
   "metadata": {},
   "outputs": [],
   "source": [
    "def corr_and_plot(platform_name):\n",
    "    platform = period_data[period_data['platform'] == platform_name]\n",
    "    user_corr = platform['total_sales'].corr(platform['user_score'])\n",
    "    critic_corr = platform['total_sales'].corr(platform['critic_score'])\n",
    "    print('коэффициент корреляции зависимости продаж от отзывов пользовательей:',user_corr)\n",
    "    print('коэффициент корреляции зависимости продаж от оценки критиков:',critic_corr)\n",
    "    \n",
    "    fig, ax = plt.subplots(1 ,2, figsize=(15,5))\n",
    "    #fig.suptitle(platform_name, fontsize=15)\n",
    "    sns.scatterplot(x='user_score', y='total_sales', data=platform, ax=ax[0])\n",
    "    sns.scatterplot(x='critic_score', y='total_sales', data=platform, ax=ax[1])\n",
    "    ax[0].set(xlabel='Оценка пользователей')\n",
    "    ax[1].set(xlabel='Оценка критиков')\n",
    "    ax[0].set(ylabel='Количество продаж')\n",
    "    ax[1].set(ylabel='Количество продаж')\n",
    "    plt.title(platform_name)\n",
    "    plt.show()\n"
   ]
  },
  {
   "cell_type": "code",
   "execution_count": 63,
   "metadata": {},
   "outputs": [
    {
     "name": "stdout",
     "output_type": "stream",
     "text": [
      "коэффициент корреляции зависимости продаж от отзывов пользовательей: 0.06421315072612502\n",
      "коэффициент корреляции зависимости продаж от оценки критиков: 0.3384722608434017\n"
     ]
    },
    {
     "data": {
      "image/png": "[encoded data removed]",
      "text/plain": [
       "<Figure size 1080x360 with 2 Axes>"
      ]
     },
     "metadata": {
      "needs_background": "light"
     },
     "output_type": "display_data"
    },
    {
     "name": "stdout",
     "output_type": "stream",
     "text": [
      "коэффициент корреляции зависимости продаж от отзывов пользовательей: 0.0628508009689048\n",
      "коэффициент корреляции зависимости продаж от оценки критиков: 0.4003894729420608\n"
     ]
    },
    {
     "data": {
      "image/png": "[encoded data removed]",
      "text/plain": [
       "<Figure size 1080x360 with 2 Axes>"
      ]
     },
     "metadata": {
      "needs_background": "light"
     },
     "output_type": "display_data"
    },
    {
     "name": "stdout",
     "output_type": "stream",
     "text": [
      "коэффициент корреляции зависимости продаж от отзывов пользовательей: 0.15040071527319085\n",
      "коэффициент корреляции зависимости продаж от оценки критиков: 0.3112834060821102\n"
     ]
    },
    {
     "data": {
      "image/png": "[encoded data removed]",
      "text/plain": [
       "<Figure size 1080x360 with 2 Axes>"
      ]
     },
     "metadata": {
      "needs_background": "light"
     },
     "output_type": "display_data"
    },
    {
     "name": "stdout",
     "output_type": "stream",
     "text": [
      "коэффициент корреляции зависимости продаж от отзывов пользовательей: 0.25142811742297444\n",
      "коэффициент корреляции зависимости продаж от оценки критиков: 0.2769482874574771\n"
     ]
    },
    {
     "data": {
      "image/png": "[encoded data removed]",
      "text/plain": [
       "<Figure size 1080x360 with 2 Axes>"
      ]
     },
     "metadata": {
      "needs_background": "light"
     },
     "output_type": "display_data"
    },
    {
     "name": "stdout",
     "output_type": "stream",
     "text": [
      "коэффициент корреляции зависимости продаж от отзывов пользовательей: -0.031957110204556424\n",
      "коэффициент корреляции зависимости продаж от оценки критиков: 0.406567902061781\n"
     ]
    },
    {
     "data": {
      "image/png": "[encoded data removed]",
      "text/plain": [
       "<Figure size 1080x360 with 2 Axes>"
      ]
     },
     "metadata": {
      "needs_background": "light"
     },
     "output_type": "display_data"
    },
    {
     "name": "stderr",
     "output_type": "stream",
     "text": [
      "/opt/conda/lib/python3.7/site-packages/numpy/lib/function_base.py:2551: RuntimeWarning: Degrees of freedom <= 0 for slice\n",
      "  c = cov(x, y, rowvar)\n",
      "/opt/conda/lib/python3.7/site-packages/numpy/lib/function_base.py:2480: RuntimeWarning: divide by zero encountered in true_divide\n",
      "  c *= np.true_divide(1, fact)\n"
     ]
    },
    {
     "name": "stdout",
     "output_type": "stream",
     "text": [
      "коэффициент корреляции зависимости продаж от отзывов пользовательей: 0.07472375514301433\n",
      "коэффициент корреляции зависимости продаж от оценки критиков: nan\n"
     ]
    },
    {
     "data": {
      "image/png": "[encoded data removed]",
      "text/plain": [
       "<Figure size 1080x360 with 2 Axes>"
      ]
     },
     "metadata": {
      "needs_background": "light"
     },
     "output_type": "display_data"
    },
    {
     "name": "stdout",
     "output_type": "stream",
     "text": [
      "коэффициент корреляции зависимости продаж от отзывов пользовательей: 0.22230511788401197\n",
      "коэффициент корреляции зависимости продаж от оценки критиков: 0.34821555174929825\n"
     ]
    },
    {
     "data": {
      "image/png": "[encoded data removed]",
      "text/plain": [
       "<Figure size 1080x360 with 2 Axes>"
      ]
     },
     "metadata": {
      "needs_background": "light"
     },
     "output_type": "display_data"
    },
    {
     "name": "stdout",
     "output_type": "stream",
     "text": [
      "коэффициент корреляции зависимости продаж от отзывов пользовательей: 0.19063632529960092\n",
      "коэффициент корреляции зависимости продаж от оценки критиков: 0.40322494461167796\n"
     ]
    },
    {
     "data": {
      "image/png": "[encoded data removed]",
      "text/plain": [
       "<Figure size 1080x360 with 2 Axes>"
      ]
     },
     "metadata": {
      "needs_background": "light"
     },
     "output_type": "display_data"
    },
    {
     "name": "stdout",
     "output_type": "stream",
     "text": [
      "коэффициент корреляции зависимости продаж от отзывов пользовательей: -0.01636530103008556\n",
      "коэффициент корреляции зависимости продаж от оценки критиков: 0.3372698409157572\n"
     ]
    },
    {
     "data": {
      "image/png": "[encoded data removed]",
      "text/plain": [
       "<Figure size 1080x360 with 2 Axes>"
      ]
     },
     "metadata": {
      "needs_background": "light"
     },
     "output_type": "display_data"
    },
    {
     "name": "stdout",
     "output_type": "stream",
     "text": [
      "коэффициент корреляции зависимости продаж от отзывов пользовательей: -0.06892505328279412\n",
      "коэффициент корреляции зависимости продаж от оценки критиков: 0.41699832800840175\n"
     ]
    },
    {
     "data": {
      "image/png": "[encoded data removed]",
      "text/plain": [
       "<Figure size 1080x360 with 2 Axes>"
      ]
     },
     "metadata": {
      "needs_background": "light"
     },
     "output_type": "display_data"
    }
   ],
   "source": [
    "for platform_name in top10_platform_list:\n",
    "    corr_and_plot(platform_name)"
   ]
  },
  {
   "cell_type": "markdown",
   "metadata": {},
   "source": [
    "Практически для всех платформ характерно среднее влияние отзывов критиков на продажи и отсутствие влияния отзывов пользователей кроме платформы wii, там практически отсутствует влияние отзывов пользователй и критиков на продажи."
   ]
  },
  {
   "cell_type": "markdown",
   "metadata": {},
   "source": [
    "### Общее распределение игр по жанрам"
   ]
  },
  {
   "cell_type": "code",
   "execution_count": 64,
   "metadata": {},
   "outputs": [],
   "source": [
    "genre_table = top10_platform_new.pivot_table(index='genre', values='total_sales', aggfunc='sum')\n",
    "genre_table = genre_table.sort_values('total_sales', ascending=False)"
   ]
  },
  {
   "cell_type": "code",
   "execution_count": 65,
   "metadata": {},
   "outputs": [
    {
     "data": {
      "image/png": "[encoded data removed]",
      "text/plain": [
       "<Figure size 936x432 with 1 Axes>"
      ]
     },
     "metadata": {
      "needs_background": "light"
     },
     "output_type": "display_data"
    }
   ],
   "source": [
    "plt.figure(figsize=(13,6))\n",
    "sns.barplot(x=genre_table.index, y=genre_table['total_sales'])\n",
    "plt.title(\"Продажи по платформам за весь период\")\n",
    "plt.xlabel(\"Жанр\")\n",
    "plt.ylabel(\"Количество продаж\");"
   ]
  },
  {
   "cell_type": "markdown",
   "metadata": {},
   "source": [
    "Лучше всего продаются жанры action, хуже всего - puzzle. Однако не стоит забывать, что производство игр в жанрах Action или Shooter обходится сильно дороже, чем производство Puzzle-игр."
   ]
  },
  {
   "cell_type": "markdown",
   "metadata": {},
   "source": [
    "**Вывод**\n",
    "\n",
    "- В ходе анализа данных мы вяснили, что с 1990 годов начинает расти количество игр и продолжается это до 2008 года, затем идет спад, скорее всегона это связано с появлением пмобильных приложений.\n",
    "- Самвые популярные игровые платформы за весь период: ps2, x360, ps3, wii, ds, ps.\n",
    "- Средняя продолжительность \"жизни\" игровой платформы составляет 10 лет, где пик продаж приходится приблизительно на 5 год.\n",
    "- С 2005 года по продажам лидируют платформы x360, ps3. Исходя из графиков распределения ps4 и xone считаются потенциально прибыльными платформами.\n",
    "- Практически у всех платформ наблюдается небольщая зависимость продаж от оценки критиков. Это значит для людей мнение критиков важнее мнения других пользователей."
   ]
  },
  {
   "cell_type": "markdown",
   "metadata": {},
   "source": [
    "## Шаг 4. Портрет пользователя каждого региона"
   ]
  },
  {
   "cell_type": "markdown",
   "metadata": {},
   "source": [
    "### Северная Америка"
   ]
  },
  {
   "cell_type": "code",
   "execution_count": 66,
   "metadata": {},
   "outputs": [
    {
     "data": {
      "text/html": [
       "<div>\n",
       "<style scoped>\n",
       "    .dataframe tbody tr th:only-of-type {\n",
       "        vertical-align: middle;\n",
       "    }\n",
       "\n",
       "    .dataframe tbody tr th {\n",
       "        vertical-align: top;\n",
       "    }\n",
       "\n",
       "    .dataframe thead th {\n",
       "        text-align: right;\n",
       "    }\n",
       "</style>\n",
       "<table border=\"1\" class=\"dataframe\">\n",
       "  <thead>\n",
       "    <tr style=\"text-align: right;\">\n",
       "      <th></th>\n",
       "      <th>na_sales</th>\n",
       "    </tr>\n",
       "    <tr>\n",
       "      <th>platform</th>\n",
       "      <th></th>\n",
       "    </tr>\n",
       "  </thead>\n",
       "  <tbody>\n",
       "    <tr>\n",
       "      <td>x360</td>\n",
       "      <td>602.47</td>\n",
       "    </tr>\n",
       "    <tr>\n",
       "      <td>ps2</td>\n",
       "      <td>583.84</td>\n",
       "    </tr>\n",
       "    <tr>\n",
       "      <td>wii</td>\n",
       "      <td>496.90</td>\n",
       "    </tr>\n",
       "    <tr>\n",
       "      <td>ps3</td>\n",
       "      <td>393.49</td>\n",
       "    </tr>\n",
       "    <tr>\n",
       "      <td>ds</td>\n",
       "      <td>382.40</td>\n",
       "    </tr>\n",
       "  </tbody>\n",
       "</table>\n",
       "</div>"
      ],
      "text/plain": [
       "          na_sales\n",
       "platform          \n",
       "x360        602.47\n",
       "ps2         583.84\n",
       "wii         496.90\n",
       "ps3         393.49\n",
       "ds          382.40"
      ]
     },
     "metadata": {},
     "output_type": "display_data"
    },
    {
     "data": {
      "image/png": "[encoded data removed]",
      "text/plain": [
       "<Figure size 288x288 with 1 Axes>"
      ]
     },
     "metadata": {
      "needs_background": "light"
     },
     "output_type": "display_data"
    },
    {
     "data": {
      "text/html": [
       "<div>\n",
       "<style scoped>\n",
       "    .dataframe tbody tr th:only-of-type {\n",
       "        vertical-align: middle;\n",
       "    }\n",
       "\n",
       "    .dataframe tbody tr th {\n",
       "        vertical-align: top;\n",
       "    }\n",
       "\n",
       "    .dataframe thead th {\n",
       "        text-align: right;\n",
       "    }\n",
       "</style>\n",
       "<table border=\"1\" class=\"dataframe\">\n",
       "  <thead>\n",
       "    <tr style=\"text-align: right;\">\n",
       "      <th></th>\n",
       "      <th>na_sales</th>\n",
       "    </tr>\n",
       "    <tr>\n",
       "      <th>genre</th>\n",
       "      <th></th>\n",
       "    </tr>\n",
       "  </thead>\n",
       "  <tbody>\n",
       "    <tr>\n",
       "      <td>action</td>\n",
       "      <td>879.01</td>\n",
       "    </tr>\n",
       "    <tr>\n",
       "      <td>sports</td>\n",
       "      <td>684.43</td>\n",
       "    </tr>\n",
       "    <tr>\n",
       "      <td>shooter</td>\n",
       "      <td>592.24</td>\n",
       "    </tr>\n",
       "    <tr>\n",
       "      <td>platform</td>\n",
       "      <td>445.50</td>\n",
       "    </tr>\n",
       "    <tr>\n",
       "      <td>misc</td>\n",
       "      <td>407.27</td>\n",
       "    </tr>\n",
       "  </tbody>\n",
       "</table>\n",
       "</div>"
      ],
      "text/plain": [
       "          na_sales\n",
       "genre             \n",
       "action      879.01\n",
       "sports      684.43\n",
       "shooter     592.24\n",
       "platform    445.50\n",
       "misc        407.27"
      ]
     },
     "metadata": {},
     "output_type": "display_data"
    },
    {
     "data": {
      "image/png": "[encoded data removed]",
      "text/plain": [
       "<Figure size 288x288 with 1 Axes>"
      ]
     },
     "metadata": {
      "needs_background": "light"
     },
     "output_type": "display_data"
    },
    {
     "data": {
      "text/html": [
       "<div>\n",
       "<style scoped>\n",
       "    .dataframe tbody tr th:only-of-type {\n",
       "        vertical-align: middle;\n",
       "    }\n",
       "\n",
       "    .dataframe tbody tr th {\n",
       "        vertical-align: top;\n",
       "    }\n",
       "\n",
       "    .dataframe thead th {\n",
       "        text-align: right;\n",
       "    }\n",
       "</style>\n",
       "<table border=\"1\" class=\"dataframe\">\n",
       "  <thead>\n",
       "    <tr style=\"text-align: right;\">\n",
       "      <th></th>\n",
       "      <th>na_sales</th>\n",
       "    </tr>\n",
       "    <tr>\n",
       "      <th>rating</th>\n",
       "      <th></th>\n",
       "    </tr>\n",
       "  </thead>\n",
       "  <tbody>\n",
       "    <tr>\n",
       "      <td>e</td>\n",
       "      <td>1292.99</td>\n",
       "    </tr>\n",
       "    <tr>\n",
       "      <td>t</td>\n",
       "      <td>759.75</td>\n",
       "    </tr>\n",
       "    <tr>\n",
       "      <td>m</td>\n",
       "      <td>748.48</td>\n",
       "    </tr>\n",
       "    <tr>\n",
       "      <td>e10+</td>\n",
       "      <td>353.32</td>\n",
       "    </tr>\n",
       "    <tr>\n",
       "      <td>k-a</td>\n",
       "      <td>2.56</td>\n",
       "    </tr>\n",
       "  </tbody>\n",
       "</table>\n",
       "</div>"
      ],
      "text/plain": [
       "        na_sales\n",
       "rating          \n",
       "e        1292.99\n",
       "t         759.75\n",
       "m         748.48\n",
       "e10+      353.32\n",
       "k-a         2.56"
      ]
     },
     "metadata": {},
     "output_type": "display_data"
    },
    {
     "data": {
      "image/png": "[encoded data removed]",
      "text/plain": [
       "<Figure size 288x288 with 1 Axes>"
      ]
     },
     "metadata": {
      "needs_background": "light"
     },
     "output_type": "display_data"
    }
   ],
   "source": [
    "def na(info):\n",
    "    pivot_table = df.pivot_table(index = info, values = 'na_sales', aggfunc = 'sum').sort_values('na_sales', ascending=False)\n",
    "    top_5 = pivot_table.head(5)\n",
    "    display(top_5.head(5))\n",
    "    \n",
    "    \n",
    "    plt.figure(figsize=(4,4))\n",
    "    sns.barplot(data=top_5.head(5), x=top_5.index, y=top_5['na_sales'])\n",
    "    plt.show()\n",
    "    \n",
    "for info in ['platform', 'genre', 'rating']:\n",
    "    na(info)"
   ]
  },
  {
   "cell_type": "code",
   "execution_count": 67,
   "metadata": {},
   "outputs": [
    {
     "data": {
      "text/html": [
       "<div>\n",
       "<style scoped>\n",
       "    .dataframe tbody tr th:only-of-type {\n",
       "        vertical-align: middle;\n",
       "    }\n",
       "\n",
       "    .dataframe tbody tr th {\n",
       "        vertical-align: top;\n",
       "    }\n",
       "\n",
       "    .dataframe thead th {\n",
       "        text-align: right;\n",
       "    }\n",
       "</style>\n",
       "<table border=\"1\" class=\"dataframe\">\n",
       "  <thead>\n",
       "    <tr style=\"text-align: right;\">\n",
       "      <th></th>\n",
       "      <th>na_sales</th>\n",
       "    </tr>\n",
       "    <tr>\n",
       "      <th>platform</th>\n",
       "      <th></th>\n",
       "    </tr>\n",
       "  </thead>\n",
       "  <tbody>\n",
       "    <tr>\n",
       "      <td>x360</td>\n",
       "      <td>335.93</td>\n",
       "    </tr>\n",
       "    <tr>\n",
       "      <td>ps3</td>\n",
       "      <td>230.47</td>\n",
       "    </tr>\n",
       "    <tr>\n",
       "      <td>wii</td>\n",
       "      <td>122.68</td>\n",
       "    </tr>\n",
       "    <tr>\n",
       "      <td>ps4</td>\n",
       "      <td>108.74</td>\n",
       "    </tr>\n",
       "    <tr>\n",
       "      <td>xone</td>\n",
       "      <td>93.12</td>\n",
       "    </tr>\n",
       "  </tbody>\n",
       "</table>\n",
       "</div>"
      ],
      "text/plain": [
       "          na_sales\n",
       "platform          \n",
       "x360        335.93\n",
       "ps3         230.47\n",
       "wii         122.68\n",
       "ps4         108.74\n",
       "xone         93.12"
      ]
     },
     "metadata": {},
     "output_type": "display_data"
    },
    {
     "data": {
      "image/png": "[encoded data removed]",
      "text/plain": [
       "<Figure size 288x288 with 1 Axes>"
      ]
     },
     "metadata": {
      "needs_background": "light"
     },
     "output_type": "display_data"
    },
    {
     "data": {
      "text/html": [
       "<div>\n",
       "<style scoped>\n",
       "    .dataframe tbody tr th:only-of-type {\n",
       "        vertical-align: middle;\n",
       "    }\n",
       "\n",
       "    .dataframe tbody tr th {\n",
       "        vertical-align: top;\n",
       "    }\n",
       "\n",
       "    .dataframe thead th {\n",
       "        text-align: right;\n",
       "    }\n",
       "</style>\n",
       "<table border=\"1\" class=\"dataframe\">\n",
       "  <thead>\n",
       "    <tr style=\"text-align: right;\">\n",
       "      <th></th>\n",
       "      <th>na_sales</th>\n",
       "    </tr>\n",
       "    <tr>\n",
       "      <th>genre</th>\n",
       "      <th></th>\n",
       "    </tr>\n",
       "  </thead>\n",
       "  <tbody>\n",
       "    <tr>\n",
       "      <td>action</td>\n",
       "      <td>294.26</td>\n",
       "    </tr>\n",
       "    <tr>\n",
       "      <td>shooter</td>\n",
       "      <td>238.50</td>\n",
       "    </tr>\n",
       "    <tr>\n",
       "      <td>sports</td>\n",
       "      <td>157.49</td>\n",
       "    </tr>\n",
       "    <tr>\n",
       "      <td>misc</td>\n",
       "      <td>124.39</td>\n",
       "    </tr>\n",
       "    <tr>\n",
       "      <td>role-playing</td>\n",
       "      <td>112.05</td>\n",
       "    </tr>\n",
       "  </tbody>\n",
       "</table>\n",
       "</div>"
      ],
      "text/plain": [
       "              na_sales\n",
       "genre                 \n",
       "action          294.26\n",
       "shooter         238.50\n",
       "sports          157.49\n",
       "misc            124.39\n",
       "role-playing    112.05"
      ]
     },
     "metadata": {},
     "output_type": "display_data"
    },
    {
     "data": {
      "image/png": "[encoded data removed]",
      "text/plain": [
       "<Figure size 288x288 with 1 Axes>"
      ]
     },
     "metadata": {
      "needs_background": "light"
     },
     "output_type": "display_data"
    },
    {
     "data": {
      "text/html": [
       "<div>\n",
       "<style scoped>\n",
       "    .dataframe tbody tr th:only-of-type {\n",
       "        vertical-align: middle;\n",
       "    }\n",
       "\n",
       "    .dataframe tbody tr th {\n",
       "        vertical-align: top;\n",
       "    }\n",
       "\n",
       "    .dataframe thead th {\n",
       "        text-align: right;\n",
       "    }\n",
       "</style>\n",
       "<table border=\"1\" class=\"dataframe\">\n",
       "  <thead>\n",
       "    <tr style=\"text-align: right;\">\n",
       "      <th></th>\n",
       "      <th>na_sales</th>\n",
       "    </tr>\n",
       "    <tr>\n",
       "      <th>rating</th>\n",
       "      <th></th>\n",
       "    </tr>\n",
       "  </thead>\n",
       "  <tbody>\n",
       "    <tr>\n",
       "      <td>m</td>\n",
       "      <td>384.23</td>\n",
       "    </tr>\n",
       "    <tr>\n",
       "      <td>e</td>\n",
       "      <td>272.93</td>\n",
       "    </tr>\n",
       "    <tr>\n",
       "      <td>e10+</td>\n",
       "      <td>161.61</td>\n",
       "    </tr>\n",
       "    <tr>\n",
       "      <td>t</td>\n",
       "      <td>161.21</td>\n",
       "    </tr>\n",
       "    <tr>\n",
       "      <td>ec</td>\n",
       "      <td>1.13</td>\n",
       "    </tr>\n",
       "  </tbody>\n",
       "</table>\n",
       "</div>"
      ],
      "text/plain": [
       "        na_sales\n",
       "rating          \n",
       "m         384.23\n",
       "e         272.93\n",
       "e10+      161.61\n",
       "t         161.21\n",
       "ec          1.13"
      ]
     },
     "metadata": {},
     "output_type": "display_data"
    },
    {
     "data": {
      "image/png": "[encoded data removed]",
      "text/plain": [
       "<Figure size 288x288 with 1 Axes>"
      ]
     },
     "metadata": {
      "needs_background": "light"
     },
     "output_type": "display_data"
    }
   ],
   "source": [
    "def na(info):\n",
    "    pivot_table = period_data.pivot_table(index = info, values = 'na_sales', aggfunc = 'sum').sort_values('na_sales', ascending=False)\n",
    "    top_5 = pivot_table.head(5)\n",
    "    display(top_5.head(5))\n",
    "    \n",
    "    \n",
    "    plt.figure(figsize=(4,4))\n",
    "    sns.barplot(data=top_5.head(5), x=top_5.index, y=top_5['na_sales'])\n",
    "    plt.show()\n",
    "    \n",
    "for info in ['platform', 'genre', 'rating']:\n",
    "    na(info)"
   ]
  },
  {
   "cell_type": "markdown",
   "metadata": {},
   "source": [
    "- Самые популярные игровые платформы за все время: x360, ps2, wii, ps3, ds\n",
    "- Самые популярные жанры за все время: action, sports, shooter, platform, msic\n",
    "- По рейтингам видно, что больше всего продаж за все время у игр с рейтингом \"для всех\", на втором месте игры с рейтингом \"подросткам\", на третьем \"для взрослых\", затем \"для всех от 10 лет и старше\" и \"для детей\"\n",
    "________________________________________________\n",
    "- Самые популярные игровые платформы за актуальный период: x360, wii, ps3, ds, ps2\n",
    "- Самые популярные жанры за актуальный период: action, sports, shooter, msic, role-playing\n",
    "- По рейтингам видно, что больше всего продаж за все время у игр с рейтингом \"для всех\", на втором месте игры с рейтингом \"для взрослых\", на третьем \"подросткам\", затем \"для всех от 10 лет и старше\" и \"для детей младшего возраста\""
   ]
  },
  {
   "cell_type": "markdown",
   "metadata": {},
   "source": [
    "Продажи игр без рейтинга в Северной Америке."
   ]
  },
  {
   "cell_type": "code",
   "execution_count": 68,
   "metadata": {},
   "outputs": [],
   "source": [
    "not_rating= period_data[period_data['rating'].isna()]\n",
    "#not_rating_na"
   ]
  },
  {
   "cell_type": "code",
   "execution_count": 69,
   "metadata": {},
   "outputs": [
    {
     "data": {
      "text/html": [
       "<div>\n",
       "<style scoped>\n",
       "    .dataframe tbody tr th:only-of-type {\n",
       "        vertical-align: middle;\n",
       "    }\n",
       "\n",
       "    .dataframe tbody tr th {\n",
       "        vertical-align: top;\n",
       "    }\n",
       "\n",
       "    .dataframe thead th {\n",
       "        text-align: right;\n",
       "    }\n",
       "</style>\n",
       "<table border=\"1\" class=\"dataframe\">\n",
       "  <thead>\n",
       "    <tr style=\"text-align: right;\">\n",
       "      <th></th>\n",
       "      <th>platform</th>\n",
       "      <th>na_sales</th>\n",
       "    </tr>\n",
       "  </thead>\n",
       "  <tbody>\n",
       "    <tr>\n",
       "      <td>0</td>\n",
       "      <td>3ds</td>\n",
       "      <td>30.35</td>\n",
       "    </tr>\n",
       "    <tr>\n",
       "      <td>1</td>\n",
       "      <td>ps4</td>\n",
       "      <td>23.77</td>\n",
       "    </tr>\n",
       "    <tr>\n",
       "      <td>2</td>\n",
       "      <td>x360</td>\n",
       "      <td>21.74</td>\n",
       "    </tr>\n",
       "    <tr>\n",
       "      <td>3</td>\n",
       "      <td>ds</td>\n",
       "      <td>20.19</td>\n",
       "    </tr>\n",
       "    <tr>\n",
       "      <td>4</td>\n",
       "      <td>ps3</td>\n",
       "      <td>20.09</td>\n",
       "    </tr>\n",
       "  </tbody>\n",
       "</table>\n",
       "</div>"
      ],
      "text/plain": [
       "  platform  na_sales\n",
       "0      3ds     30.35\n",
       "1      ps4     23.77\n",
       "2     x360     21.74\n",
       "3       ds     20.19\n",
       "4      ps3     20.09"
      ]
     },
     "execution_count": 69,
     "metadata": {},
     "output_type": "execute_result"
    }
   ],
   "source": [
    "not_rating.pivot_table(index='platform', values='na_sales', aggfunc='sum').sort_values(\n",
    "        by='na_sales', ascending=False).reset_index().rename_axis(None, axis=1).head(5)"
   ]
  },
  {
   "cell_type": "code",
   "execution_count": 70,
   "metadata": {},
   "outputs": [
    {
     "data": {
      "text/html": [
       "<div>\n",
       "<style scoped>\n",
       "    .dataframe tbody tr th:only-of-type {\n",
       "        vertical-align: middle;\n",
       "    }\n",
       "\n",
       "    .dataframe tbody tr th {\n",
       "        vertical-align: top;\n",
       "    }\n",
       "\n",
       "    .dataframe thead th {\n",
       "        text-align: right;\n",
       "    }\n",
       "</style>\n",
       "<table border=\"1\" class=\"dataframe\">\n",
       "  <thead>\n",
       "    <tr style=\"text-align: right;\">\n",
       "      <th></th>\n",
       "      <th>genre</th>\n",
       "      <th>na_sales</th>\n",
       "    </tr>\n",
       "  </thead>\n",
       "  <tbody>\n",
       "    <tr>\n",
       "      <td>0</td>\n",
       "      <td>action</td>\n",
       "      <td>36.04</td>\n",
       "    </tr>\n",
       "    <tr>\n",
       "      <td>1</td>\n",
       "      <td>role-playing</td>\n",
       "      <td>33.99</td>\n",
       "    </tr>\n",
       "    <tr>\n",
       "      <td>2</td>\n",
       "      <td>shooter</td>\n",
       "      <td>22.76</td>\n",
       "    </tr>\n",
       "    <tr>\n",
       "      <td>3</td>\n",
       "      <td>misc</td>\n",
       "      <td>19.77</td>\n",
       "    </tr>\n",
       "    <tr>\n",
       "      <td>4</td>\n",
       "      <td>fighting</td>\n",
       "      <td>8.50</td>\n",
       "    </tr>\n",
       "  </tbody>\n",
       "</table>\n",
       "</div>"
      ],
      "text/plain": [
       "          genre  na_sales\n",
       "0        action     36.04\n",
       "1  role-playing     33.99\n",
       "2       shooter     22.76\n",
       "3          misc     19.77\n",
       "4      fighting      8.50"
      ]
     },
     "execution_count": 70,
     "metadata": {},
     "output_type": "execute_result"
    }
   ],
   "source": [
    "not_rating.pivot_table(index='genre', values='na_sales', aggfunc='sum').sort_values(\n",
    "        by='na_sales', ascending=False).reset_index().rename_axis(None, axis=1).head(5)"
   ]
  },
  {
   "cell_type": "markdown",
   "metadata": {},
   "source": [
    "- Самые популярные игровые платформы по данным без рейтинга: 3ds, ps4, x360, ds, ps3\n",
    "- Самые популярные жанры по данным без рейтинга: action, role-playing, shooter, msic, fighting"
   ]
  },
  {
   "cell_type": "markdown",
   "metadata": {},
   "source": [
    "### Европа"
   ]
  },
  {
   "cell_type": "code",
   "execution_count": 71,
   "metadata": {},
   "outputs": [
    {
     "data": {
      "text/html": [
       "<div>\n",
       "<style scoped>\n",
       "    .dataframe tbody tr th:only-of-type {\n",
       "        vertical-align: middle;\n",
       "    }\n",
       "\n",
       "    .dataframe tbody tr th {\n",
       "        vertical-align: top;\n",
       "    }\n",
       "\n",
       "    .dataframe thead th {\n",
       "        text-align: right;\n",
       "    }\n",
       "</style>\n",
       "<table border=\"1\" class=\"dataframe\">\n",
       "  <thead>\n",
       "    <tr style=\"text-align: right;\">\n",
       "      <th></th>\n",
       "      <th>eu_sales</th>\n",
       "    </tr>\n",
       "    <tr>\n",
       "      <th>platform</th>\n",
       "      <th></th>\n",
       "    </tr>\n",
       "  </thead>\n",
       "  <tbody>\n",
       "    <tr>\n",
       "      <td>ps2</td>\n",
       "      <td>339.29</td>\n",
       "    </tr>\n",
       "    <tr>\n",
       "      <td>ps3</td>\n",
       "      <td>330.29</td>\n",
       "    </tr>\n",
       "    <tr>\n",
       "      <td>x360</td>\n",
       "      <td>270.76</td>\n",
       "    </tr>\n",
       "    <tr>\n",
       "      <td>wii</td>\n",
       "      <td>262.21</td>\n",
       "    </tr>\n",
       "    <tr>\n",
       "      <td>ps</td>\n",
       "      <td>213.61</td>\n",
       "    </tr>\n",
       "  </tbody>\n",
       "</table>\n",
       "</div>"
      ],
      "text/plain": [
       "          eu_sales\n",
       "platform          \n",
       "ps2         339.29\n",
       "ps3         330.29\n",
       "x360        270.76\n",
       "wii         262.21\n",
       "ps          213.61"
      ]
     },
     "metadata": {},
     "output_type": "display_data"
    },
    {
     "data": {
      "image/png": "[encoded data removed]",
      "text/plain": [
       "<Figure size 288x288 with 1 Axes>"
      ]
     },
     "metadata": {
      "needs_background": "light"
     },
     "output_type": "display_data"
    },
    {
     "data": {
      "text/html": [
       "<div>\n",
       "<style scoped>\n",
       "    .dataframe tbody tr th:only-of-type {\n",
       "        vertical-align: middle;\n",
       "    }\n",
       "\n",
       "    .dataframe tbody tr th {\n",
       "        vertical-align: top;\n",
       "    }\n",
       "\n",
       "    .dataframe thead th {\n",
       "        text-align: right;\n",
       "    }\n",
       "</style>\n",
       "<table border=\"1\" class=\"dataframe\">\n",
       "  <thead>\n",
       "    <tr style=\"text-align: right;\">\n",
       "      <th></th>\n",
       "      <th>eu_sales</th>\n",
       "    </tr>\n",
       "    <tr>\n",
       "      <th>genre</th>\n",
       "      <th></th>\n",
       "    </tr>\n",
       "  </thead>\n",
       "  <tbody>\n",
       "    <tr>\n",
       "      <td>action</td>\n",
       "      <td>519.13</td>\n",
       "    </tr>\n",
       "    <tr>\n",
       "      <td>sports</td>\n",
       "      <td>376.79</td>\n",
       "    </tr>\n",
       "    <tr>\n",
       "      <td>shooter</td>\n",
       "      <td>317.34</td>\n",
       "    </tr>\n",
       "    <tr>\n",
       "      <td>racing</td>\n",
       "      <td>236.51</td>\n",
       "    </tr>\n",
       "    <tr>\n",
       "      <td>misc</td>\n",
       "      <td>212.74</td>\n",
       "    </tr>\n",
       "  </tbody>\n",
       "</table>\n",
       "</div>"
      ],
      "text/plain": [
       "         eu_sales\n",
       "genre            \n",
       "action     519.13\n",
       "sports     376.79\n",
       "shooter    317.34\n",
       "racing     236.51\n",
       "misc       212.74"
      ]
     },
     "metadata": {},
     "output_type": "display_data"
    },
    {
     "data": {
      "image/png": "[encoded data removed]",
      "text/plain": [
       "<Figure size 288x288 with 1 Axes>"
      ]
     },
     "metadata": {
      "needs_background": "light"
     },
     "output_type": "display_data"
    },
    {
     "data": {
      "text/html": [
       "<div>\n",
       "<style scoped>\n",
       "    .dataframe tbody tr th:only-of-type {\n",
       "        vertical-align: middle;\n",
       "    }\n",
       "\n",
       "    .dataframe tbody tr th {\n",
       "        vertical-align: top;\n",
       "    }\n",
       "\n",
       "    .dataframe thead th {\n",
       "        text-align: right;\n",
       "    }\n",
       "</style>\n",
       "<table border=\"1\" class=\"dataframe\">\n",
       "  <thead>\n",
       "    <tr style=\"text-align: right;\">\n",
       "      <th></th>\n",
       "      <th>eu_sales</th>\n",
       "    </tr>\n",
       "    <tr>\n",
       "      <th>rating</th>\n",
       "      <th></th>\n",
       "    </tr>\n",
       "  </thead>\n",
       "  <tbody>\n",
       "    <tr>\n",
       "      <td>e</td>\n",
       "      <td>710.25</td>\n",
       "    </tr>\n",
       "    <tr>\n",
       "      <td>m</td>\n",
       "      <td>483.97</td>\n",
       "    </tr>\n",
       "    <tr>\n",
       "      <td>t</td>\n",
       "      <td>427.03</td>\n",
       "    </tr>\n",
       "    <tr>\n",
       "      <td>e10+</td>\n",
       "      <td>188.52</td>\n",
       "    </tr>\n",
       "    <tr>\n",
       "      <td>ao</td>\n",
       "      <td>0.61</td>\n",
       "    </tr>\n",
       "  </tbody>\n",
       "</table>\n",
       "</div>"
      ],
      "text/plain": [
       "        eu_sales\n",
       "rating          \n",
       "e         710.25\n",
       "m         483.97\n",
       "t         427.03\n",
       "e10+      188.52\n",
       "ao          0.61"
      ]
     },
     "metadata": {},
     "output_type": "display_data"
    },
    {
     "data": {
      "image/png": "[encoded data removed]",
      "text/plain": [
       "<Figure size 288x288 with 1 Axes>"
      ]
     },
     "metadata": {
      "needs_background": "light"
     },
     "output_type": "display_data"
    }
   ],
   "source": [
    "def eu(info):\n",
    "    pivot_table = df.pivot_table(index = info, values = 'eu_sales', aggfunc = 'sum').sort_values('eu_sales', ascending=False)\n",
    "    top_5 = pivot_table.head(5)\n",
    "    display(top_5.head(5))\n",
    "    \n",
    "    \n",
    "    plt.figure(figsize=(4,4))\n",
    "    sns.barplot(data=top_5.head(5), x=top_5.index, y=top_5['eu_sales'])\n",
    "    plt.show()\n",
    "    \n",
    "for info in ['platform', 'genre', 'rating']:\n",
    "    eu(info)"
   ]
  },
  {
   "cell_type": "code",
   "execution_count": 72,
   "metadata": {},
   "outputs": [
    {
     "data": {
      "text/html": [
       "<div>\n",
       "<style scoped>\n",
       "    .dataframe tbody tr th:only-of-type {\n",
       "        vertical-align: middle;\n",
       "    }\n",
       "\n",
       "    .dataframe tbody tr th {\n",
       "        vertical-align: top;\n",
       "    }\n",
       "\n",
       "    .dataframe thead th {\n",
       "        text-align: right;\n",
       "    }\n",
       "</style>\n",
       "<table border=\"1\" class=\"dataframe\">\n",
       "  <thead>\n",
       "    <tr style=\"text-align: right;\">\n",
       "      <th></th>\n",
       "      <th>eu_sales</th>\n",
       "    </tr>\n",
       "    <tr>\n",
       "      <th>platform</th>\n",
       "      <th></th>\n",
       "    </tr>\n",
       "  </thead>\n",
       "  <tbody>\n",
       "    <tr>\n",
       "      <td>ps3</td>\n",
       "      <td>214.74</td>\n",
       "    </tr>\n",
       "    <tr>\n",
       "      <td>x360</td>\n",
       "      <td>164.29</td>\n",
       "    </tr>\n",
       "    <tr>\n",
       "      <td>ps4</td>\n",
       "      <td>141.09</td>\n",
       "    </tr>\n",
       "    <tr>\n",
       "      <td>pc</td>\n",
       "      <td>70.50</td>\n",
       "    </tr>\n",
       "    <tr>\n",
       "      <td>wii</td>\n",
       "      <td>66.35</td>\n",
       "    </tr>\n",
       "  </tbody>\n",
       "</table>\n",
       "</div>"
      ],
      "text/plain": [
       "          eu_sales\n",
       "platform          \n",
       "ps3         214.74\n",
       "x360        164.29\n",
       "ps4         141.09\n",
       "pc           70.50\n",
       "wii          66.35"
      ]
     },
     "metadata": {},
     "output_type": "display_data"
    },
    {
     "data": {
      "image/png": "[encoded data removed]",
      "text/plain": [
       "<Figure size 288x288 with 1 Axes>"
      ]
     },
     "metadata": {
      "needs_background": "light"
     },
     "output_type": "display_data"
    },
    {
     "data": {
      "text/html": [
       "<div>\n",
       "<style scoped>\n",
       "    .dataframe tbody tr th:only-of-type {\n",
       "        vertical-align: middle;\n",
       "    }\n",
       "\n",
       "    .dataframe tbody tr th {\n",
       "        vertical-align: top;\n",
       "    }\n",
       "\n",
       "    .dataframe thead th {\n",
       "        text-align: right;\n",
       "    }\n",
       "</style>\n",
       "<table border=\"1\" class=\"dataframe\">\n",
       "  <thead>\n",
       "    <tr style=\"text-align: right;\">\n",
       "      <th></th>\n",
       "      <th>eu_sales</th>\n",
       "    </tr>\n",
       "    <tr>\n",
       "      <th>genre</th>\n",
       "      <th></th>\n",
       "    </tr>\n",
       "  </thead>\n",
       "  <tbody>\n",
       "    <tr>\n",
       "      <td>action</td>\n",
       "      <td>236.70</td>\n",
       "    </tr>\n",
       "    <tr>\n",
       "      <td>shooter</td>\n",
       "      <td>172.57</td>\n",
       "    </tr>\n",
       "    <tr>\n",
       "      <td>sports</td>\n",
       "      <td>117.09</td>\n",
       "    </tr>\n",
       "    <tr>\n",
       "      <td>role-playing</td>\n",
       "      <td>75.48</td>\n",
       "    </tr>\n",
       "    <tr>\n",
       "      <td>misc</td>\n",
       "      <td>66.55</td>\n",
       "    </tr>\n",
       "  </tbody>\n",
       "</table>\n",
       "</div>"
      ],
      "text/plain": [
       "              eu_sales\n",
       "genre                 \n",
       "action          236.70\n",
       "shooter         172.57\n",
       "sports          117.09\n",
       "role-playing     75.48\n",
       "misc             66.55"
      ]
     },
     "metadata": {},
     "output_type": "display_data"
    },
    {
     "data": {
      "image/png": "[encoded data removed]",
      "text/plain": [
       "<Figure size 288x288 with 1 Axes>"
      ]
     },
     "metadata": {
      "needs_background": "light"
     },
     "output_type": "display_data"
    },
    {
     "data": {
      "text/html": [
       "<div>\n",
       "<style scoped>\n",
       "    .dataframe tbody tr th:only-of-type {\n",
       "        vertical-align: middle;\n",
       "    }\n",
       "\n",
       "    .dataframe tbody tr th {\n",
       "        vertical-align: top;\n",
       "    }\n",
       "\n",
       "    .dataframe thead th {\n",
       "        text-align: right;\n",
       "    }\n",
       "</style>\n",
       "<table border=\"1\" class=\"dataframe\">\n",
       "  <thead>\n",
       "    <tr style=\"text-align: right;\">\n",
       "      <th></th>\n",
       "      <th>eu_sales</th>\n",
       "    </tr>\n",
       "    <tr>\n",
       "      <th>rating</th>\n",
       "      <th></th>\n",
       "    </tr>\n",
       "  </thead>\n",
       "  <tbody>\n",
       "    <tr>\n",
       "      <td>m</td>\n",
       "      <td>294.29</td>\n",
       "    </tr>\n",
       "    <tr>\n",
       "      <td>e</td>\n",
       "      <td>197.98</td>\n",
       "    </tr>\n",
       "    <tr>\n",
       "      <td>t</td>\n",
       "      <td>113.29</td>\n",
       "    </tr>\n",
       "    <tr>\n",
       "      <td>e10+</td>\n",
       "      <td>101.16</td>\n",
       "    </tr>\n",
       "    <tr>\n",
       "      <td>rp</td>\n",
       "      <td>0.03</td>\n",
       "    </tr>\n",
       "  </tbody>\n",
       "</table>\n",
       "</div>"
      ],
      "text/plain": [
       "        eu_sales\n",
       "rating          \n",
       "m         294.29\n",
       "e         197.98\n",
       "t         113.29\n",
       "e10+      101.16\n",
       "rp          0.03"
      ]
     },
     "metadata": {},
     "output_type": "display_data"
    },
    {
     "data": {
      "image/png": "[encoded data removed]",
      "text/plain": [
       "<Figure size 288x288 with 1 Axes>"
      ]
     },
     "metadata": {
      "needs_background": "light"
     },
     "output_type": "display_data"
    }
   ],
   "source": [
    "def eu(info):\n",
    "    pivot_table = period_data.pivot_table(index = info, values = 'eu_sales', aggfunc = 'sum').sort_values('eu_sales', ascending=False)\n",
    "    top_5 = pivot_table.head(5)\n",
    "    display(top_5.head(5))\n",
    "    \n",
    "    \n",
    "    plt.figure(figsize=(4,4))\n",
    "    sns.barplot(data=top_5.head(5), x=top_5.index, y=top_5['eu_sales'])\n",
    "    plt.show()\n",
    "    \n",
    "for info in ['platform', 'genre', 'rating']:\n",
    "    eu(info)"
   ]
  },
  {
   "cell_type": "markdown",
   "metadata": {},
   "source": [
    "- Самые популярные игровые платформы за все время: ps3, x360, wii, ds, ps4\n",
    "- Самые популярные жанры за все время: action, sports, shooter, msic, racing\n",
    "- По рейтингам видно, что больше всего продаж за все время у игр с рейтингом \"для всех\", на втором месте игры с рейтингом \"для взрослых\", на третьем \"подросткам\", затем \"для всех от 10 лет и старше\" и \"только для взрослых\"\n",
    "________________________________________________\n",
    "- Самые популярные игровые платформы за актуальный период: x360, wii, ps3, ds, ps2\n",
    "- Самые популярные жанры за актуальный период: action, sports, shooter, msic, role-playing\n",
    "- По рейтингам видно, что больше всего продаж за все время у игр с рейтингом \"для всех\", на втором месте игры с рейтингом \"для взрослых\", на третьем \"подросткам\", затем \"для всех от 10 лет и старше\" и \"рейтинг ожидается\""
   ]
  },
  {
   "cell_type": "markdown",
   "metadata": {},
   "source": [
    "Продажи игр без рейтинга в Европе."
   ]
  },
  {
   "cell_type": "code",
   "execution_count": 73,
   "metadata": {},
   "outputs": [
    {
     "data": {
      "text/html": [
       "<div>\n",
       "<style scoped>\n",
       "    .dataframe tbody tr th:only-of-type {\n",
       "        vertical-align: middle;\n",
       "    }\n",
       "\n",
       "    .dataframe tbody tr th {\n",
       "        vertical-align: top;\n",
       "    }\n",
       "\n",
       "    .dataframe thead th {\n",
       "        text-align: right;\n",
       "    }\n",
       "</style>\n",
       "<table border=\"1\" class=\"dataframe\">\n",
       "  <thead>\n",
       "    <tr style=\"text-align: right;\">\n",
       "      <th></th>\n",
       "      <th>platform</th>\n",
       "      <th>eu_sales</th>\n",
       "    </tr>\n",
       "  </thead>\n",
       "  <tbody>\n",
       "    <tr>\n",
       "      <td>0</td>\n",
       "      <td>ps4</td>\n",
       "      <td>27.99</td>\n",
       "    </tr>\n",
       "    <tr>\n",
       "      <td>1</td>\n",
       "      <td>3ds</td>\n",
       "      <td>25.02</td>\n",
       "    </tr>\n",
       "    <tr>\n",
       "      <td>2</td>\n",
       "      <td>ps3</td>\n",
       "      <td>24.85</td>\n",
       "    </tr>\n",
       "    <tr>\n",
       "      <td>3</td>\n",
       "      <td>x360</td>\n",
       "      <td>14.50</td>\n",
       "    </tr>\n",
       "    <tr>\n",
       "      <td>4</td>\n",
       "      <td>ds</td>\n",
       "      <td>11.42</td>\n",
       "    </tr>\n",
       "  </tbody>\n",
       "</table>\n",
       "</div>"
      ],
      "text/plain": [
       "  platform  eu_sales\n",
       "0      ps4     27.99\n",
       "1      3ds     25.02\n",
       "2      ps3     24.85\n",
       "3     x360     14.50\n",
       "4       ds     11.42"
      ]
     },
     "execution_count": 73,
     "metadata": {},
     "output_type": "execute_result"
    }
   ],
   "source": [
    "not_rating.pivot_table(index='platform', values='eu_sales', aggfunc='sum').sort_values(\n",
    "        by='eu_sales', ascending=False).reset_index().rename_axis(None, axis=1).head(5)"
   ]
  },
  {
   "cell_type": "code",
   "execution_count": 74,
   "metadata": {},
   "outputs": [
    {
     "data": {
      "text/html": [
       "<div>\n",
       "<style scoped>\n",
       "    .dataframe tbody tr th:only-of-type {\n",
       "        vertical-align: middle;\n",
       "    }\n",
       "\n",
       "    .dataframe tbody tr th {\n",
       "        vertical-align: top;\n",
       "    }\n",
       "\n",
       "    .dataframe thead th {\n",
       "        text-align: right;\n",
       "    }\n",
       "</style>\n",
       "<table border=\"1\" class=\"dataframe\">\n",
       "  <thead>\n",
       "    <tr style=\"text-align: right;\">\n",
       "      <th></th>\n",
       "      <th>genre</th>\n",
       "      <th>eu_sales</th>\n",
       "    </tr>\n",
       "  </thead>\n",
       "  <tbody>\n",
       "    <tr>\n",
       "      <td>0</td>\n",
       "      <td>action</td>\n",
       "      <td>29.00</td>\n",
       "    </tr>\n",
       "    <tr>\n",
       "      <td>1</td>\n",
       "      <td>role-playing</td>\n",
       "      <td>23.35</td>\n",
       "    </tr>\n",
       "    <tr>\n",
       "      <td>2</td>\n",
       "      <td>shooter</td>\n",
       "      <td>19.03</td>\n",
       "    </tr>\n",
       "    <tr>\n",
       "      <td>3</td>\n",
       "      <td>misc</td>\n",
       "      <td>17.93</td>\n",
       "    </tr>\n",
       "    <tr>\n",
       "      <td>4</td>\n",
       "      <td>sports</td>\n",
       "      <td>16.38</td>\n",
       "    </tr>\n",
       "  </tbody>\n",
       "</table>\n",
       "</div>"
      ],
      "text/plain": [
       "          genre  eu_sales\n",
       "0        action     29.00\n",
       "1  role-playing     23.35\n",
       "2       shooter     19.03\n",
       "3          misc     17.93\n",
       "4        sports     16.38"
      ]
     },
     "execution_count": 74,
     "metadata": {},
     "output_type": "execute_result"
    }
   ],
   "source": [
    "not_rating.pivot_table(index='genre', values='eu_sales', aggfunc='sum').sort_values(\n",
    "        by='eu_sales', ascending=False).reset_index().rename_axis(None, axis=1).head(5)"
   ]
  },
  {
   "cell_type": "markdown",
   "metadata": {},
   "source": [
    "- Самые популярные игровые платформы по данным без рейтинга: ps4, 3ds, ps3, x360, ds\n",
    "- Самые популярные жанры по данным без рейтинга: action, role-playing, shooter, msic, sports"
   ]
  },
  {
   "cell_type": "markdown",
   "metadata": {},
   "source": [
    "### Япония"
   ]
  },
  {
   "cell_type": "code",
   "execution_count": 75,
   "metadata": {},
   "outputs": [
    {
     "data": {
      "text/html": [
       "<div>\n",
       "<style scoped>\n",
       "    .dataframe tbody tr th:only-of-type {\n",
       "        vertical-align: middle;\n",
       "    }\n",
       "\n",
       "    .dataframe tbody tr th {\n",
       "        vertical-align: top;\n",
       "    }\n",
       "\n",
       "    .dataframe thead th {\n",
       "        text-align: right;\n",
       "    }\n",
       "</style>\n",
       "<table border=\"1\" class=\"dataframe\">\n",
       "  <thead>\n",
       "    <tr style=\"text-align: right;\">\n",
       "      <th></th>\n",
       "      <th>jp_sales</th>\n",
       "    </tr>\n",
       "    <tr>\n",
       "      <th>platform</th>\n",
       "      <th></th>\n",
       "    </tr>\n",
       "  </thead>\n",
       "  <tbody>\n",
       "    <tr>\n",
       "      <td>ds</td>\n",
       "      <td>175.57</td>\n",
       "    </tr>\n",
       "    <tr>\n",
       "      <td>ps</td>\n",
       "      <td>139.82</td>\n",
       "    </tr>\n",
       "    <tr>\n",
       "      <td>ps2</td>\n",
       "      <td>139.20</td>\n",
       "    </tr>\n",
       "    <tr>\n",
       "      <td>snes</td>\n",
       "      <td>116.55</td>\n",
       "    </tr>\n",
       "    <tr>\n",
       "      <td>3ds</td>\n",
       "      <td>100.67</td>\n",
       "    </tr>\n",
       "  </tbody>\n",
       "</table>\n",
       "</div>"
      ],
      "text/plain": [
       "          jp_sales\n",
       "platform          \n",
       "ds          175.57\n",
       "ps          139.82\n",
       "ps2         139.20\n",
       "snes        116.55\n",
       "3ds         100.67"
      ]
     },
     "metadata": {},
     "output_type": "display_data"
    },
    {
     "data": {
      "image/png": "[encoded data removed]",
      "text/plain": [
       "<Figure size 288x288 with 1 Axes>"
      ]
     },
     "metadata": {
      "needs_background": "light"
     },
     "output_type": "display_data"
    },
    {
     "data": {
      "text/html": [
       "<div>\n",
       "<style scoped>\n",
       "    .dataframe tbody tr th:only-of-type {\n",
       "        vertical-align: middle;\n",
       "    }\n",
       "\n",
       "    .dataframe tbody tr th {\n",
       "        vertical-align: top;\n",
       "    }\n",
       "\n",
       "    .dataframe thead th {\n",
       "        text-align: right;\n",
       "    }\n",
       "</style>\n",
       "<table border=\"1\" class=\"dataframe\">\n",
       "  <thead>\n",
       "    <tr style=\"text-align: right;\">\n",
       "      <th></th>\n",
       "      <th>jp_sales</th>\n",
       "    </tr>\n",
       "    <tr>\n",
       "      <th>genre</th>\n",
       "      <th></th>\n",
       "    </tr>\n",
       "  </thead>\n",
       "  <tbody>\n",
       "    <tr>\n",
       "      <td>role-playing</td>\n",
       "      <td>355.41</td>\n",
       "    </tr>\n",
       "    <tr>\n",
       "      <td>action</td>\n",
       "      <td>161.43</td>\n",
       "    </tr>\n",
       "    <tr>\n",
       "      <td>sports</td>\n",
       "      <td>135.54</td>\n",
       "    </tr>\n",
       "    <tr>\n",
       "      <td>platform</td>\n",
       "      <td>130.83</td>\n",
       "    </tr>\n",
       "    <tr>\n",
       "      <td>misc</td>\n",
       "      <td>108.11</td>\n",
       "    </tr>\n",
       "  </tbody>\n",
       "</table>\n",
       "</div>"
      ],
      "text/plain": [
       "              jp_sales\n",
       "genre                 \n",
       "role-playing    355.41\n",
       "action          161.43\n",
       "sports          135.54\n",
       "platform        130.83\n",
       "misc            108.11"
      ]
     },
     "metadata": {},
     "output_type": "display_data"
    },
    {
     "data": {
      "image/png": "[encoded data removed]",
      "text/plain": [
       "<Figure size 288x288 with 1 Axes>"
      ]
     },
     "metadata": {
      "needs_background": "light"
     },
     "output_type": "display_data"
    },
    {
     "data": {
      "text/html": [
       "<div>\n",
       "<style scoped>\n",
       "    .dataframe tbody tr th:only-of-type {\n",
       "        vertical-align: middle;\n",
       "    }\n",
       "\n",
       "    .dataframe tbody tr th {\n",
       "        vertical-align: top;\n",
       "    }\n",
       "\n",
       "    .dataframe thead th {\n",
       "        text-align: right;\n",
       "    }\n",
       "</style>\n",
       "<table border=\"1\" class=\"dataframe\">\n",
       "  <thead>\n",
       "    <tr style=\"text-align: right;\">\n",
       "      <th></th>\n",
       "      <th>jp_sales</th>\n",
       "    </tr>\n",
       "    <tr>\n",
       "      <th>rating</th>\n",
       "      <th></th>\n",
       "    </tr>\n",
       "  </thead>\n",
       "  <tbody>\n",
       "    <tr>\n",
       "      <td>e</td>\n",
       "      <td>198.11</td>\n",
       "    </tr>\n",
       "    <tr>\n",
       "      <td>t</td>\n",
       "      <td>151.40</td>\n",
       "    </tr>\n",
       "    <tr>\n",
       "      <td>m</td>\n",
       "      <td>64.24</td>\n",
       "    </tr>\n",
       "    <tr>\n",
       "      <td>e10+</td>\n",
       "      <td>40.20</td>\n",
       "    </tr>\n",
       "    <tr>\n",
       "      <td>k-a</td>\n",
       "      <td>1.46</td>\n",
       "    </tr>\n",
       "  </tbody>\n",
       "</table>\n",
       "</div>"
      ],
      "text/plain": [
       "        jp_sales\n",
       "rating          \n",
       "e         198.11\n",
       "t         151.40\n",
       "m          64.24\n",
       "e10+       40.20\n",
       "k-a         1.46"
      ]
     },
     "metadata": {},
     "output_type": "display_data"
    },
    {
     "data": {
      "image/png": "[encoded data removed]",
      "text/plain": [
       "<Figure size 288x288 with 1 Axes>"
      ]
     },
     "metadata": {
      "needs_background": "light"
     },
     "output_type": "display_data"
    }
   ],
   "source": [
    "def jp(info):\n",
    "    pivot_table = df.pivot_table(index = info, values = 'jp_sales', aggfunc = 'sum').sort_values('jp_sales', ascending=False)\n",
    "    top_5 = pivot_table.head(5)\n",
    "    display(top_5.head(5))\n",
    "    \n",
    "    \n",
    "    plt.figure(figsize=(4,4))\n",
    "    sns.barplot(data=top_5.head(5), x=top_5.index, y=top_5['jp_sales'])\n",
    "    plt.show()\n",
    "    \n",
    "for info in ['platform', 'genre', 'rating']:\n",
    "    jp(info)\n",
    "    "
   ]
  },
  {
   "cell_type": "code",
   "execution_count": 76,
   "metadata": {},
   "outputs": [
    {
     "data": {
      "text/html": [
       "<div>\n",
       "<style scoped>\n",
       "    .dataframe tbody tr th:only-of-type {\n",
       "        vertical-align: middle;\n",
       "    }\n",
       "\n",
       "    .dataframe tbody tr th {\n",
       "        vertical-align: top;\n",
       "    }\n",
       "\n",
       "    .dataframe thead th {\n",
       "        text-align: right;\n",
       "    }\n",
       "</style>\n",
       "<table border=\"1\" class=\"dataframe\">\n",
       "  <thead>\n",
       "    <tr style=\"text-align: right;\">\n",
       "      <th></th>\n",
       "      <th>jp_sales</th>\n",
       "    </tr>\n",
       "    <tr>\n",
       "      <th>platform</th>\n",
       "      <th></th>\n",
       "    </tr>\n",
       "  </thead>\n",
       "  <tbody>\n",
       "    <tr>\n",
       "      <td>3ds</td>\n",
       "      <td>100.64</td>\n",
       "    </tr>\n",
       "    <tr>\n",
       "      <td>ps3</td>\n",
       "      <td>59.36</td>\n",
       "    </tr>\n",
       "    <tr>\n",
       "      <td>psp</td>\n",
       "      <td>42.44</td>\n",
       "    </tr>\n",
       "    <tr>\n",
       "      <td>ds</td>\n",
       "      <td>27.90</td>\n",
       "    </tr>\n",
       "    <tr>\n",
       "      <td>psv</td>\n",
       "      <td>21.84</td>\n",
       "    </tr>\n",
       "  </tbody>\n",
       "</table>\n",
       "</div>"
      ],
      "text/plain": [
       "          jp_sales\n",
       "platform          \n",
       "3ds         100.64\n",
       "ps3          59.36\n",
       "psp          42.44\n",
       "ds           27.90\n",
       "psv          21.84"
      ]
     },
     "metadata": {},
     "output_type": "display_data"
    },
    {
     "data": {
      "image/png": "[encoded data removed]",
      "text/plain": [
       "<Figure size 288x288 with 1 Axes>"
      ]
     },
     "metadata": {
      "needs_background": "light"
     },
     "output_type": "display_data"
    },
    {
     "data": {
      "text/html": [
       "<div>\n",
       "<style scoped>\n",
       "    .dataframe tbody tr th:only-of-type {\n",
       "        vertical-align: middle;\n",
       "    }\n",
       "\n",
       "    .dataframe tbody tr th {\n",
       "        vertical-align: top;\n",
       "    }\n",
       "\n",
       "    .dataframe thead th {\n",
       "        text-align: right;\n",
       "    }\n",
       "</style>\n",
       "<table border=\"1\" class=\"dataframe\">\n",
       "  <thead>\n",
       "    <tr style=\"text-align: right;\">\n",
       "      <th></th>\n",
       "      <th>jp_sales</th>\n",
       "    </tr>\n",
       "    <tr>\n",
       "      <th>genre</th>\n",
       "      <th></th>\n",
       "    </tr>\n",
       "  </thead>\n",
       "  <tbody>\n",
       "    <tr>\n",
       "      <td>role-playing</td>\n",
       "      <td>103.59</td>\n",
       "    </tr>\n",
       "    <tr>\n",
       "      <td>action</td>\n",
       "      <td>72.21</td>\n",
       "    </tr>\n",
       "    <tr>\n",
       "      <td>misc</td>\n",
       "      <td>24.54</td>\n",
       "    </tr>\n",
       "    <tr>\n",
       "      <td>platform</td>\n",
       "      <td>15.81</td>\n",
       "    </tr>\n",
       "    <tr>\n",
       "      <td>adventure</td>\n",
       "      <td>15.67</td>\n",
       "    </tr>\n",
       "  </tbody>\n",
       "</table>\n",
       "</div>"
      ],
      "text/plain": [
       "              jp_sales\n",
       "genre                 \n",
       "role-playing    103.59\n",
       "action           72.21\n",
       "misc             24.54\n",
       "platform         15.81\n",
       "adventure        15.67"
      ]
     },
     "metadata": {},
     "output_type": "display_data"
    },
    {
     "data": {
      "image/png": "[encoded data removed]",
      "text/plain": [
       "<Figure size 288x288 with 1 Axes>"
      ]
     },
     "metadata": {
      "needs_background": "light"
     },
     "output_type": "display_data"
    },
    {
     "data": {
      "text/html": [
       "<div>\n",
       "<style scoped>\n",
       "    .dataframe tbody tr th:only-of-type {\n",
       "        vertical-align: middle;\n",
       "    }\n",
       "\n",
       "    .dataframe tbody tr th {\n",
       "        vertical-align: top;\n",
       "    }\n",
       "\n",
       "    .dataframe thead th {\n",
       "        text-align: right;\n",
       "    }\n",
       "</style>\n",
       "<table border=\"1\" class=\"dataframe\">\n",
       "  <thead>\n",
       "    <tr style=\"text-align: right;\">\n",
       "      <th></th>\n",
       "      <th>jp_sales</th>\n",
       "    </tr>\n",
       "    <tr>\n",
       "      <th>rating</th>\n",
       "      <th></th>\n",
       "    </tr>\n",
       "  </thead>\n",
       "  <tbody>\n",
       "    <tr>\n",
       "      <td>e</td>\n",
       "      <td>47.87</td>\n",
       "    </tr>\n",
       "    <tr>\n",
       "      <td>t</td>\n",
       "      <td>42.14</td>\n",
       "    </tr>\n",
       "    <tr>\n",
       "      <td>m</td>\n",
       "      <td>30.47</td>\n",
       "    </tr>\n",
       "    <tr>\n",
       "      <td>e10+</td>\n",
       "      <td>13.22</td>\n",
       "    </tr>\n",
       "    <tr>\n",
       "      <td>ec</td>\n",
       "      <td>0.00</td>\n",
       "    </tr>\n",
       "  </tbody>\n",
       "</table>\n",
       "</div>"
      ],
      "text/plain": [
       "        jp_sales\n",
       "rating          \n",
       "e          47.87\n",
       "t          42.14\n",
       "m          30.47\n",
       "e10+       13.22\n",
       "ec          0.00"
      ]
     },
     "metadata": {},
     "output_type": "display_data"
    },
    {
     "data": {
      "image/png": "[encoded data removed]",
      "text/plain": [
       "<Figure size 288x288 with 1 Axes>"
      ]
     },
     "metadata": {
      "needs_background": "light"
     },
     "output_type": "display_data"
    }
   ],
   "source": [
    "def jp(info):\n",
    "    pivot_table = period_data.pivot_table(index = info, values = 'jp_sales', aggfunc = 'sum').sort_values('jp_sales', ascending=False)\n",
    "    top_5 = pivot_table.head(5)\n",
    "    display(top_5.head(5))\n",
    "    \n",
    "    \n",
    "    plt.figure(figsize=(4,4))\n",
    "    sns.barplot(data=top_5.head(5), x=top_5.index, y=top_5['jp_sales'])\n",
    "    plt.show()\n",
    "        \n",
    "for info in ['platform', 'genre', 'rating']:\n",
    "    jp(info)\n",
    "    "
   ]
  },
  {
   "cell_type": "markdown",
   "metadata": {},
   "source": [
    "- Самые популярные игровые платформы за все время: ds, ps, ps2, snes, 3ds\n",
    "- Самые популярные жанры за все время: role-playing, action, sports, platform, msic\n",
    "- По рейтингам видно, что больше всего продаж за все время у игр с рейтингом \"для всех\", на втором месте игры с рейтингом \"подросткам\", на третьем \"для взрослых\", затем \"для всех от 10 лет и старше\" и \"для детей\"\n",
    "________________________________________________\n",
    "- Самые популярные игровые платформы за актуальный период: ds, 3ds, ps3, psp, wii\n",
    "- Самые популярные жанры за актуальный период: role-playing, action, msic, sports, platform\n",
    "- По рейтингам видно, что больше всего продаж за все время у игр с рейтингом \"для всех\", на втором месте игры с рейтингом \"подросткам\", на третьем \"для взрослых\", затем \"для всех от 10 лет и старше\" и \"для детей младшего возраста\""
   ]
  },
  {
   "cell_type": "markdown",
   "metadata": {},
   "source": [
    "Продажи игр без рейтинга в Японии."
   ]
  },
  {
   "cell_type": "code",
   "execution_count": 77,
   "metadata": {},
   "outputs": [
    {
     "data": {
      "text/html": [
       "<div>\n",
       "<style scoped>\n",
       "    .dataframe tbody tr th:only-of-type {\n",
       "        vertical-align: middle;\n",
       "    }\n",
       "\n",
       "    .dataframe tbody tr th {\n",
       "        vertical-align: top;\n",
       "    }\n",
       "\n",
       "    .dataframe thead th {\n",
       "        text-align: right;\n",
       "    }\n",
       "</style>\n",
       "<table border=\"1\" class=\"dataframe\">\n",
       "  <thead>\n",
       "    <tr style=\"text-align: right;\">\n",
       "      <th></th>\n",
       "      <th>platform</th>\n",
       "      <th>jp_sales</th>\n",
       "    </tr>\n",
       "  </thead>\n",
       "  <tbody>\n",
       "    <tr>\n",
       "      <td>0</td>\n",
       "      <td>3ds</td>\n",
       "      <td>65.70</td>\n",
       "    </tr>\n",
       "    <tr>\n",
       "      <td>1</td>\n",
       "      <td>psp</td>\n",
       "      <td>35.64</td>\n",
       "    </tr>\n",
       "    <tr>\n",
       "      <td>2</td>\n",
       "      <td>ds</td>\n",
       "      <td>20.65</td>\n",
       "    </tr>\n",
       "    <tr>\n",
       "      <td>3</td>\n",
       "      <td>ps3</td>\n",
       "      <td>17.71</td>\n",
       "    </tr>\n",
       "    <tr>\n",
       "      <td>4</td>\n",
       "      <td>psv</td>\n",
       "      <td>13.09</td>\n",
       "    </tr>\n",
       "  </tbody>\n",
       "</table>\n",
       "</div>"
      ],
      "text/plain": [
       "  platform  jp_sales\n",
       "0      3ds     65.70\n",
       "1      psp     35.64\n",
       "2       ds     20.65\n",
       "3      ps3     17.71\n",
       "4      psv     13.09"
      ]
     },
     "execution_count": 77,
     "metadata": {},
     "output_type": "execute_result"
    }
   ],
   "source": [
    "not_rating.pivot_table(index='platform', values='jp_sales', aggfunc='sum').sort_values(\n",
    "        by='jp_sales', ascending=False).reset_index().rename_axis(None, axis=1).head(5)"
   ]
  },
  {
   "cell_type": "code",
   "execution_count": 78,
   "metadata": {},
   "outputs": [
    {
     "data": {
      "text/html": [
       "<div>\n",
       "<style scoped>\n",
       "    .dataframe tbody tr th:only-of-type {\n",
       "        vertical-align: middle;\n",
       "    }\n",
       "\n",
       "    .dataframe tbody tr th {\n",
       "        vertical-align: top;\n",
       "    }\n",
       "\n",
       "    .dataframe thead th {\n",
       "        text-align: right;\n",
       "    }\n",
       "</style>\n",
       "<table border=\"1\" class=\"dataframe\">\n",
       "  <thead>\n",
       "    <tr style=\"text-align: right;\">\n",
       "      <th></th>\n",
       "      <th>genre</th>\n",
       "      <th>jp_sales</th>\n",
       "    </tr>\n",
       "  </thead>\n",
       "  <tbody>\n",
       "    <tr>\n",
       "      <td>0</td>\n",
       "      <td>role-playing</td>\n",
       "      <td>70.90</td>\n",
       "    </tr>\n",
       "    <tr>\n",
       "      <td>1</td>\n",
       "      <td>action</td>\n",
       "      <td>37.34</td>\n",
       "    </tr>\n",
       "    <tr>\n",
       "      <td>2</td>\n",
       "      <td>misc</td>\n",
       "      <td>15.57</td>\n",
       "    </tr>\n",
       "    <tr>\n",
       "      <td>3</td>\n",
       "      <td>adventure</td>\n",
       "      <td>13.72</td>\n",
       "    </tr>\n",
       "    <tr>\n",
       "      <td>4</td>\n",
       "      <td>sports</td>\n",
       "      <td>9.07</td>\n",
       "    </tr>\n",
       "  </tbody>\n",
       "</table>\n",
       "</div>"
      ],
      "text/plain": [
       "          genre  jp_sales\n",
       "0  role-playing     70.90\n",
       "1        action     37.34\n",
       "2          misc     15.57\n",
       "3     adventure     13.72\n",
       "4        sports      9.07"
      ]
     },
     "execution_count": 78,
     "metadata": {},
     "output_type": "execute_result"
    }
   ],
   "source": [
    "not_rating.pivot_table(index='genre', values='jp_sales', aggfunc='sum').sort_values(\n",
    "        by='jp_sales', ascending=False).reset_index().rename_axis(None, axis=1).head(5)"
   ]
  },
  {
   "cell_type": "markdown",
   "metadata": {},
   "source": [
    "- Самые популярные игровые платформы по данным без рейтинга: 3ds, psp, ds, ps3, psv\n",
    "- Самые популярные жанры по данным без рейтинга: role-playing, action, msic, adventure, sports"
   ]
  },
  {
   "cell_type": "markdown",
   "metadata": {},
   "source": [
    "Картина портретов пользователей Северной Америки и Европы без рейтинга схожа, а вот портрет пользователей Японии отличается."
   ]
  },
  {
   "cell_type": "markdown",
   "metadata": {},
   "source": [
    "## Шаг 5. Проверка гипотезы"
   ]
  },
  {
   "cell_type": "markdown",
   "metadata": {},
   "source": [
    "### Средние пользовательские рейтинги платформ Xbox One и PC одинаковые"
   ]
  },
  {
   "cell_type": "markdown",
   "metadata": {},
   "source": [
    "𝐻0  — средние пользовательские рейтинги платформ Xbox One и PC одинаковые.\n",
    "\n",
    "𝐻1 — средние пользовательские рейтинги платформ Xbox One и PC различаются.\n",
    "\n",
    "𝛼=5%"
   ]
  },
  {
   "cell_type": "code",
   "execution_count": 79,
   "metadata": {},
   "outputs": [],
   "source": [
    "df_xone = period_data[period_data['platform']=='xone']['user_score']\n",
    "df_pc = period_data[period_data['platform']=='pc']['user_score']"
   ]
  },
  {
   "cell_type": "code",
   "execution_count": 80,
   "metadata": {},
   "outputs": [
    {
     "name": "stdout",
     "output_type": "stream",
     "text": [
      "6.521428571428572 /// 1.9069968429360695\n",
      "6.529242819843342 /// 2.4324934042349597\n"
     ]
    }
   ],
   "source": [
    "print(df_xone.mean(), '///', df_xone.var())\n",
    "print(df_pc.mean(), '///', df_pc.var())"
   ]
  },
  {
   "cell_type": "markdown",
   "metadata": {},
   "source": [
    "Дисперсии отличаются, значит примем величину equal_var = False"
   ]
  },
  {
   "cell_type": "code",
   "execution_count": 81,
   "metadata": {},
   "outputs": [
    {
     "name": "stdout",
     "output_type": "stream",
     "text": [
      "p-value: 0.9519979495147267\n",
      "Не получилось отвергнуть нулевую гипотезу\n"
     ]
    }
   ],
   "source": [
    "alpha = .05\n",
    "results = st.ttest_ind(df_xone.dropna(), df_pc.dropna(), equal_var=False)\n",
    "print('p-value:', results.pvalue)\n",
    "\n",
    "if (results.pvalue < alpha):\n",
    "    print(\"Отвергаем нулевую гипотезу\")\n",
    "else:\n",
    "    print(\"Не получилось отвергнуть нулевую гипотезу\")"
   ]
  },
  {
   "cell_type": "markdown",
   "metadata": {},
   "source": [
    "Значение p-value равно 95%. Таким образом, средние пользовательские рейтинги платформ Xbox One и PC одинаковы."
   ]
  },
  {
   "cell_type": "markdown",
   "metadata": {},
   "source": [
    "### Средние пользовательские рейтинги жанров Action и Sports разные."
   ]
  },
  {
   "cell_type": "markdown",
   "metadata": {},
   "source": [
    "𝐻0  — средние пользовательские рейтинги жанров Action и Sports одинаковые.\n",
    "\n",
    "𝐻1 — средние пользовательские рейтинги жанров Action и Sports различаются.\n",
    "\n",
    "𝛼=5%"
   ]
  },
  {
   "cell_type": "code",
   "execution_count": 82,
   "metadata": {},
   "outputs": [],
   "source": [
    "df_action = period_data[period_data['genre']=='action']['user_score']\n",
    "df_sports = period_data[period_data['genre']=='sports']['user_score']"
   ]
  },
  {
   "cell_type": "code",
   "execution_count": 83,
   "metadata": {},
   "outputs": [
    {
     "name": "stdout",
     "output_type": "stream",
     "text": [
      "6.7897597977244 /// 1.839300068812111\n",
      "5.9 /// 2.827428571428572\n"
     ]
    }
   ],
   "source": [
    "print(df_action.mean(), '///', df_action.var())\n",
    "print(df_sports.mean(), '///', df_sports.var())"
   ]
  },
  {
   "cell_type": "markdown",
   "metadata": {},
   "source": [
    "Дисперсии отличаются, значит примем величину equal_var = False"
   ]
  },
  {
   "cell_type": "code",
   "execution_count": 84,
   "metadata": {},
   "outputs": [
    {
     "name": "stdout",
     "output_type": "stream",
     "text": [
      "p-value: 5.704356296291296e-16\n",
      "Отвергаем нулевую гипотезу\n"
     ]
    }
   ],
   "source": [
    "alpha = .05\n",
    "results = st.ttest_ind(df_action.dropna(), df_sports.dropna(), equal_var=False)\n",
    "print('p-value:', results.pvalue)\n",
    "\n",
    "if (results.pvalue < alpha):\n",
    "    print(\"Отвергаем нулевую гипотезу\")\n",
    "else:\n",
    "    print(\"Не получилось отвергнуть нулевую гипотезу\")"
   ]
  },
  {
   "cell_type": "markdown",
   "metadata": {},
   "source": [
    "Получив p-value, мы отвергли нулевую гипотезу. Таким образом, у нас практически нет вероятности получить одинакове средние рейнтинги по двум жанрам."
   ]
  },
  {
   "cell_type": "markdown",
   "metadata": {},
   "source": [
    "**Вывод**\n",
    "\n",
    "Проверили гипотезы по функции ttest_ind, вычисляющей t-тест двух независимых выборок:\n",
    "- Гипотеза: \"Средние пользовательские рейтинги платформ Xbox one и PC одинаковые\". Отвергаем нулевую гипотезу.\n",
    "- Гипотеза: \"Средние пользовательские рейтинги жанров Action и Sports разные\". Отвергаем нулевую гипотезу."
   ]
  },
  {
   "cell_type": "markdown",
   "metadata": {},
   "source": [
    "## Шаг 6. Общий вывод"
   ]
  },
  {
   "cell_type": "markdown",
   "metadata": {},
   "source": [
    "   - Изначально мы подготовили наши данные: привели к нижнему регистру названия столбцов и  данные таблицы, привели к нужным типам данных выборочные столбцы, где это было необходимо,разобрались с некоторыми пропусками, проверили данные на дубликаты.\n",
    "   - Проведя анализ данных мы выяяснили, что количество игр на игровые платформы начало стремильено расти 1990 года и достигло пика в 2008 году, а затем пошел спад, скорее всего связанный с развитием мобильных телефонов и мобильных игр.\n",
    "   - За весь период с 1990 года самые популярные игровые платформы ps2, x360, ps3, wii, ds, ps. Средняя продолжительность существования игры на рынке составила около 10 лет, где пик продаж приходится на 4-5 года.\n",
    "   - Проведя анализ влияния оценок пользователей и критиков на продажу игровых платформ мы выявили, что оценки критиков немного влияют на продажу. То есть чем больше оценка критиков или пользователей, тем лучше продажа игры.\n",
    "   - Из общего распределения игр по жанрам были выявлены самый популярный жанр - action.\n",
    "   - Составив портреты пользователей каждого региона (Северная Америка, Европа, Япония) мы выяснили,что пользовательские портреты Северной Америки и Европы практически идентичны , а вот пользовательский портрет Японии отличается от вышеупомянутых континетов.\n",
    "   - На последнем этапе были проверены гипотезы откуда стало ясно, что что лучше всего делать упор на игры которые базируются на игровые платформы ps4 и xone (скорее всего в дальнейшем это станут основные линии платформ) жанра action и sports и рейтиногм \"для всех\", \"для взрослых\" и \"подросткам\""
   ]
  }
 ],
 "metadata": {
  "ExecuteTimeLog": [
   {
    "duration": 1494,
    "start_time": "2021-07-01T11:58:20.607Z"
   },
   {
    "duration": 95,
    "start_time": "2021-07-01T11:58:22.105Z"
   },
   {
    "duration": 17,
    "start_time": "2021-07-01T11:58:22.204Z"
   },
   {
    "duration": 81,
    "start_time": "2021-07-01T11:58:22.225Z"
   },
   {
    "duration": 7,
    "start_time": "2021-07-01T11:58:22.309Z"
   },
   {
    "duration": 8,
    "start_time": "2021-07-01T11:58:22.318Z"
   },
   {
    "duration": 5,
    "start_time": "2021-07-01T11:58:22.329Z"
   },
   {
    "duration": 46,
    "start_time": "2021-07-01T11:58:22.338Z"
   },
   {
    "duration": 22,
    "start_time": "2021-07-01T11:58:22.388Z"
   },
   {
    "duration": 13,
    "start_time": "2021-07-01T11:58:22.412Z"
   },
   {
    "duration": 27,
    "start_time": "2021-07-01T11:58:22.428Z"
   },
   {
    "duration": 4,
    "start_time": "2021-07-01T11:58:22.457Z"
   },
   {
    "duration": 16,
    "start_time": "2021-07-01T11:58:22.485Z"
   },
   {
    "duration": 6,
    "start_time": "2021-07-01T11:58:22.504Z"
   },
   {
    "duration": 24,
    "start_time": "2021-07-01T11:58:22.512Z"
   },
   {
    "duration": 61,
    "start_time": "2021-07-01T11:58:22.538Z"
   },
   {
    "duration": 34,
    "start_time": "2021-07-01T11:58:22.601Z"
   },
   {
    "duration": 579,
    "start_time": "2021-07-01T11:58:22.637Z"
   },
   {
    "duration": 7,
    "start_time": "2021-07-01T11:58:23.218Z"
   },
   {
    "duration": 15,
    "start_time": "2021-07-01T11:58:23.228Z"
   },
   {
    "duration": 15,
    "start_time": "2021-07-01T11:58:23.246Z"
   },
   {
    "duration": 21,
    "start_time": "2021-07-01T11:58:23.284Z"
   },
   {
    "duration": 6,
    "start_time": "2021-07-01T11:58:23.312Z"
   },
   {
    "duration": 32,
    "start_time": "2021-07-01T11:58:23.322Z"
   },
   {
    "duration": 58,
    "start_time": "2021-07-01T11:58:23.356Z"
   },
   {
    "duration": 12,
    "start_time": "2021-07-01T11:58:23.417Z"
   },
   {
    "duration": 15,
    "start_time": "2021-07-01T11:58:23.432Z"
   },
   {
    "duration": 63,
    "start_time": "2021-07-01T11:58:23.450Z"
   },
   {
    "duration": 462,
    "start_time": "2021-07-01T11:58:23.515Z"
   },
   {
    "duration": 3,
    "start_time": "2021-07-01T11:58:23.983Z"
   },
   {
    "duration": 22,
    "start_time": "2021-07-01T11:58:23.988Z"
   },
   {
    "duration": 25,
    "start_time": "2021-07-01T11:58:24.013Z"
   },
   {
    "duration": 633,
    "start_time": "2021-07-01T11:58:24.040Z"
   },
   {
    "duration": 10,
    "start_time": "2021-07-01T11:58:24.684Z"
   },
   {
    "duration": 3108,
    "start_time": "2021-07-01T11:58:24.699Z"
   },
   {
    "duration": 24,
    "start_time": "2021-07-01T11:58:27.809Z"
   },
   {
    "duration": 4,
    "start_time": "2021-07-01T11:58:27.836Z"
   },
   {
    "duration": 128,
    "start_time": "2021-07-01T11:58:27.842Z"
   },
   {
    "duration": 245,
    "start_time": "2021-07-01T11:58:27.972Z"
   },
   {
    "duration": 640,
    "start_time": "2021-07-01T11:58:28.221Z"
   },
   {
    "duration": 23,
    "start_time": "2021-07-01T11:58:28.864Z"
   },
   {
    "duration": 23,
    "start_time": "2021-07-01T11:58:28.890Z"
   },
   {
    "duration": 7,
    "start_time": "2021-07-01T11:58:28.915Z"
   },
   {
    "duration": 3419,
    "start_time": "2021-07-01T11:58:28.925Z"
   },
   {
    "duration": 42,
    "start_time": "2021-07-01T11:58:32.348Z"
   },
   {
    "duration": 242,
    "start_time": "2021-07-01T11:58:32.394Z"
   },
   {
    "duration": 9,
    "start_time": "2021-07-01T11:58:32.639Z"
   },
   {
    "duration": 35,
    "start_time": "2021-07-01T11:58:32.650Z"
   },
   {
    "duration": 754,
    "start_time": "2021-07-01T11:58:32.691Z"
   },
   {
    "duration": 3,
    "start_time": "2021-07-01T11:58:33.448Z"
   },
   {
    "duration": 30,
    "start_time": "2021-07-01T11:58:33.453Z"
   },
   {
    "duration": 4,
    "start_time": "2021-07-01T11:58:33.487Z"
   },
   {
    "duration": 18,
    "start_time": "2021-07-01T11:58:33.494Z"
   },
   {
    "duration": 460,
    "start_time": "2021-07-01T11:58:33.515Z"
   },
   {
    "duration": 483,
    "start_time": "2021-07-01T11:58:33.978Z"
   },
   {
    "duration": 7,
    "start_time": "2021-07-01T11:58:34.464Z"
   },
   {
    "duration": 8280,
    "start_time": "2021-07-01T11:58:34.483Z"
   },
   {
    "duration": 30,
    "start_time": "2021-07-01T11:58:42.765Z"
   },
   {
    "duration": 440,
    "start_time": "2021-07-01T11:58:42.798Z"
   },
   {
    "duration": 854,
    "start_time": "2021-07-01T11:58:43.240Z"
   },
   {
    "duration": 777,
    "start_time": "2021-07-01T11:58:44.097Z"
   },
   {
    "duration": 8,
    "start_time": "2021-07-01T11:58:44.884Z"
   },
   {
    "duration": 34,
    "start_time": "2021-07-01T11:58:44.896Z"
   },
   {
    "duration": 29,
    "start_time": "2021-07-01T11:58:44.932Z"
   },
   {
    "duration": 867,
    "start_time": "2021-07-01T11:58:44.964Z"
   },
   {
    "duration": 774,
    "start_time": "2021-07-01T11:58:45.833Z"
   },
   {
    "duration": 22,
    "start_time": "2021-07-01T11:58:46.610Z"
   },
   {
    "duration": 44,
    "start_time": "2021-07-01T11:58:46.639Z"
   },
   {
    "duration": 954,
    "start_time": "2021-07-01T11:58:46.686Z"
   },
   {
    "duration": 797,
    "start_time": "2021-07-01T11:58:47.642Z"
   },
   {
    "duration": 22,
    "start_time": "2021-07-01T11:58:48.442Z"
   },
   {
    "duration": 40,
    "start_time": "2021-07-01T11:58:48.467Z"
   },
   {
    "duration": 18,
    "start_time": "2021-07-01T11:58:48.510Z"
   },
   {
    "duration": 19,
    "start_time": "2021-07-01T11:58:48.531Z"
   },
   {
    "duration": 12,
    "start_time": "2021-07-01T11:58:48.552Z"
   },
   {
    "duration": 29,
    "start_time": "2021-07-01T11:58:48.566Z"
   },
   {
    "duration": 10,
    "start_time": "2021-07-01T11:58:48.599Z"
   },
   {
    "duration": 132,
    "start_time": "2021-07-01T11:58:48.612Z"
   },
   {
    "duration": 1238,
    "start_time": "2021-09-03T04:16:21.849Z"
   },
   {
    "duration": 61,
    "start_time": "2021-09-03T04:16:26.001Z"
   },
   {
    "duration": 54,
    "start_time": "2021-09-03T04:16:33.582Z"
   },
   {
    "duration": 12,
    "start_time": "2021-09-03T04:16:38.600Z"
   },
   {
    "duration": 30,
    "start_time": "2021-09-03T04:16:45.318Z"
   },
   {
    "duration": 5,
    "start_time": "2021-09-03T04:17:26.543Z"
   },
   {
    "duration": 6,
    "start_time": "2021-09-03T04:17:35.899Z"
   },
   {
    "duration": 5,
    "start_time": "2021-09-03T04:17:49.975Z"
   },
   {
    "duration": 10,
    "start_time": "2021-09-03T04:18:00.560Z"
   },
   {
    "duration": 13,
    "start_time": "2021-09-03T04:18:04.541Z"
   },
   {
    "duration": 5,
    "start_time": "2021-09-03T04:18:05.127Z"
   },
   {
    "duration": 16,
    "start_time": "2021-09-03T04:18:18.573Z"
   },
   {
    "duration": 4,
    "start_time": "2021-09-03T04:18:19.021Z"
   },
   {
    "duration": 11,
    "start_time": "2021-09-03T04:18:19.785Z"
   },
   {
    "duration": 6,
    "start_time": "2021-09-03T04:18:20.606Z"
   },
   {
    "duration": 17,
    "start_time": "2021-09-03T04:18:21.192Z"
   },
   {
    "duration": 22,
    "start_time": "2021-09-03T04:18:24.048Z"
   },
   {
    "duration": 27,
    "start_time": "2021-09-03T04:18:24.678Z"
   },
   {
    "duration": 590,
    "start_time": "2021-09-03T04:18:24.971Z"
   },
   {
    "duration": 5,
    "start_time": "2021-09-03T04:18:25.563Z"
   },
   {
    "duration": 190,
    "start_time": "2021-09-03T04:19:50.833Z"
   },
   {
    "duration": 9,
    "start_time": "2021-09-03T04:19:58.291Z"
   },
   {
    "duration": 13,
    "start_time": "2021-09-03T04:19:58.720Z"
   },
   {
    "duration": 5,
    "start_time": "2021-09-03T04:19:59.180Z"
   },
   {
    "duration": 18,
    "start_time": "2021-09-03T04:20:00.211Z"
   },
   {
    "duration": 20,
    "start_time": "2021-09-03T04:20:01.104Z"
   },
   {
    "duration": 10,
    "start_time": "2021-09-03T04:20:01.903Z"
   },
   {
    "duration": 5,
    "start_time": "2021-09-03T04:20:03.257Z"
   },
   {
    "duration": 20,
    "start_time": "2021-09-03T04:20:22.772Z"
   },
   {
    "duration": 295,
    "start_time": "2021-09-03T04:20:27.723Z"
   },
   {
    "duration": 3,
    "start_time": "2021-09-03T04:20:28.959Z"
   },
   {
    "duration": 8,
    "start_time": "2021-09-03T04:20:40.018Z"
   },
   {
    "duration": 16,
    "start_time": "2021-09-03T04:20:40.412Z"
   },
   {
    "duration": 395,
    "start_time": "2021-09-03T04:20:40.772Z"
   },
   {
    "duration": 7,
    "start_time": "2021-09-03T04:20:45.417Z"
   },
   {
    "duration": 2009,
    "start_time": "2021-09-03T04:20:45.426Z"
   },
   {
    "duration": 20,
    "start_time": "2021-09-03T04:21:20.396Z"
   },
   {
    "duration": 3,
    "start_time": "2021-09-03T04:21:21.577Z"
   },
   {
    "duration": 31,
    "start_time": "2021-09-03T04:21:31.489Z"
   },
   {
    "duration": 3,
    "start_time": "2021-09-03T04:21:39.896Z"
   },
   {
    "duration": 91,
    "start_time": "2021-09-03T04:21:42.491Z"
   },
   {
    "duration": 154,
    "start_time": "2021-09-03T04:21:43.077Z"
   },
   {
    "duration": 402,
    "start_time": "2021-09-03T04:22:16.599Z"
   },
   {
    "duration": 372,
    "start_time": "2021-09-03T04:25:09.046Z"
   },
   {
    "duration": 262,
    "start_time": "2021-09-03T04:25:09.844Z"
   },
   {
    "duration": 5,
    "start_time": "2021-09-03T04:25:22.118Z"
   },
   {
    "duration": 17,
    "start_time": "2021-09-03T04:25:23.299Z"
   },
   {
    "duration": 7,
    "start_time": "2021-09-03T04:25:24.077Z"
   },
   {
    "duration": 2183,
    "start_time": "2021-09-03T04:25:24.561Z"
   },
   {
    "duration": 20,
    "start_time": "2021-09-03T04:25:52.436Z"
   },
   {
    "duration": 146,
    "start_time": "2021-09-03T04:25:52.931Z"
   },
   {
    "duration": 7,
    "start_time": "2021-09-03T04:26:05.624Z"
   },
   {
    "duration": 9,
    "start_time": "2021-09-03T04:26:10.516Z"
   },
   {
    "duration": 542,
    "start_time": "2021-09-03T04:26:14.496Z"
   },
   {
    "duration": 2,
    "start_time": "2021-09-03T04:26:15.781Z"
   },
   {
    "duration": 11,
    "start_time": "2021-09-03T04:27:00.905Z"
   },
   {
    "duration": 8,
    "start_time": "2021-09-03T04:27:09.829Z"
   },
   {
    "duration": 3,
    "start_time": "2021-09-03T04:27:23.923Z"
   },
   {
    "duration": 9,
    "start_time": "2021-09-03T04:27:30.103Z"
   },
   {
    "duration": 400,
    "start_time": "2021-09-03T04:27:35.355Z"
   },
   {
    "duration": 392,
    "start_time": "2021-09-03T04:27:36.366Z"
   },
   {
    "duration": 6,
    "start_time": "2021-09-03T04:27:39.889Z"
   },
   {
    "duration": 6083,
    "start_time": "2021-09-03T04:27:42.612Z"
   },
   {
    "duration": 12,
    "start_time": "2021-09-03T04:28:00.531Z"
   },
   {
    "duration": 299,
    "start_time": "2021-09-03T04:28:01.072Z"
   },
   {
    "duration": 518,
    "start_time": "2021-09-03T04:28:45.266Z"
   },
   {
    "duration": 553,
    "start_time": "2021-09-03T04:29:00.809Z"
   },
   {
    "duration": 6,
    "start_time": "2021-09-03T04:29:07.154Z"
   },
   {
    "duration": 18,
    "start_time": "2021-09-03T04:29:07.763Z"
   },
   {
    "duration": 17,
    "start_time": "2021-09-03T04:29:10.114Z"
   },
   {
    "duration": 632,
    "start_time": "2021-09-03T04:29:11.869Z"
   },
   {
    "duration": 492,
    "start_time": "2021-09-03T04:29:15.279Z"
   },
   {
    "duration": 19,
    "start_time": "2021-09-03T04:29:18.562Z"
   },
   {
    "duration": 18,
    "start_time": "2021-09-03T04:29:19.057Z"
   },
   {
    "duration": 515,
    "start_time": "2021-09-03T04:29:20.689Z"
   },
   {
    "duration": 514,
    "start_time": "2021-09-03T04:29:21.206Z"
   },
   {
    "duration": 18,
    "start_time": "2021-09-03T04:29:45.440Z"
   },
   {
    "duration": 17,
    "start_time": "2021-09-03T04:29:46.051Z"
   },
   {
    "duration": 8,
    "start_time": "2021-09-03T04:30:30.719Z"
   },
   {
    "duration": 5,
    "start_time": "2021-09-03T04:30:52.738Z"
   },
   {
    "duration": 8,
    "start_time": "2021-09-03T04:30:53.761Z"
   },
   {
    "duration": 8,
    "start_time": "2021-09-03T04:31:15.091Z"
   },
   {
    "duration": 6,
    "start_time": "2021-09-03T04:31:15.418Z"
   },
   {
    "duration": 7,
    "start_time": "2021-09-03T04:31:16.003Z"
   }
  ],
  "kernelspec": {
   "display_name": "Python 3",
   "language": "python",
   "name": "python3"
  },
  "language_info": {
   "codemirror_mode": {
    "name": "ipython",
    "version": 3
   },
   "file_extension": ".py",
   "mimetype": "text/x-python",
   "name": "python",
   "nbconvert_exporter": "python",
   "pygments_lexer": "ipython3",
   "version": "3.7.8"
  },
  "toc": {
   "base_numbering": 1,
   "nav_menu": {},
   "number_sections": true,
   "sideBar": true,
   "skip_h1_title": true,
   "title_cell": "Table of Contents",
   "title_sidebar": "Contents",
   "toc_cell": false,
   "toc_position": {
    "height": "calc(100% - 180px)",
    "left": "10px",
    "top": "150px",
    "width": "165px"
   },
   "toc_section_display": true,
   "toc_window_display": true
  }
 },
 "nbformat": 4,
 "nbformat_minor": 2
}
